{
 "cells": [
  {
   "cell_type": "markdown",
   "id": "dea654e0-c7a4-471e-82e9-00b535bdc2bc",
   "metadata": {},
   "source": [
    "# Extract cell type marker regions as BED file"
   ]
  },
  {
   "cell_type": "markdown",
   "id": "05494a1e-f99a-48f1-90fa-c2023b8c5d79",
   "metadata": {},
   "source": [
    "## Load required libraries"
   ]
  },
  {
   "cell_type": "code",
   "execution_count": null,
   "id": "f0701acd-3e39-486f-9d5b-a74a39d3727e",
   "metadata": {},
   "outputs": [],
   "source": [
    "library(EPICATAC)\n",
    "library(tidyr)"
   ]
  },
  {
   "cell_type": "markdown",
   "id": "d409a7a5-399f-4c55-8ad9-37c6bb87a892",
   "metadata": {},
   "source": [
    "## Define output paths"
   ]
  },
  {
   "cell_type": "code",
   "execution_count": null,
   "id": "ae2d41e7-e647-434e-83a9-9321793f18fd",
   "metadata": {},
   "outputs": [],
   "source": [
    "# Define the output directory and BED file path\n",
    "output_directory <- \"/mnt/DATA3/daniel/project/04_DA_and_reference_building/data/\"\n",
    "output_bed_file <- file.path(output_directory, \"cell_type_markers.bed\")\n"
   ]
  },
  {
   "cell_type": "markdown",
   "id": "81c7370a-92bd-4bc3-addf-57cc5745e757",
   "metadata": {},
   "source": [
    "## Extract cell type marker region "
   ]
  },
  {
   "cell_type": "code",
   "execution_count": null,
   "id": "b65ddfcc-cef4-4689-894e-e41253603e12",
   "metadata": {},
   "outputs": [],
   "source": [
    "# Extract all cell type markers from the atacRef_TME object\n",
    "all_cell_types <- names(atacRef_TME$markers)\n",
    "\n",
    "# Create an empty list to store adjusted markers\n",
    "marker_list <- list()\n",
    "\n",
    "for (cell_type in all_cell_types) {\n",
    "  adjusted_markers <- gsub(\"chr(\\\\w+)-\", \"chr\\\\1:\", atacRef_TME$markers[[cell_type]])\n",
    "  adjusted_markers <- adjusted_markers[grep(\"^chr[0-9XYM]+:\\\\d+-\\\\d+$\", adjusted_markers)]\n",
    "  \n",
    "  cell_type_df <- data.frame(Markers = adjusted_markers, stringsAsFactors = FALSE)\n",
    "\n",
    "  # Split chromosome and positions\n",
    "  cell_type_df <- tidyr::separate(cell_type_df, Markers, into = c(\"chrom\", \"start_end\"), sep = \":\", extra = \"drop\", fill = \"right\")\n",
    "  cell_type_df <- tidyr::separate(cell_type_df, start_end, into = c(\"start\", \"end\"), sep = \"-\", extra = \"drop\", fill = \"right\")\n",
    "\n",
    "  # Convert start/end positions to numeric\n",
    "  cell_type_df$start <- suppressWarnings(as.numeric(cell_type_df$start))\n",
    "  cell_type_df$end <- suppressWarnings(as.numeric(cell_type_df$end))\n",
    "\n",
    "  # Remove rows with missing values\n",
    "  cell_type_df <- cell_type_df[!is.na(cell_type_df$start) & !is.na(cell_type_df$end), ]\n",
    "\n",
    "  # Append to list\n",
    "  marker_list[[cell_type]] <- cell_type_df\n",
    "}"
   ]
  },
  {
   "cell_type": "code",
   "execution_count": null,
   "id": "9fffd232-6515-4d0f-87ce-f34109717579",
   "metadata": {},
   "outputs": [],
   "source": [
    "# Combine all markers into a single data frame\n",
    "marker_df <- do.call(rbind, marker_list)\n",
    "\n",
    "# Sort the markers by chromosome and start position\n",
    "marker_df <- marker_df[order(marker_df$chrom, marker_df$start), ]"
   ]
  },
  {
   "cell_type": "code",
   "execution_count": null,
   "id": "61528ece-47e9-46e4-aef1-012deae251ad",
   "metadata": {},
   "outputs": [],
   "source": [
    "print(marker_df)"
   ]
  },
  {
   "cell_type": "code",
   "execution_count": null,
   "id": "52722bd6-dd81-45a8-9e65-f297f1b93e2e",
   "metadata": {},
   "outputs": [],
   "source": [
    "# Save as a BED file (without headers)\n",
    "write.table(marker_df, output_bed_file, sep = \"\\t\", row.names = FALSE, col.names = FALSE, quote = FALSE)\n",
    "\n",
    "print(paste(\"Saved marker list in BED format:\", output_bed_file))"
   ]
  },
  {
   "cell_type": "code",
   "execution_count": null,
   "id": "0ca88430-d0b3-4e9d-a179-1e4e1a1a98a5",
   "metadata": {},
   "outputs": [],
   "source": []
  },
  {
   "cell_type": "code",
   "execution_count": null,
   "id": "85d5fced-3b1f-426e-9454-6d4cad6735cd",
   "metadata": {},
   "outputs": [],
   "source": []
  }
 ],
 "metadata": {
  "kernelspec": {
   "display_name": "R",
   "language": "R",
   "name": "ir"
  },
  "language_info": {
   "codemirror_mode": "r",
   "file_extension": ".r",
   "mimetype": "text/x-r-source",
   "name": "R",
   "pygments_lexer": "r",
   "version": "4.4.2"
  }
 },
 "nbformat": 4,
 "nbformat_minor": 5
}
