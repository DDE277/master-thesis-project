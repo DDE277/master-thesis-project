{
 "cells": [
  {
   "cell_type": "markdown",
   "id": "a3595b76-96f4-4680-b7a1-2a2199183e3e",
   "metadata": {},
   "source": [
    "# Normalize original marker counts using gc content and fq-fq normalization"
   ]
  },
  {
   "cell_type": "markdown",
   "id": "bd94af55-ba8d-44c4-ad62-19b432f4c14a",
   "metadata": {},
   "source": [
    "## Load required libraries"
   ]
  },
  {
   "cell_type": "code",
   "execution_count": null,
   "id": "fbd0a40d-5df1-4454-a612-0c96ec221ecf",
   "metadata": {},
   "outputs": [],
   "source": [
    "library(EDASeq)\n",
    "library(Biostrings)\n",
    "library(ggplot2)\n",
    "library(plotly)"
   ]
  },
  {
   "cell_type": "markdown",
   "id": "9f23836c-0439-4816-9991-e5bf3107a64b",
   "metadata": {},
   "source": [
    "## Load raw counts marker region"
   ]
  },
  {
   "cell_type": "code",
   "execution_count": null,
   "id": "b0988e98-f762-4d7e-9582-6c297b054d57",
   "metadata": {},
   "outputs": [],
   "source": [
    "extracted_df <- read.csv(\"/mnt/DATA3/daniel/project/04_DA_and_reference_building/data/extracted_raw_counts_marker_region.csv\",\n",
    "                         row.names = 1, check.names = FALSE)\n"
   ]
  },
  {
   "cell_type": "code",
   "execution_count": null,
   "id": "510c47f8-644b-4630-943b-47bbd2f4a812",
   "metadata": {},
   "outputs": [],
   "source": [
    "head(extracted_df)"
   ]
  },
  {
   "cell_type": "markdown",
   "id": "4a6803da-701a-4c4a-a791-a261a5e7359a",
   "metadata": {},
   "source": [
    "## GC content in cell type marker regions"
   ]
  },
  {
   "cell_type": "code",
   "execution_count": null,
   "id": "922a3dd0-da64-48a9-a3ef-6bf15428461c",
   "metadata": {},
   "outputs": [],
   "source": [
    "# Load sequences from fasta\n",
    "fasta <- readDNAStringSet(\"/mnt/DATA3/daniel/project/04_DA_and_reference_building/data/cell_type_markers.fa\")\n",
    "                          \n",
    "# Compute GC content\n",
    "gc_content <- letterFrequency(fasta, letters = c(\"G\", \"C\"), as.prob = TRUE)\n",
    "gc_content <- rowSums(gc_content)\n",
    "\n",
    "# Name the gc_content vector with sequence names from fasta\n",
    "names(gc_content) <- names(fasta)\n",
    "\n",
    "head(gc_content)\n"
   ]
  },
  {
   "cell_type": "code",
   "execution_count": null,
   "id": "f20da476-562b-488b-ba78-6fee59d36ec3",
   "metadata": {
    "scrolled": true
   },
   "outputs": [],
   "source": [
    "# Correctly assign names from fasta\n",
    "names(gc_content) <- names(fasta)\n",
    "\n",
    "# Remove \">\" character from fasta names\n",
    "names(gc_content) <- sub(\"^>\", \"\", names(gc_content))\n",
    "\n",
    "# Replace \":\" with \"-\" in gc_content names to match extracted_df rownames\n",
    "names(gc_content) <- gsub(\":\", \"-\", names(gc_content))\n",
    "\n",
    "# Verify again\n",
    "head(names(gc_content))\n",
    "head(rownames(extracted_df))\n"
   ]
  },
  {
   "cell_type": "markdown",
   "id": "db5fdf31-cf50-4749-92ca-9af348bb2b19",
   "metadata": {},
   "source": [
    "## FQ-FQ normalization"
   ]
  },
  {
   "cell_type": "code",
   "execution_count": null,
   "id": "8fb04586-04fa-411d-8fb0-d11052aa1c7c",
   "metadata": {},
   "outputs": [],
   "source": [
    "dataSet <- newSeqExpressionSet(\n",
    "  counts = as.matrix(extracted_df),\n",
    "  featureData = data.frame(gc = gc_content, row.names = names(gc_content))\n",
    ")\n"
   ]
  },
  {
   "cell_type": "code",
   "execution_count": null,
   "id": "75646c76-887c-4942-96d1-9a07464b8972",
   "metadata": {},
   "outputs": [],
   "source": [
    "dataWithin <- withinLaneNormalization(dataSet, \"gc\", which=\"full\")\n",
    "dataNorm <- betweenLaneNormalization(dataWithin, which=\"full\")\n",
    "normCounts <- normCounts(dataNorm)\n"
   ]
  },
  {
   "cell_type": "code",
   "execution_count": null,
   "id": "0fc892d8-86dc-4f64-bd3c-ea54b1e87661",
   "metadata": {},
   "outputs": [],
   "source": [
    "head(normCounts)"
   ]
  },
  {
   "cell_type": "code",
   "execution_count": null,
   "id": "ab035919-b109-47e3-8c5b-50ad9f4342da",
   "metadata": {},
   "outputs": [],
   "source": [
    "colnames(normCounts) <- gsub(\"_[^_]+$\", \"\", colnames(normCounts))\n",
    "head(normCounts)\n"
   ]
  },
  {
   "cell_type": "markdown",
   "id": "f536bc6f-e872-4eac-a24c-aeb32abfcbbf",
   "metadata": {},
   "source": [
    "## Save files as csv"
   ]
  },
  {
   "cell_type": "code",
   "execution_count": null,
   "id": "1ab33e60-5934-4d70-a3fe-c076506bb946",
   "metadata": {},
   "outputs": [],
   "source": [
    "# Save to CSV:\n",
    "write.csv(normCounts, file = \"/mnt/DATA3/daniel/project/04_DA_and_reference_building/data/normCounts_cell_type_markers.csv\", row.names = TRUE)"
   ]
  },
  {
   "cell_type": "code",
   "execution_count": null,
   "id": "d22d9ce3-0603-49af-aca8-71438e1075e6",
   "metadata": {},
   "outputs": [],
   "source": []
  },
  {
   "cell_type": "code",
   "execution_count": null,
   "id": "39412629-6c03-487a-8cfb-555c8db2e436",
   "metadata": {},
   "outputs": [],
   "source": []
  }
 ],
 "metadata": {
  "kernelspec": {
   "display_name": "R",
   "language": "R",
   "name": "ir"
  },
  "language_info": {
   "codemirror_mode": "r",
   "file_extension": ".r",
   "mimetype": "text/x-r-source",
   "name": "R",
   "pygments_lexer": "r",
   "version": "4.4.2"
  }
 },
 "nbformat": 4,
 "nbformat_minor": 5
}
