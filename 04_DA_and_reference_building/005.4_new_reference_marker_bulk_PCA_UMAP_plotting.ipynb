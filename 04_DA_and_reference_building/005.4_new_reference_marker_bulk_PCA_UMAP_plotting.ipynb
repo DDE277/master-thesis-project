{
 "cells": [
  {
   "cell_type": "markdown",
   "id": "e4a51d57-3c24-4fb8-81fb-7c8ac2f055f0",
   "metadata": {},
   "source": [
    "# Dimensionality reduction and visualization of new marker based cell types"
   ]
  },
  {
   "cell_type": "markdown",
   "id": "6382d1e3-8bb6-415a-b975-5cdeca236863",
   "metadata": {},
   "source": [
    "## Load required libraries"
   ]
  },
  {
   "cell_type": "code",
   "execution_count": null,
   "id": "e2bd75d9-d0f7-4667-90aa-2948cc8a6edb",
   "metadata": {},
   "outputs": [],
   "source": [
    "import pandas as pd\n",
    "from sklearn.decomposition import PCA\n",
    "import matplotlib.pyplot as plt\n",
    "import seaborn as sns\n",
    "from mpl_toolkits.mplot3d import Axes3D  \n",
    "from sklearn.preprocessing import MinMaxScaler\n",
    "from sklearn.metrics import silhouette_score\n",
    "import re\n",
    "import umap\n"
   ]
  },
  {
   "cell_type": "markdown",
   "id": "a803d8e9-3d6f-4967-a288-abd1392cdf33",
   "metadata": {},
   "source": [
    "## Load normalized marker counts"
   ]
  },
  {
   "cell_type": "code",
   "execution_count": null,
   "id": "b91281f3-ec9e-4261-b644-b8bd142df913",
   "metadata": {},
   "outputs": [],
   "source": [
    "# Load the CSV file into a DataFrame.\n",
    "normalized_df = pd.read_csv(\"/mnt/DATA3/daniel/project/04_DA_and_reference_building/data/normCounts_cell_type_pairwise_markers.csv\", index_col=0)\n"
   ]
  },
  {
   "cell_type": "code",
   "execution_count": null,
   "id": "b7f02451-7416-4d70-970a-136990d4a58d",
   "metadata": {},
   "outputs": [],
   "source": [
    "# print(normalized_df.head())"
   ]
  },
  {
   "cell_type": "code",
   "execution_count": null,
   "id": "b66a53e1-ef11-4e7f-8c61-e7ce90bde3be",
   "metadata": {},
   "outputs": [],
   "source": [
    "# Function to rename columns\n",
    "def rename_columns(col):\n",
    "    # Standardize immune cell names\n",
    "    if 'CD4' in col or 'Tregs' in col:\n",
    "        return 'CD4_Tcells'\n",
    "    elif 'CD8' in col:\n",
    "        return 'CD8_Tcells'\n",
    "    \n",
    "    # Match cancer sample labels \n",
    "    match = re.match(r'([A-Z]+)_([A-Za-z0-9]+)', col)\n",
    "    if match:\n",
    "        cancer_type, identifier = match.groups()\n",
    "        return f\"{cancer_type}\"  \n",
    "    \n",
    "    # Remove numeric suffixes\n",
    "    return col.split('.')[0]\n",
    "\n",
    "# Apply renaming to DataFrame columns\n",
    "normalized_df.columns = [rename_columns(col) for col in normalized_df.columns]\n",
    "\n",
    "# Verify changes\n",
    "print(normalized_df.head())\n"
   ]
  },
  {
   "cell_type": "code",
   "execution_count": null,
   "id": "23cf8f9a-dc48-4e94-911c-629b37dbc8b4",
   "metadata": {},
   "outputs": [],
   "source": [
    "# Drop Monocyte columns\n",
    "normalized_df = normalized_df.loc[:, ~normalized_df.columns.str.contains('Monocytes')]\n",
    "\n",
    "# Rename 'hepatocytes' to 'Hepatocytes' \n",
    "normalized_df = normalized_df.rename(columns={\"hepatocytes\": \"Hepatocytes\"})\n",
    "\n",
    "# Check result\n",
    "# print(normalized_df.head())\n"
   ]
  },
  {
   "cell_type": "code",
   "execution_count": null,
   "id": "a064d7cf-80b0-4c10-89fc-164bfbaf944d",
   "metadata": {},
   "outputs": [],
   "source": [
    "# PCA calculation\n",
    "pca = PCA(n_components=3)\n",
    "pca_results = pca.fit_transform(normalized_df.T)\n",
    "\n",
    "# Create DataFrame with PCA results\n",
    "pca_df = pd.DataFrame(pca_results, columns=['PC1', 'PC2', 'PC3'])\n",
    "\n",
    "# Extract cell type labels\n",
    "pca_df['Cell_type_group'] = [col.split('.')[0] for col in normalized_df.columns]\n",
    "\n",
    "# Generate distinct color palette\n",
    "unique_types = pca_df['Cell_type_group'].unique()\n",
    "palette = sns.color_palette(\"husl\", len(unique_types))\n",
    "color_dict = dict(zip(unique_types, palette))"
   ]
  },
  {
   "cell_type": "markdown",
   "id": "391fbe4d-0adc-408f-b3ad-6732a2651123",
   "metadata": {},
   "source": [
    "## Scale from 0 to 1"
   ]
  },
  {
   "cell_type": "code",
   "execution_count": null,
   "id": "79748cb0-4a3e-4596-9aac-c39631706bf6",
   "metadata": {},
   "outputs": [],
   "source": [
    "# Rescale PCA results to [-1, 1]\n",
    "scaler = MinMaxScaler(feature_range=(-1, 1))\n",
    "scaled_pca = scaler.fit_transform(pca_df[['PC1', 'PC2', 'PC3']])\n",
    "\n",
    "# Update pca_df with scaled values\n",
    "pca_df_scaled = pd.DataFrame(scaled_pca, columns=['PC1', 'PC2', 'PC3'])\n",
    "pca_df_scaled['Cell_type_group'] = pca_df['Cell_type_group']\n",
    "\n",
    "# check\n",
    "print(pca_df_scaled.head())\n"
   ]
  },
  {
   "cell_type": "markdown",
   "id": "5e8b1808-c790-46f8-9bf9-4b595fc17636",
   "metadata": {},
   "source": [
    "## Compute the Silhouette Score"
   ]
  },
  {
   "cell_type": "code",
   "execution_count": null,
   "id": "0ce7c916-ef9f-42a0-9e5c-8bde34c08a7b",
   "metadata": {},
   "outputs": [],
   "source": [
    "overall_silhouette = silhouette_score(\n",
    "    pca_df_scaled[['PC1', 'PC2', 'PC3']],\n",
    "    pca_df_scaled['Cell_type_group']\n",
    ")\n",
    "\n",
    "print(f\"Overall Silhouette Score: {overall_silhouette:.3f}\")\n"
   ]
  },
  {
   "cell_type": "markdown",
   "id": "9b241f21-6043-43ef-a818-8fc09c831344",
   "metadata": {},
   "source": [
    "## 3D PCA Plot"
   ]
  },
  {
   "cell_type": "code",
   "execution_count": null,
   "id": "4995162d-852e-4dcc-99b2-2b259921af24",
   "metadata": {},
   "outputs": [],
   "source": [
    "# Generate color palette\n",
    "num_cell_types = len(unique_types)\n",
    "distinct_colors = sns.color_palette(\"tab20\", n_colors=num_cell_types)  \n",
    "\n",
    "# Assign colors to each cell type\n",
    "color_dict = {ctype: distinct_colors[i] for i, ctype in enumerate(unique_types)}\n",
    "\n",
    "# Define new markers \n",
    "new_markers = {'COAD', 'BRCA', 'LUAD', 'LUSC', 'hepatocytes'} \n",
    "\n",
    "# Create figure\n",
    "fig = plt.figure(figsize=(12, 9))\n",
    "ax = fig.add_subplot(111, projection='3d')\n",
    "ax.view_init(elev=30, azim=-45)  # Adjust viewpoint\n",
    "\n",
    "# Background color adjustments\n",
    "ax.set_facecolor('white')\n",
    "fig.patch.set_facecolor('white')\n",
    "\n",
    "# Grid lines\n",
    "ax.grid(color='gray', linestyle='-', linewidth=0.4, alpha=0.4)\n",
    "\n",
    "# Plot points and thin vertical lines\n",
    "for ctype in unique_types:\n",
    "    idx = pca_df_scaled['Cell_type_group'] == ctype\n",
    "    \n",
    "    \n",
    "    marker_style = '^' if ctype in new_markers else 'o'  \n",
    "    \n",
    "    ax.scatter(\n",
    "        pca_df_scaled.loc[idx, 'PC2'],\n",
    "        pca_df_scaled.loc[idx, 'PC1'],\n",
    "        pca_df_scaled.loc[idx, 'PC3'],\n",
    "        label=ctype,\n",
    "        s=70 if ctype in new_markers else 50,  \n",
    "        alpha=0.9,\n",
    "        edgecolors='black',\n",
    "        linewidths=0.7,\n",
    "        color=color_dict[ctype],\n",
    "        marker=marker_style\n",
    "    )\n",
    "    \n",
    "    # Add vertical lines\n",
    "    for x, y, z in zip(pca_df_scaled.loc[idx, 'PC2'], \n",
    "                       pca_df_scaled.loc[idx, 'PC1'], \n",
    "                       pca_df_scaled.loc[idx, 'PC3']):\n",
    "        ax.plot([x, x], [y, y], [-1, z], color='gray', linewidth=0.3, alpha=0.5)\n",
    "\n",
    "# Set axis ticks\n",
    "ticks = [-1, -0.5, 0, 0.5, 1]\n",
    "ax.set_xticks(ticks)\n",
    "ax.set_xticklabels([str(t) for t in ticks], fontsize=14, fontweight='bold')\n",
    "\n",
    "ax.set_yticks(ticks)\n",
    "ax.set_yticklabels([str(t) for t in ticks], fontsize=14, fontweight='bold')\n",
    "\n",
    "ax.set_zticks(ticks)\n",
    "ax.set_zticklabels([str(t) for t in ticks], fontsize=14, fontweight='bold')\n",
    "\n",
    "# Axis labels with bold font and additional padding\n",
    "ax.set_xlabel('PC2', fontsize=16, fontweight='bold', labelpad=10)\n",
    "ax.set_ylabel('PC1', fontsize=16, fontweight='bold', labelpad=10)\n",
    "ax.set_zlabel('PC3', fontsize=16, fontweight='bold', labelpad=10)\n",
    "\n",
    "# Add title\n",
    "plt.title(\"PCA with new marker\", fontsize=20, fontweight=\"bold\", loc=\"center\")\n",
    "\n",
    "# Legend outside\n",
    "legend = ax.legend(title='Cell types', bbox_to_anchor=(1.10, 0.85), loc='upper left',\n",
    "                   fontsize=14, title_fontsize=16, frameon=False, markerscale=2.0)\n",
    "\n",
    "# Silhouette score annotation\n",
    "ax.text2D(0.15, 0.75, f\"Silhouette score: {overall_silhouette:.2f}\",\n",
    "          transform=ax.transAxes, fontsize=16, ha='left', va='top')\n",
    "\n",
    "# Save figure\n",
    "plt.savefig(\"PCA_new_markers.png\", dpi=600, bbox_inches=\"tight\")\n",
    "\n",
    "# Show the figure\n",
    "plt.show()\n"
   ]
  },
  {
   "cell_type": "markdown",
   "id": "920cb7e2-882e-4fcf-99e1-762db66e746d",
   "metadata": {},
   "source": [
    "## UMAP plotting"
   ]
  },
  {
   "cell_type": "code",
   "execution_count": null,
   "id": "813728a7-280a-491c-b88c-babe7b79f5e1",
   "metadata": {},
   "outputs": [],
   "source": [
    "# Define color palette\n",
    "distinct_colors = [\n",
    "    \"#E41A1C\", \"#377EB8\", \"#4DAF4A\", \"#984EA3\", \"#FF7F00\", \n",
    "    \"#FFFF33\", \"#A65628\", \"#F781BF\", \"#999999\", \"#66C2A5\",\n",
    "    \"#FC8D62\", \"#8DA0CB\", \"#E78AC3\", \"#A6D854\", \"#FFD92F\",\n",
    "    \"#E5C494\", \"#B3B3B3\", \"#1B9E77\", \"#D95F02\", \"#7570B3\"\n",
    "]  \n",
    "\n",
    "# Assign colors to each cell type \n",
    "num_cell_types = len(unique_types)\n",
    "color_dict = {ctype: distinct_colors[i % len(distinct_colors)] for i, ctype in enumerate(unique_types)}\n",
    "\n",
    "# Apply UMAP \n",
    "umap_model = umap.UMAP(n_components=2, n_neighbors=30, min_dist=0.9, metric='euclidean', random_state=42)\n",
    "embedding = umap_model.fit_transform(pca_df_scaled.drop(columns=['Cell_type_group']))\n",
    "\n",
    "# Convert UMAP results to DataFrame\n",
    "umap_df = pca_df_scaled.copy()\n",
    "umap_df[['UMAP1', 'UMAP2']] = embedding\n",
    "\n",
    "# Create figure\n",
    "plt.figure(figsize=(14, 10))\n",
    "\n",
    "# Plot each cell type separately\n",
    "for ctype in unique_types:\n",
    "    idx = umap_df['Cell_type_group'] == ctype\n",
    "    \n",
    "    plt.scatter(\n",
    "        umap_df.loc[idx, 'UMAP1'],\n",
    "        umap_df.loc[idx, 'UMAP2'],\n",
    "        label=ctype,\n",
    "        s=120,  \n",
    "        alpha=0.95,  \n",
    "        edgecolors='black',\n",
    "        linewidths=1,\n",
    "        color=color_dict[ctype],\n",
    "        marker='o'  \n",
    "    )\n",
    "\n",
    "# Add labels and title\n",
    "plt.xlabel(\"UMAP1\", fontsize=20, fontweight='bold')\n",
    "plt.ylabel(\"UMAP2\", fontsize=20, fontweight='bold')\n",
    "plt.title(\"UMAP with new markers\", fontsize=30, fontweight=\"bold\", pad=20)\n",
    "\n",
    "# Add legend\n",
    "plt.legend(title=\"Cell types\", bbox_to_anchor=(1.05, 1), loc='upper left', fontsize=20, title_fontsize=20, frameon=False)\n",
    "\n",
    "# Save figure\n",
    "plt.savefig(\"UMAP_new_markers.png\", dpi=600, bbox_inches=\"tight\")\n",
    "\n",
    "# Show the figure\n",
    "plt.show()\n"
   ]
  },
  {
   "cell_type": "code",
   "execution_count": null,
   "id": "d9370b01-b1ec-444a-aea8-8db0e3f0e971",
   "metadata": {},
   "outputs": [],
   "source": []
  },
  {
   "cell_type": "code",
   "execution_count": null,
   "id": "1fd10f86-facd-4409-ae72-a5fcd9196752",
   "metadata": {},
   "outputs": [],
   "source": []
  },
  {
   "cell_type": "code",
   "execution_count": null,
   "id": "5c8e3f05-3285-49b5-974c-b356b79cd8cf",
   "metadata": {},
   "outputs": [],
   "source": []
  }
 ],
 "metadata": {
  "kernelspec": {
   "display_name": "Python 3 (ipykernel)",
   "language": "python",
   "name": "python3"
  },
  "language_info": {
   "codemirror_mode": {
    "name": "ipython",
    "version": 3
   },
   "file_extension": ".py",
   "mimetype": "text/x-python",
   "name": "python",
   "nbconvert_exporter": "python",
   "pygments_lexer": "ipython3",
   "version": "3.9.18"
  }
 },
 "nbformat": 4,
 "nbformat_minor": 5
}
