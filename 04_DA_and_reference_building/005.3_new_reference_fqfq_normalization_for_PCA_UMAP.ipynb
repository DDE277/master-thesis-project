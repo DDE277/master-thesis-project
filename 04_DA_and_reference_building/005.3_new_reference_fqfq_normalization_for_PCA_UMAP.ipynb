{
 "cells": [
  {
   "cell_type": "markdown",
   "id": "1f5c8eee-afcd-4300-a88b-8bcbc072d010",
   "metadata": {},
   "source": [
    "# Normalize new marker counts using gc content and fq-fq normalization"
   ]
  },
  {
   "cell_type": "markdown",
   "id": "62fc9fec-22fa-4e3f-aca0-e28fca00f215",
   "metadata": {},
   "source": [
    "## Load required libraries"
   ]
  },
  {
   "cell_type": "code",
   "execution_count": null,
   "id": "286b019c-49c9-43c9-8a89-c13120536d79",
   "metadata": {},
   "outputs": [],
   "source": [
    "library(EDASeq)\n",
    "library(Biostrings)\n",
    "library(ggplot2)\n",
    "library(plotly)"
   ]
  },
  {
   "cell_type": "markdown",
   "id": "c0bbc048-2769-4211-907a-9b5813dafb32",
   "metadata": {},
   "source": [
    "## Load new markers"
   ]
  },
  {
   "cell_type": "code",
   "execution_count": null,
   "id": "b0988e98-f762-4d7e-9582-6c297b054d57",
   "metadata": {},
   "outputs": [],
   "source": [
    "extracted_df <- read.csv(\"/mnt/DATA3/daniel/project/04_DA_and_reference_building/data/extracted_raw_counts_pairwise_marker_region.csv\",\n",
    "                         row.names = 1, check.names = FALSE)\n"
   ]
  },
  {
   "cell_type": "code",
   "execution_count": null,
   "id": "510c47f8-644b-4630-943b-47bbd2f4a812",
   "metadata": {},
   "outputs": [],
   "source": [
    "head(extracted_df)"
   ]
  },
  {
   "cell_type": "markdown",
   "id": "4a6803da-701a-4c4a-a791-a261a5e7359a",
   "metadata": {},
   "source": [
    "## GC content in cell type marker regions"
   ]
  },
  {
   "cell_type": "code",
   "execution_count": null,
   "id": "922a3dd0-da64-48a9-a3ef-6bf15428461c",
   "metadata": {},
   "outputs": [],
   "source": [
    "# Load sequences from fasta\n",
    "fasta <- readDNAStringSet(\"/mnt/DATA3/daniel/project/04_DA_and_reference_building/data/new_pairwise_cell_types_markers.fa\")\n",
    "                          \n",
    "# Compute GC content\n",
    "gc_content <- letterFrequency(fasta, letters = c(\"G\", \"C\"), as.prob = TRUE)\n",
    "gc_content <- rowSums(gc_content)\n",
    "\n",
    "# Name the gc_content vector with sequence names from fasta\n",
    "names(gc_content) <- names(fasta)\n",
    "\n",
    "head(gc_content)\n"
   ]
  },
  {
   "cell_type": "code",
   "execution_count": null,
   "id": "f20da476-562b-488b-ba78-6fee59d36ec3",
   "metadata": {
    "scrolled": true
   },
   "outputs": [],
   "source": [
    "# Correctly assign names from fasta\n",
    "names(gc_content) <- names(fasta)\n",
    "\n",
    "# Remove \">\" character from fasta names\n",
    "names(gc_content) <- sub(\"^>\", \"\", names(gc_content))\n",
    "\n",
    "# Replace \":\" with \"-\" in gc_content names to match extracted_df rownames\n",
    "names(gc_content) <- gsub(\":\", \"-\", names(gc_content))\n",
    "\n",
    "# Verify again\n",
    "head(names(gc_content))\n",
    "head(rownames(extracted_df))\n"
   ]
  },
  {
   "cell_type": "markdown",
   "id": "db5fdf31-cf50-4749-92ca-9af348bb2b19",
   "metadata": {},
   "source": [
    "## FQ-FQ normalization"
   ]
  },
  {
   "cell_type": "code",
   "execution_count": null,
   "id": "8fb04586-04fa-411d-8fb0-d11052aa1c7c",
   "metadata": {},
   "outputs": [],
   "source": [
    "dataSet <- newSeqExpressionSet(\n",
    "  counts = as.matrix(extracted_df),\n",
    "  featureData = data.frame(gc = gc_content, row.names = names(gc_content))\n",
    ")\n"
   ]
  },
  {
   "cell_type": "code",
   "execution_count": null,
   "id": "75646c76-887c-4942-96d1-9a07464b8972",
   "metadata": {},
   "outputs": [],
   "source": [
    "dataWithin <- withinLaneNormalization(dataSet, \"gc\", which=\"full\")\n",
    "dataNorm <- betweenLaneNormalization(dataWithin, which=\"full\")\n",
    "normCounts <- normCounts(dataNorm)\n"
   ]
  },
  {
   "cell_type": "code",
   "execution_count": null,
   "id": "0fc892d8-86dc-4f64-bd3c-ea54b1e87661",
   "metadata": {},
   "outputs": [],
   "source": [
    "head(normCounts)"
   ]
  },
  {
   "cell_type": "code",
   "execution_count": null,
   "id": "ab035919-b109-47e3-8c5b-50ad9f4342da",
   "metadata": {},
   "outputs": [],
   "source": [
    "colnames(normCounts) <- gsub(\"_[^_]+$\", \"\", colnames(normCounts))\n",
    "head(normCounts)\n"
   ]
  },
  {
   "cell_type": "markdown",
   "id": "f536bc6f-e872-4eac-a24c-aeb32abfcbbf",
   "metadata": {},
   "source": [
    "## Save files as csv"
   ]
  },
  {
   "cell_type": "code",
   "execution_count": null,
   "id": "1ab33e60-5934-4d70-a3fe-c076506bb946",
   "metadata": {},
   "outputs": [],
   "source": [
    "# Save to CSV:\n",
    "write.csv(normCounts, file = \"/mnt/DATA3/daniel/project/04_DA_and_reference_building/data/normCounts_cell_type_pairwise_markers.csv\", row.names = TRUE)\n"
   ]
  },
  {
   "cell_type": "code",
   "execution_count": null,
   "id": "d7e4f5a3-7be1-452b-98e3-52e6d964bca2",
   "metadata": {},
   "outputs": [],
   "source": []
  },
  {
   "cell_type": "code",
   "execution_count": null,
   "id": "a127c65d-a169-4966-814b-fc1b393d8b7a",
   "metadata": {},
   "outputs": [],
   "source": []
  },
  {
   "cell_type": "code",
   "execution_count": null,
   "id": "47af237e-5fff-4fd6-8ea1-8e8dcc72ba5d",
   "metadata": {},
   "outputs": [],
   "source": []
  }
 ],
 "metadata": {
  "kernelspec": {
   "display_name": "R",
   "language": "R",
   "name": "ir"
  },
  "language_info": {
   "codemirror_mode": "r",
   "file_extension": ".r",
   "mimetype": "text/x-r-source",
   "name": "R",
   "pygments_lexer": "r",
   "version": "4.4.2"
  }
 },
 "nbformat": 4,
 "nbformat_minor": 5
}
