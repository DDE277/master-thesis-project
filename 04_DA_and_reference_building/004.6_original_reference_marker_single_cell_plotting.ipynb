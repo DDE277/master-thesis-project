{
 "cells": [
  {
   "cell_type": "markdown",
   "id": "e26ef17b-5f20-470b-a8da-2e908889ce28",
   "metadata": {},
   "source": [
    "# Original reference cell-type specific marker plotting in single-cell data"
   ]
  },
  {
   "cell_type": "markdown",
   "id": "6ac18139-b68e-49f7-90b9-7945b6f309dc",
   "metadata": {},
   "source": [
    "## Load required libraries"
   ]
  },
  {
   "cell_type": "code",
   "execution_count": null,
   "id": "df6ae112-2d24-4497-bb13-385c9c4504b8",
   "metadata": {},
   "outputs": [],
   "source": [
    "import pandas as pd\n",
    "import glob\n",
    "import os\n",
    "import seaborn as sns\n",
    "import matplotlib.pyplot as plt\n",
    "import numpy as np\n",
    "from matplotlib.colors import LinearSegmentedColormap\n",
    "from sklearn.preprocessing import MinMaxScaler\n",
    "from scipy.stats import zscore"
   ]
  },
  {
   "cell_type": "markdown",
   "id": "f91e99eb-c799-42bd-b22b-c24dee30e9d1",
   "metadata": {},
   "source": [
    "## Load markers"
   ]
  },
  {
   "cell_type": "code",
   "execution_count": null,
   "id": "9b8916d5-8e3f-4c5d-b9a0-c5bab8fa504a",
   "metadata": {},
   "outputs": [],
   "source": [
    "# Load the markers file\n",
    "df_markers = pd.read_csv(\"/mnt/DATA3/daniel/project/01_ATAC_preprocessing/data/subset_trimmed_data_markers/all_cell_types_markers.csv\")\n",
    "\n",
    "# Check structure\n",
    "print(df_markers.head())\n"
   ]
  },
  {
   "cell_type": "code",
   "execution_count": null,
   "id": "32047a71-1573-4565-9c1a-687b95f2a498",
   "metadata": {},
   "outputs": [],
   "source": [
    "# Load the markers file\n",
    "df_sc_matrix = pd.read_csv(\"/mnt/DATA3/daniel/project/04_DA_and_reference_building/data/sc_marker_regions.csv\")\n",
    "\n",
    "# Check structure\n",
    "print(df_sc_matrix.head())"
   ]
  },
  {
   "cell_type": "code",
   "execution_count": null,
   "id": "932fad0d-7069-4ae1-8f7e-ac3158fe10a6",
   "metadata": {},
   "outputs": [],
   "source": [
    "# Rename columns in df_markers to match df_sc_matrix\n",
    "df_markers.rename(columns={'chrom': 'Chromosome', 'start': 'Start', 'end': 'End'}, inplace=True)\n",
    "\n",
    "# Merge the two dataframes on Chromosome, Start, and End\n",
    "df_merged = df_sc_matrix.merge(df_markers, on=['Chromosome', 'Start', 'End'], how='left')\n",
    "\n",
    "# Reorder columns to place 'cell_type' as the first column\n",
    "columns_order = ['cell_type'] + [col for col in df_merged.columns if col != 'cell_type']\n",
    "df_merged = df_merged[columns_order]\n",
    "\n",
    "# Display the first few rows to check\n",
    "print(df_merged.head())\n"
   ]
  },
  {
   "cell_type": "code",
   "execution_count": null,
   "id": "5e0af344-1e1e-4dde-93c6-12756b2b92fb",
   "metadata": {},
   "outputs": [],
   "source": [
    "print(df_merged.isna().sum().sum()) "
   ]
  },
  {
   "cell_type": "code",
   "execution_count": null,
   "id": "8bbdbf23-510a-4c4e-9994-1b6dbc229ce4",
   "metadata": {},
   "outputs": [],
   "source": [
    "# Exclude metadata columns\n",
    "metadata_cols = [\"cell_type\", \"Chromosome\", \"Start\", \"End\"]\n",
    "count_cols = [col for col in df_merged.columns if col not in metadata_cols]\n",
    "\n",
    "# Separate metadata and count data\n",
    "df_metadata = df_merged[metadata_cols].copy()  \n",
    "df_counts = df_merged[count_cols].copy()  \n",
    "\n",
    "# Initialize MinMaxScaler to scale between -4 and 4\n",
    "scaler = MinMaxScaler(feature_range=(-1, 1))\n",
    "\n",
    "# Apply MinMax scaling to count data\n",
    "df_counts_scaled = pd.DataFrame(scaler.fit_transform(df_counts), columns=count_cols)\n",
    "\n",
    "# Merge metadata back with scaled counts\n",
    "df_scaled_final = pd.concat([df_metadata, df_counts_scaled], axis=1)"
   ]
  },
  {
   "cell_type": "code",
   "execution_count": null,
   "id": "8162e8f8-75d5-47ae-8693-9c856ff7e96d",
   "metadata": {},
   "outputs": [],
   "source": [
    "print(df_scaled_final)"
   ]
  },
  {
   "cell_type": "code",
   "execution_count": null,
   "id": "15987faf-5cc1-4035-8907-2762a4d7dbea",
   "metadata": {},
   "outputs": [],
   "source": [
    "# Exclude metadata columns\n",
    "metadata_cols = [\"cell_type\", \"Chromosome\", \"Start\", \"End\"]\n",
    "df_counts = df_scaled_final.drop(columns=metadata_cols)\n",
    "\n",
    "# Apply Z-score normalization (column-wise)\n",
    "df_counts_zscore = df_counts.apply(zscore, axis=0)\n",
    "\n",
    "# Reattach metadata\n",
    "df_zscore_normalized = df_scaled_final[metadata_cols].copy()\n",
    "df_zscore_normalized = pd.concat([df_zscore_normalized, df_counts_zscore], axis=1)"
   ]
  },
  {
   "cell_type": "code",
   "execution_count": null,
   "id": "72890117-5d9b-4ec6-b45a-5f5e4361d057",
   "metadata": {},
   "outputs": [],
   "source": [
    "print(df_zscore_normalized.describe())"
   ]
  },
  {
   "cell_type": "code",
   "execution_count": null,
   "id": "66f03932-454a-4ae5-be2d-ba7765f7b251",
   "metadata": {},
   "outputs": [],
   "source": [
    "# Clip values to stay within [-4, 4]\n",
    "df_counts_zscore_clipped = df_counts_zscore.clip(-4, 4)\n",
    "\n",
    "# Reattach metadata\n",
    "df_zscore_clipped = df_scaled_final[metadata_cols].copy()  # Copy metadata columns\n",
    "df_zscore_clipped = pd.concat([df_zscore_clipped, df_counts_zscore_clipped], axis=1)  \n",
    "\n",
    "# Display first few rows\n",
    "print(df_zscore_clipped)\n"
   ]
  },
  {
   "cell_type": "markdown",
   "id": "6aafbaa0-faac-461f-9c60-c1378ac9657c",
   "metadata": {},
   "source": [
    "## Clean up naming and order"
   ]
  },
  {
   "cell_type": "code",
   "execution_count": null,
   "id": "5954c129-d4e2-4514-856e-ce35968c9bb2",
   "metadata": {},
   "outputs": [],
   "source": [
    "rename_dict = {\n",
    "    \"T Lymphocyte 1 (CD8+)\": \"CD8_Tcells\",\n",
    "    \"T lymphocyte 2 (CD4+)\": \"CD4_Tcells\",\n",
    "    \"Naive T\": \"Naive T\",\n",
    "    \"Natural Killer T\": \"NK\",\n",
    "    \"Fibro\": \"Fibroblasts\",\n",
    "    \"Endothelial_General\": \"Endothelial\",\n",
    "    \"Macrophage\": \"Macrophages\",\n",
    "    \"Plasma_Memory_B\": \"Bcells\"   \n",
    "}\n",
    "\n",
    "# Only rename columns that exist\n",
    "rename_dict = {old: new for old, new in rename_dict.items() if old in df_zscore_clipped.columns}\n",
    "\n",
    "df_zscore_clipped.rename(columns=rename_dict, inplace=True)\n",
    "\n",
    "# Verify the renamed columns\n",
    "print(df_zscore_clipped)\n"
   ]
  },
  {
   "cell_type": "code",
   "execution_count": null,
   "id": "f7f8ce86-fe4c-41cf-bd6e-b3f394e49eeb",
   "metadata": {},
   "outputs": [],
   "source": [
    "# Remove rows where 'cell_type' is 'DCs' or 'Neutrophils'\n",
    "df_zscore_clipped = df_zscore_clipped[~df_zscore_clipped['cell_type'].isin(['DCs', 'Neutrophils'])]\n",
    "\n",
    "# Also remove rows where 'cell_type' is NaN\n",
    "df_zscore_clipped = df_zscore_clipped.dropna(subset=['cell_type'])\n",
    "\n",
    "# Verify removal\n",
    "print(df_zscore_clipped['cell_type'].unique())  # Check unique values\n",
    "print(df_zscore_clipped['cell_type'].value_counts())  # Verify counts\n",
    "print(df_zscore_clipped.isna().sum())  # Check if any NaNs remain\n"
   ]
  },
  {
   "cell_type": "code",
   "execution_count": null,
   "id": "afec93b2-6b77-4f06-b79d-1456d1524494",
   "metadata": {},
   "outputs": [],
   "source": [
    "# Define the new desired order for `cell_type`\n",
    "desired_cell_type_order = [\n",
    "    \"Bcells\", \"CD4_Tcells\", \"CD8_Tcells\", \"NK\", \"Macrophages\", \"Endothelial\", \"Fibroblasts\"\n",
    "]\n",
    "\n",
    "# Convert `cell_type` column to categorical type with defined order\n",
    "df_zscore_clipped[\"cell_type\"] = pd.Categorical(\n",
    "    df_zscore_clipped[\"cell_type\"], \n",
    "    categories=desired_cell_type_order, \n",
    "    ordered=True\n",
    ")\n",
    "\n",
    "# Sort DataFrame based on the ordered `cell_type` column\n",
    "df_zscore_clipped = df_zscore_clipped.sort_values(\"cell_type\")\n",
    "\n",
    "# Display the first few rows to verify the new order\n",
    "print(df_zscore_clipped)\n"
   ]
  },
  {
   "cell_type": "code",
   "execution_count": null,
   "id": "9616be6d-a787-4055-b5b3-53312a777a30",
   "metadata": {},
   "outputs": [],
   "source": [
    "# Define the desired column order\n",
    "desired_column_order = [\n",
    "    \"Bcells\", \"CD4_Tcells\", \"CD8_Tcells\", \"NK\", \"Macrophages\", \n",
    "    \"Endothelial\", \"Fibroblasts\"\n",
    "]\n",
    "\n",
    "# Identify all remaining columns \n",
    "metadata_cols = [\"cell_type\", \"Chromosome\", \"Start\", \"End\"]\n",
    "remaining_columns = [col for col in df_zscore_clipped.columns if col not in desired_column_order + metadata_cols]\n",
    "\n",
    "# Remove other cell types\n",
    "remaining_columns = [col for col in remaining_columns if col not in [\"Naive T\", \"Acinar\", \"Ductal\", \"Airway Goblet\", \"Colon Goblet\", \"Mast\", \"Tuft\", \"Hepatocyte\", \"Colon_Epithelial\", \"Mammary_Luminal_Epi\", \"Alveolar\"]]\n",
    "\n",
    "# Define final column order\n",
    "final_column_order = metadata_cols + desired_column_order + remaining_columns\n",
    "\n",
    "# Reorder columns (without modifying index)\n",
    "df_zscore_clipped = df_zscore_clipped[final_column_order]\n",
    "\n",
    "# Display first few rows to verify\n",
    "print(df_zscore_clipped.head())\n"
   ]
  },
  {
   "cell_type": "code",
   "execution_count": null,
   "id": "394fc45c-bb0d-4a12-88bb-318cd523b2ba",
   "metadata": {},
   "outputs": [],
   "source": [
    "# Compute y-axis labels\n",
    "cell_types = df_zscore_clipped[\"cell_type\"].astype(str).tolist()\n",
    "n = len(cell_types)\n",
    "middle_labels = [\"\"] * n\n",
    "start = 0\n",
    "for i in range(1, n + 1):\n",
    "    \n",
    "    if i == n or cell_types[i] != cell_types[start]:\n",
    "        mid_index = (start + i - 1) // 2\n",
    "        middle_labels[mid_index] = cell_types[start]\n",
    "        start = i\n",
    "\n",
    "# Exclude Metadata Columns\n",
    "metadata_cols = [\"cell_type\", \"Chromosome\", \"Start\", \"End\"]\n",
    "df_numeric = df_zscore_clipped.drop(columns=metadata_cols)\n",
    "\n",
    "# X-axis Labels \n",
    "x_labels = df_numeric.columns\n",
    "\n",
    "# Define Colormap \n",
    "cmap_colors = [\n",
    "    (0.00, \"#4169E1\"),\n",
    "    (0.15, \"#6A98E1\"),\n",
    "    (0.25, \"#A4C5F5\"),\n",
    "    (0.50, \"#FFFFCC\"),\n",
    "    (0.75, \"#FFD699\"),\n",
    "    (0.85, \"#D73027\"),\n",
    "    (1.00, \"#B40426\")\n",
    "]\n",
    "custom_cmap = LinearSegmentedColormap.from_list(\"custom_cmap_smooth\", cmap_colors, N=1024)\n",
    "\n",
    "# Normalize colors \n",
    "color_norm = plt.Normalize(vmin=-4, vmax=4, clip=True)\n",
    "\n",
    "\n",
    "# Generate Heatmap \n",
    "plt.figure(figsize=(8, 8), dpi=300)  \n",
    "ax = sns.heatmap(\n",
    "    df_numeric,\n",
    "    cmap=custom_cmap,\n",
    "    center=0,\n",
    "    xticklabels=x_labels,\n",
    "    yticklabels=middle_labels,  \n",
    "    vmin=-4,\n",
    "    vmax=4,\n",
    "    norm=color_norm,\n",
    "    robust=True\n",
    ")\n",
    "\n",
    "# Remove the y-axis tick marks \n",
    "plt.tick_params(axis='y', which='both', left=False, labelleft=True)\n",
    "\n",
    "# Remove the left axis spine\n",
    "ax.spines[\"left\"].set_visible(False)\n",
    "\n",
    "# Customize tick label font sizes and rotations\n",
    "plt.xticks(rotation=90, fontsize=16)\n",
    "plt.yticks(rotation=0, fontsize=16)\n",
    "\n",
    "# Customize colorbar ticks and font size\n",
    "cbar = ax.collections[0].colorbar  \n",
    "cbar.set_ticks([-4, -2, 0, 2, 4])    \n",
    "cbar.ax.tick_params(labelsize=16)    \n",
    "\n",
    "# Add Centered Title with extra padding\n",
    "plt.title(\"Validation in single-cell data\", fontsize=20, fontweight=\"bold\", loc=\"center\", pad=15)\n",
    "\n",
    "# Save figure\n",
    "plt.savefig(\"heatmap_validation_original_markers_single_cell_samples.png\", dpi=600, bbox_inches=\"tight\")\n",
    "\n",
    "# Show figure\n",
    "plt.show()\n"
   ]
  },
  {
   "cell_type": "code",
   "execution_count": null,
   "id": "1a427d0b-a7d0-47c8-ae4f-25c52e762b65",
   "metadata": {},
   "outputs": [],
   "source": []
  },
  {
   "cell_type": "code",
   "execution_count": null,
   "id": "d9357b7a-7b89-4694-9a00-3ebb7059e702",
   "metadata": {},
   "outputs": [],
   "source": []
  },
  {
   "cell_type": "code",
   "execution_count": null,
   "id": "e7485ae9-c765-496b-b043-78e882c4b404",
   "metadata": {},
   "outputs": [],
   "source": []
  }
 ],
 "metadata": {
  "kernelspec": {
   "display_name": "Python 3 (ipykernel)",
   "language": "python",
   "name": "python3"
  },
  "language_info": {
   "codemirror_mode": {
    "name": "ipython",
    "version": 3
   },
   "file_extension": ".py",
   "mimetype": "text/x-python",
   "name": "python",
   "nbconvert_exporter": "python",
   "pygments_lexer": "ipython3",
   "version": "3.9.18"
  }
 },
 "nbformat": 4,
 "nbformat_minor": 5
}
