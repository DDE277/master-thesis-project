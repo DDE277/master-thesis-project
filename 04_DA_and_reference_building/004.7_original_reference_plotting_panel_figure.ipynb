{
 "cells": [
  {
   "cell_type": "markdown",
   "id": "a0847c00-56a4-472a-9b97-483a9c4b0163",
   "metadata": {},
   "source": [
    "# Panel figure plotting"
   ]
  },
  {
   "cell_type": "markdown",
   "id": "798e7848-eb64-43ee-96a5-2dc0327adfe8",
   "metadata": {},
   "source": [
    "## Load required libraries"
   ]
  },
  {
   "cell_type": "code",
   "execution_count": null,
   "id": "8ddabb7a-3455-48c0-acd6-04c05ec982eb",
   "metadata": {},
   "outputs": [],
   "source": [
    "import matplotlib.pyplot as plt\n",
    "import matplotlib.image as mpimg\n",
    "import os"
   ]
  },
  {
   "cell_type": "markdown",
   "id": "d4951075-3a0b-4f89-8144-91e33b01d671",
   "metadata": {},
   "source": [
    "## Plotting"
   ]
  },
  {
   "cell_type": "code",
   "execution_count": null,
   "id": "a4271be6-100d-4445-bf90-0d1a667b5b86",
   "metadata": {},
   "outputs": [],
   "source": [
    "# Define image file paths\n",
    "image_dir = \"/mnt/DATA3/daniel/project/04_DA_and_reference_building/scripts/\"\n",
    "image_files = [\n",
    "    \"heatmap_original_reference_samples.png\",\n",
    "    \"heatmap_validation_original_markers_single_cell_samples.png\",\n",
    "    \"heatmap_original_reference_tissue_samples.png\",\n",
    "    \"UMAP_original_markers.png\"\n",
    "]\n",
    "\n",
    "# Load images\n",
    "images = [mpimg.imread(os.path.join(image_dir, img)) for img in image_files]\n"
   ]
  },
  {
   "cell_type": "code",
   "execution_count": null,
   "id": "eac94cfa-8080-4bc3-9476-e478315bdd14",
   "metadata": {},
   "outputs": [],
   "source": [
    "# Define labels for subplots\n",
    "subplot_labels = [\"A\", \"B\", \"C\", \"D\"]\n",
    "\n",
    "# Create a figure with subplots \n",
    "fig, axes = plt.subplots(nrows=2, ncols=2, figsize=(12, 10))\n",
    "\n",
    "# Flatten axes for indexing\n",
    "axes = axes.flatten()\n",
    "\n",
    "# Plot each image in a subplot\n",
    "for i, img in enumerate(images):\n",
    "    axes[i].imshow(img)\n",
    "    axes[i].axis(\"off\")  \n",
    "\n",
    "    \n",
    "    axes[i].text(0, 1, subplot_labels[i], transform=axes[i].transAxes,\n",
    "                 fontsize=16, fontweight=\"bold\", va=\"top\", ha=\"left\",\n",
    "                 bbox=dict(facecolor=\"white\", edgecolor=\"none\", alpha=0.7))\n",
    "\n",
    "\n",
    "for j in range(len(images), len(axes)):\n",
    "    axes[j].axis(\"off\")\n",
    "\n",
    "# Adjust layout\n",
    "plt.tight_layout()\n",
    "\n",
    "# Save the final panel figure\n",
    "plt.savefig(\"panel_figure1_original.png\", dpi=600, bbox_inches=\"tight\")\n",
    "\n",
    "# Show the final panel\n",
    "plt.show()\n"
   ]
  },
  {
   "cell_type": "code",
   "execution_count": null,
   "id": "fdeedeec-00c4-4128-be81-828ab3e7f6e5",
   "metadata": {},
   "outputs": [],
   "source": []
  }
 ],
 "metadata": {
  "kernelspec": {
   "display_name": "Python 3 (ipykernel)",
   "language": "python",
   "name": "python3"
  },
  "language_info": {
   "codemirror_mode": {
    "name": "ipython",
    "version": 3
   },
   "file_extension": ".py",
   "mimetype": "text/x-python",
   "name": "python",
   "nbconvert_exporter": "python",
   "pygments_lexer": "ipython3",
   "version": "3.9.18"
  }
 },
 "nbformat": 4,
 "nbformat_minor": 5
}
