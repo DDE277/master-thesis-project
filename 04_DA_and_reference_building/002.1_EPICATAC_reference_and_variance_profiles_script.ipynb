{
 "cells": [
  {
   "cell_type": "markdown",
   "id": "897078cd-26a1-437c-8d3b-d194f6de10e1",
   "metadata": {},
   "source": [
    "# Creating the new EPIC-ATAC reference and variance profiles \n",
    "- Normalize counts to TPM-like values using EPIC-ATAC\n",
    "- Calculate median TPM per cell type to generate reference profile\n",
    "- Compute IQR (interquartile range) per region across samples within each cell type"
   ]
  },
  {
   "cell_type": "markdown",
   "id": "6dfc295b-38b0-4f7a-a80b-0c4993c85e71",
   "metadata": {},
   "source": [
    "## Load required libraries"
   ]
  },
  {
   "cell_type": "code",
   "execution_count": null,
   "id": "4d782d8f-9cf2-463a-be94-6530feceeee6",
   "metadata": {},
   "outputs": [],
   "source": [
    "library(EPICATAC)\n",
    "library(tidyr)\n",
    "library(ggplot2)\n",
    "library(data.table)\n",
    "library(dplyr)\n",
    "library(reshape2)  \n",
    "library(ggthemes)\n",
    "library(patchwork)\n",
    "library(matrixStats) "
   ]
  },
  {
   "cell_type": "markdown",
   "id": "967d91a6-ac1f-443e-917c-7cac36a2cba8",
   "metadata": {},
   "source": [
    "# Load the raw count matrix with new samples"
   ]
  },
  {
   "cell_type": "code",
   "execution_count": null,
   "id": "480500fd-a719-4fb5-a9dc-0ea6a44b0be6",
   "metadata": {},
   "outputs": [],
   "source": [
    "# Define the file path\n",
    "csv_file <- \"/mnt/DATA3/daniel/project/01_ATAC_preprocessing/data/raw_counts_matrix.csv\"\n",
    "\n",
    "# Load the CSV into R as a DataFrame\n",
    "raw_counts_matrix <- read.csv(csv_file, header = TRUE, stringsAsFactors = FALSE)\n",
    "\n",
    "# Print the first few rows\n",
    "head(raw_counts_matrix)\n",
    "\n",
    "# Check the structure of the DataFrame\n",
    "str(raw_counts_matrix)\n"
   ]
  },
  {
   "cell_type": "markdown",
   "id": "61d629c0-3e79-4953-bef6-1e24eaf33cfc",
   "metadata": {},
   "source": [
    "# TPM-like normalization for each sample"
   ]
  },
  {
   "cell_type": "code",
   "execution_count": null,
   "id": "70834671-92e8-45a5-99a1-5e4e0cbec42d",
   "metadata": {},
   "outputs": [],
   "source": [
    "# Create a \"region\" column in the format \"chrom:start-end\"\n",
    "raw_counts_matrix$region <- paste0(raw_counts_matrix$chrom, \":\", raw_counts_matrix$start, \"-\", raw_counts_matrix$end)\n",
    "\n",
    "# Convert to a data frame\n",
    "raw_counts_matrix <- as.data.frame(raw_counts_matrix)\n",
    "\n",
    "# Make \"region\" the row names\n",
    "rownames(raw_counts_matrix) <- raw_counts_matrix$region\n",
    "\n",
    "# Drop the original 'chrom', 'start', and 'end' columns\n",
    "raw_counts_matrix <- raw_counts_matrix[, !(colnames(raw_counts_matrix) %in% c(\"chrom\", \"start\", \"end\", \"region\"))]\n",
    "\n",
    "# Verify the final DataFrame\n",
    "str(raw_counts_matrix)\n",
    "head(raw_counts_matrix)\n"
   ]
  },
  {
   "cell_type": "code",
   "execution_count": null,
   "id": "56688829-7566-4bfa-b930-bbe03ebd19ae",
   "metadata": {},
   "outputs": [],
   "source": [
    "tpm_counts_matrix <- EPICATAC:::get_TPMlike_counts(raw_counts_matrix)\n",
    "head(tpm_counts_matrix)"
   ]
  },
  {
   "cell_type": "markdown",
   "id": "7d812089-bd86-4a65-aca6-fcc87f690762",
   "metadata": {},
   "source": [
    "# Build new EPIC-ATAC reference profile using the median across cell type samples"
   ]
  },
  {
   "cell_type": "code",
   "execution_count": null,
   "id": "4d63f3b1-8a72-4a1a-9169-a021d3ce6a3a",
   "metadata": {},
   "outputs": [],
   "source": [
    "# Extract sample names and cell types\n",
    "sample_names <- colnames(tpm_counts_matrix)  # Extract sample names\n",
    "cell_type_groups <- sapply(strsplit(sample_names, \"_\"), `[`, 1)  # Extract first part as cell type\n",
    "\n",
    "# Map samples to their cell types\n",
    "sample_to_cell_type <- setNames(cell_type_groups, sample_names)\n",
    "\n",
    "# Convert TPM matrix to a standard matrix \n",
    "tpm_mat <- as.matrix(tpm_counts_matrix)\n",
    "\n",
    "# Compute median TPM per cell type \n",
    "reference_profile_mat <- apply(tpm_mat, 1, function(x) tapply(x, sample_to_cell_type, median, na.rm = TRUE))\n",
    "\n",
    "# Convert back to a data frame and ensure numeric values\n",
    "reference_profile_df <- as.data.frame(t(reference_profile_mat), stringsAsFactors = FALSE)  \n",
    "\n",
    "# Rename specific columns to match expected reference names\n",
    "colnames(reference_profile_df)[colnames(reference_profile_df) == \"CD4\"] <- \"CD4_Tcells\"\n",
    "colnames(reference_profile_df)[colnames(reference_profile_df) == \"CD8\"] <- \"CD8_Tcells\"\n",
    "colnames(reference_profile_df)[colnames(reference_profile_df) == \"hepatocytes\"] <- \"Hepatocytes\"\n",
    "\n",
    "# Ensure proper row names \n",
    "if (!grepl(\"^chr\", rownames(reference_profile_df)[1])) {\n",
    "  stop(\"Row names do not match chromosome regions. Check input format.\")\n",
    "}\n",
    "\n",
    "# Convert to a numeric matrix\n",
    "reference_profile_mat <- as.matrix(reference_profile_df)\n",
    "\n",
    "# Convert row names from \"chr:start-end\" to \"chr-start-end\"\n",
    "rownames(reference_profile_mat) <- gsub(\":\", \"-\", rownames(reference_profile_mat))\n",
    "\n",
    "# Verify structure\n",
    "str(reference_profile_mat)\n",
    "\n",
    "# Print first few rows to confirm\n",
    "head(reference_profile_mat)\n"
   ]
  },
  {
   "cell_type": "markdown",
   "id": "ca20c793-ed0e-4696-9127-9dae86471b29",
   "metadata": {},
   "source": [
    "# Save in RDS format"
   ]
  },
  {
   "cell_type": "code",
   "execution_count": null,
   "id": "f8ccfc4a-3987-4ecc-a8aa-605ea0e5e8c2",
   "metadata": {},
   "outputs": [],
   "source": [
    "saveRDS(reference_profile_mat, file = \"/mnt/DATA3/daniel/project/04_DA_and_reference_building/data/refProfiles.rds\")"
   ]
  },
  {
   "cell_type": "markdown",
   "id": "3e2734da-e128-4fa6-a1d8-9e19a5d39fc3",
   "metadata": {},
   "source": [
    "# Build EPIC-ATAC variance profile across cell type samples"
   ]
  },
  {
   "cell_type": "code",
   "execution_count": null,
   "id": "b66d4fc1-a504-4f1f-9440-f28e462f2b03",
   "metadata": {},
   "outputs": [],
   "source": [
    "# Compute IQR of TPM-like counts across all samples per cell type\n",
    "iqr_profile_mat <- apply(tpm_mat, 1, function(x) tapply(x, sample_to_cell_type, IQR, na.rm = TRUE))\n",
    "\n",
    "# Convert to a data frame\n",
    "iqr_profile_df <- as.data.frame(t(iqr_profile_mat), stringsAsFactors = FALSE)\n",
    "\n",
    "# Rename specific columns to match expected reference names\n",
    "colnames(iqr_profile_df)[colnames(iqr_profile_df) == \"CD4\"] <- \"CD4_Tcells\"\n",
    "colnames(iqr_profile_df)[colnames(iqr_profile_df) == \"CD8\"] <- \"CD8_Tcells\"\n",
    "colnames(iqr_profile_df)[colnames(iqr_profile_df) == \"hepatocytes\"] <- \"Hepatocytes\"\n",
    "\n",
    "# Ensure numeric values\n",
    "iqr_profile_df[] <- lapply(iqr_profile_df, as.numeric)\n",
    "\n",
    "# Ensure proper row names \n",
    "rownames(iqr_profile_df) <- rownames(tpm_mat)\n",
    "\n",
    "# Convert row names from \"chr:start-end\" to \"chr-start-end\"\n",
    "rownames(iqr_profile_df) <- gsub(\":\", \"-\", rownames(iqr_profile_df))\n",
    "\n",
    "# Verify the change\n",
    "head(rownames(iqr_profile_df))\n",
    "\n",
    "# Verify structure\n",
    "str(iqr_profile_df)\n"
   ]
  },
  {
   "cell_type": "markdown",
   "id": "5b503dfb-3f72-43f6-a35e-2a228d8d9fb4",
   "metadata": {},
   "source": [
    "# Save in RDS format"
   ]
  },
  {
   "cell_type": "code",
   "execution_count": null,
   "id": "135295a9-667e-43c9-af0d-0f34d3bec914",
   "metadata": {},
   "outputs": [],
   "source": [
    "saveRDS(iqr_profile_df, file = \"/mnt/DATA3/daniel/project/04_DA_and_reference_building/data/refProfiles.var.rds\")"
   ]
  },
  {
   "cell_type": "code",
   "execution_count": null,
   "id": "46826b16-b6a7-42e3-81b7-5f4454496816",
   "metadata": {},
   "outputs": [],
   "source": []
  },
  {
   "cell_type": "code",
   "execution_count": null,
   "id": "9bbeddb8-6226-4544-81db-1e2ebc88155f",
   "metadata": {},
   "outputs": [],
   "source": []
  }
 ],
 "metadata": {
  "kernelspec": {
   "display_name": "R",
   "language": "R",
   "name": "ir"
  },
  "language_info": {
   "codemirror_mode": "r",
   "file_extension": ".r",
   "mimetype": "text/x-r-source",
   "name": "R",
   "pygments_lexer": "r",
   "version": "4.4.2"
  }
 },
 "nbformat": 4,
 "nbformat_minor": 5
}
