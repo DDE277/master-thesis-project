{
 "cells": [
  {
   "cell_type": "markdown",
   "id": "4fb4f7c1-f03f-4254-96f9-1b512ee14891",
   "metadata": {},
   "source": [
    "#  Extract original reference counts for cell type marker regions"
   ]
  },
  {
   "cell_type": "markdown",
   "id": "996438b8-9794-494c-bb20-e7158fdf0052",
   "metadata": {},
   "source": [
    "## Load required libraries"
   ]
  },
  {
   "cell_type": "code",
   "execution_count": null,
   "id": "4e0eea48-7983-4fd0-986d-e3c28631b828",
   "metadata": {},
   "outputs": [],
   "source": [
    "import pandas as pd\n",
    "import re\n",
    "import glob\n",
    "import os\n",
    "import numpy as np\n",
    "from sklearn.decomposition import PCA\n",
    "import matplotlib.pyplot as plt\n",
    "import seaborn as sns"
   ]
  },
  {
   "cell_type": "markdown",
   "id": "86610cab-66ab-4963-b8ea-0b29d1b49857",
   "metadata": {},
   "source": [
    "## Load raw atac-seq count data"
   ]
  },
  {
   "cell_type": "code",
   "execution_count": null,
   "id": "140d213d",
   "metadata": {},
   "outputs": [],
   "source": [
    "# Load raw counts\n",
    "raw_df = pd.read_csv(\n",
    "    \"/mnt/DATA3/daniel/project/01_ATAC_preprocessing/data/gabriel/markers_identification_input_files/raw_counts.txt\",\n",
    "    sep='\\t', header=0, index_col=None\n",
    ")\n",
    "raw_df.reset_index(inplace=True)\n",
    "raw_df.rename(columns={\"index\": \"region\"}, inplace=True)"
   ]
  },
  {
   "cell_type": "markdown",
   "id": "a672fc44-2433-4064-a31e-0d63cebf4a6f",
   "metadata": {},
   "source": [
    "## Load cell type marker regions in bed format"
   ]
  },
  {
   "cell_type": "code",
   "execution_count": null,
   "id": "b281da3b-8df2-4197-8d26-4482a7321373",
   "metadata": {},
   "outputs": [],
   "source": [
    "# Load the cell type marker file\n",
    "bed_file = '/mnt/DATA3/daniel/project/04_DA_and_reference_building/data/cell_type_markers.bed'\n",
    "\n",
    "regions = pd.read_csv(bed_file, sep='\\t', header=None, names=['chrom', 'start', 'end'])"
   ]
  },
  {
   "cell_type": "code",
   "execution_count": null,
   "id": "43b71c84",
   "metadata": {},
   "outputs": [],
   "source": [
    "print(raw_df.head())\n",
    "print(regions.head())"
   ]
  },
  {
   "cell_type": "markdown",
   "id": "35b1c367-9c2c-4cb9-876d-de55641023da",
   "metadata": {},
   "source": [
    "## Extract chromosome, start, and end from region column"
   ]
  },
  {
   "cell_type": "code",
   "execution_count": null,
   "id": "f5f1d2db",
   "metadata": {},
   "outputs": [],
   "source": [
    "# Extract chrom, start, end\n",
    "region_pattern = r'^(chr[^:]+):(\\d+)-(\\d+)$'\n",
    "raw_df[['chrom', 'start', 'end']] = raw_df['region'].str.extract(region_pattern)"
   ]
  },
  {
   "cell_type": "code",
   "execution_count": null,
   "id": "cc65e500",
   "metadata": {},
   "outputs": [],
   "source": [
    "raw_df['start'] = raw_df['start'].astype(int)\n",
    "raw_df['end'] = raw_df['end'].astype(int)"
   ]
  },
  {
   "cell_type": "code",
   "execution_count": null,
   "id": "9898b02c",
   "metadata": {},
   "outputs": [],
   "source": [
    "# Put chrom, start, end at the front\n",
    "desired_order = ['chrom', 'start', 'end'] + [col for col in raw_df.columns if col not in ['chrom', 'start', 'end', 'region']]\n",
    "raw_df = raw_df[desired_order]"
   ]
  },
  {
   "cell_type": "markdown",
   "id": "6cb990f4-d885-41f2-aa4f-1f140f1db57d",
   "metadata": {},
   "source": [
    "## Load sample metadata and harmonize sample names"
   ]
  },
  {
   "cell_type": "code",
   "execution_count": null,
   "id": "fa53c0a6",
   "metadata": {},
   "outputs": [],
   "source": [
    "# Load metadata\n",
    "meta_df = pd.read_csv('/mnt/DATA3/daniel/project/01_ATAC_preprocessing/data/gabriel/markers_identification_input_files/metadata.txt', sep='\\t')"
   ]
  },
  {
   "cell_type": "code",
   "execution_count": null,
   "id": "ce409a95",
   "metadata": {},
   "outputs": [],
   "source": [
    "# Combine subgroups into main groups\n",
    "# meta_df['groups'] = meta_df['groups'].replace({\n",
    "    # 'Naive_CD8_Tcells': 'CD8_Tcells',\n",
    "    # 'Non_Naive_CD8_Tcells': 'CD8_Tcells',\n",
    "    # 'Naive_CD4_Tcells': 'CD4_Tcells',\n",
    "    # 'Non_Naive_CD4_Tcells': 'CD4_Tcells',\n",
    "    # 'Tregs': 'CD4_Tcells'\n",
    "# })"
   ]
  },
  {
   "cell_type": "code",
   "execution_count": null,
   "id": "0a5ec79c-a97d-45e3-b743-708452d23408",
   "metadata": {},
   "outputs": [],
   "source": [
    "print(meta_df.head())"
   ]
  },
  {
   "cell_type": "markdown",
   "id": "3fcd565e-387f-4bdb-a37a-d6c448b2b993",
   "metadata": {},
   "source": [
    "## Create unique sample identifiers by combining group and sample"
   ]
  },
  {
   "cell_type": "code",
   "execution_count": null,
   "id": "c44ae2e3",
   "metadata": {},
   "outputs": [],
   "source": [
    "# Better column mapping to preserve uniqueness\n",
    "meta_df['group_with_sample'] = meta_df['groups'] + \"_\" + meta_df['sample']\n",
    "sample_to_group_with_sample = meta_df.set_index('sample')['group_with_sample'].to_dict()\n",
    "\n",
    "mapped_columns = {\n",
    "    col: sample_to_group_with_sample.get(col, col)\n",
    "    for col in raw_df.columns\n",
    "}\n",
    "\n",
    "raw_df.rename(columns=mapped_columns, inplace=True)\n"
   ]
  },
  {
   "cell_type": "code",
   "execution_count": null,
   "id": "8ae62a07",
   "metadata": {},
   "outputs": [],
   "source": [
    "print(raw_df.head())"
   ]
  },
  {
   "cell_type": "markdown",
   "id": "72603139-6ae9-4b4e-92cd-44d809b64a88",
   "metadata": {},
   "source": [
    "## Extract the the cell type marker regions"
   ]
  },
  {
   "cell_type": "code",
   "execution_count": null,
   "id": "63a6947c-e20c-420d-906a-e8ff3d8a4306",
   "metadata": {},
   "outputs": [],
   "source": [
    "extracted_df = regions.merge(raw_df, on=['chrom', 'start', 'end'], how='inner')\n"
   ]
  },
  {
   "cell_type": "code",
   "execution_count": null,
   "id": "caba8dcb",
   "metadata": {},
   "outputs": [],
   "source": [
    "print(\"Dimensions:\", extracted_df.shape)\n",
    "print(extracted_df.head())"
   ]
  },
  {
   "cell_type": "code",
   "execution_count": null,
   "id": "d7a27095-2af2-4125-ae77-70d417ef1923",
   "metadata": {},
   "outputs": [],
   "source": [
    "# Create a new column combining 'chrom', 'start', and 'end'\n",
    "extracted_df['region'] = extracted_df['chrom'] + '-' + extracted_df['start'].astype(str) + '-' + extracted_df['end'].astype(str)\n",
    "\n",
    "# Set this new column as the index and drop original columns\n",
    "extracted_df.set_index('region', inplace=True)\n",
    "extracted_df.drop(columns=['chrom', 'start', 'end'], inplace=True)\n",
    "\n",
    "# Check the reformatted DataFrame\n",
    "print(extracted_df.head())\n"
   ]
  },
  {
   "cell_type": "code",
   "execution_count": null,
   "id": "65a6a191-197c-4b65-ad74-ae4c86028db8",
   "metadata": {},
   "outputs": [],
   "source": [
    "extracted_df.to_csv('/mnt/DATA3/daniel/project/04_DA_and_reference_building/data/extracted_raw_counts_marker_region.csv')\n"
   ]
  },
  {
   "cell_type": "code",
   "execution_count": null,
   "id": "8d894a6e-8594-4b98-9ad6-d151d2746bff",
   "metadata": {},
   "outputs": [],
   "source": []
  },
  {
   "cell_type": "code",
   "execution_count": null,
   "id": "14e8063c-4f55-4e7e-92ee-a4e6ded295fa",
   "metadata": {},
   "outputs": [],
   "source": []
  },
  {
   "cell_type": "code",
   "execution_count": null,
   "id": "a5c3b86b-d01c-41e7-8924-6f07a9860a29",
   "metadata": {},
   "outputs": [],
   "source": []
  }
 ],
 "metadata": {
  "kernelspec": {
   "display_name": "Python 3 (ipykernel)",
   "language": "python",
   "name": "python3"
  },
  "language_info": {
   "codemirror_mode": {
    "name": "ipython",
    "version": 3
   },
   "file_extension": ".py",
   "mimetype": "text/x-python",
   "name": "python",
   "nbconvert_exporter": "python",
   "pygments_lexer": "ipython3",
   "version": "3.9.18"
  }
 },
 "nbformat": 4,
 "nbformat_minor": 5
}
