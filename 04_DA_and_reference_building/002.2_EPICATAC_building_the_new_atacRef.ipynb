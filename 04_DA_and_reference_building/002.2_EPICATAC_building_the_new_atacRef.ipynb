{
 "cells": [
  {
   "cell_type": "markdown",
   "id": "aaefd665-e436-44e6-87ec-6c4a83eae68c",
   "metadata": {},
   "source": [
    "# Building the new EPIC-ATAC reference object "
   ]
  },
  {
   "cell_type": "markdown",
   "id": "8494e230-f9e6-477a-a57b-6bd0c5fe4bad",
   "metadata": {},
   "source": [
    "## Import required libraries"
   ]
  },
  {
   "cell_type": "code",
   "execution_count": null,
   "id": "f54678cc-8e94-4804-ada1-a54ae550355b",
   "metadata": {},
   "outputs": [],
   "source": [
    "library(EPICATAC)\n",
    "library(tidyr)\n",
    "library(ggplot2)\n",
    "library(pheatmap)\n",
    "library(RColorBrewer)\n",
    "library(data.table)\n",
    "library(dplyr)\n",
    "library(jsonlite)"
   ]
  },
  {
   "cell_type": "markdown",
   "id": "f972cde3-6d20-4fa8-ab99-8eb027690401",
   "metadata": {},
   "source": [
    "# Load new refProfiles, refProfiles.var, sigPeaks and marker rds files"
   ]
  },
  {
   "cell_type": "code",
   "execution_count": null,
   "id": "fd8e735c-fde2-4ece-a8cc-7197d26e5546",
   "metadata": {},
   "outputs": [],
   "source": [
    "# Load required library\n",
    "library(jsonlite)\n",
    "\n",
    "# Define the directory path\n",
    "data_dir <- \"/mnt/DATA3/daniel/project/04_DA_and_reference_building/data/\"\n",
    "\n",
    "# Read the reference profile RDS files\n",
    "refProfiles <- readRDS(file.path(data_dir, \"refProfiles.rds\"))\n",
    "refProfiles.var <- readRDS(file.path(data_dir, \"refProfiles.var.rds\"))\n",
    "\n",
    "# Read sigPeaks and markers from RDS format\n",
    "sigPeaks <- readRDS(file.path(data_dir, \"sigPeaks_pairwise.rds\"))\n",
    "markers <- readRDS(file.path(data_dir, \"markers_pairwise.rds\"))\n",
    "\n",
    "# Verify contents\n",
    "str(refProfiles)\n",
    "str(refProfiles.var)\n",
    "str(sigPeaks)\n",
    "str(markers)\n"
   ]
  },
  {
   "cell_type": "markdown",
   "id": "af964750-156a-4ab0-aaa6-e468890e8685",
   "metadata": {},
   "source": [
    "## Build the new atacRef object"
   ]
  },
  {
   "cell_type": "code",
   "execution_count": null,
   "id": "1243c5af-bd0e-49c8-b160-73da7f3ea11b",
   "metadata": {},
   "outputs": [],
   "source": [
    "# Convert refProfiles to a matrix and set row names\n",
    "refProfiles <- as.matrix(refProfiles)  \n",
    "rownames(refProfiles) <- rownames(refProfiles.var)  \n",
    "\n",
    "# Ensure refProfiles.var remains a data.frame with correct structure\n",
    "if (!identical(rownames(refProfiles.var), rownames(refProfiles))) {\n",
    "  stop(\"Row names of refProfiles and refProfiles.var do not match. Check input files.\")\n",
    "}\n",
    "\n",
    "# Ensure sigPeaks is a character vector\n",
    "if (!is.character(sigPeaks)) {\n",
    "  sigPeaks <- as.character(unlist(sigPeaks))  \n",
    "}\n",
    "\n",
    "# Ensure markers is a named list of character vectors\n",
    "if (is.data.frame(markers)) {\n",
    "  markers <- split(markers, seq(nrow(markers)))  \n",
    "} else if (is.list(markers)) {\n",
    "  markers <- lapply(markers, as.character)  \n",
    "}\n",
    "\n",
    "# Assign names to markers \n",
    "if (is.null(names(markers)) || any(names(markers) == \"\")) {\n",
    "  names(markers) <- colnames(refProfiles)  \n",
    "}\n",
    "\n",
    "# Build the new atacRef_TME object\n",
    "new_atacRef_TME <- list(\n",
    "  refProfiles = refProfiles,\n",
    "  refProfiles.var = refProfiles.var,\n",
    "  sigPeaks = sigPeaks,\n",
    "  markers = markers\n",
    ")\n",
    "\n",
    "# Verify structure of new object\n",
    "str(new_atacRef_TME)\n"
   ]
  },
  {
   "cell_type": "markdown",
   "id": "91047db0-5f52-40ef-aa0d-1d9420304397",
   "metadata": {},
   "source": [
    "# Save the new atacRef"
   ]
  },
  {
   "cell_type": "code",
   "execution_count": null,
   "id": "2eecd6b8-9352-4ead-a15d-0a8d659ddd9e",
   "metadata": {},
   "outputs": [],
   "source": [
    "# Save the new_atacRef_TME object as an RDS file\n",
    "saveRDS(new_atacRef_TME, file = \"/mnt/DATA3/daniel/project/04_DA_and_reference_building/data/new_atacRef_TME_pairwise.rds\")\n"
   ]
  },
  {
   "cell_type": "code",
   "execution_count": null,
   "id": "db58a2fd-22c0-4cc7-a6ff-6bc7f582d3dc",
   "metadata": {},
   "outputs": [],
   "source": []
  },
  {
   "cell_type": "code",
   "execution_count": null,
   "id": "d0f3a3a7-2d83-49b0-86b3-73056d0cfda7",
   "metadata": {},
   "outputs": [],
   "source": []
  }
 ],
 "metadata": {
  "kernelspec": {
   "display_name": "R",
   "language": "R",
   "name": "ir"
  },
  "language_info": {
   "codemirror_mode": "r",
   "file_extension": ".r",
   "mimetype": "text/x-r-source",
   "name": "R",
   "pygments_lexer": "r",
   "version": "4.4.2"
  }
 },
 "nbformat": 4,
 "nbformat_minor": 5
}
