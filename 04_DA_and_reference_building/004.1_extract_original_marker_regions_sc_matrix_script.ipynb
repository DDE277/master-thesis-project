{
 "cells": [
  {
   "cell_type": "markdown",
   "id": "6b50ed63-7cdc-48ce-b4fc-139c9e3c52ab",
   "metadata": {},
   "source": [
    "## Extraction of the original cell-type markers in sc-zhang reference matrix\n",
    "- Group biologically similar cell types by averaging\n",
    "- Intersects grouped matrix with marker regions (≥400 bp overlap)"
   ]
  },
  {
   "cell_type": "markdown",
   "id": "f44dc665-1210-451a-b56f-6e48254a0a61",
   "metadata": {},
   "source": [
    "## Import required libraries"
   ]
  },
  {
   "cell_type": "code",
   "execution_count": null,
   "id": "71481958-51d6-460a-9763-7f15d128ba1f",
   "metadata": {},
   "outputs": [],
   "source": [
    "import pandas as pd\n",
    "import pickle\n",
    "import numpy as np\n",
    "import matplotlib.pyplot as plt\n",
    "import seaborn as sns\n",
    "import pyranges as pr"
   ]
  },
  {
   "cell_type": "markdown",
   "id": "30d8e2a1-da3d-4436-bda4-567f686d13c7",
   "metadata": {},
   "source": [
    "## Load sc-zhang reference matrix"
   ]
  },
  {
   "cell_type": "code",
   "execution_count": null,
   "id": "ed29ce01",
   "metadata": {},
   "outputs": [],
   "source": [
    "# Open the formatted Zhang file \n",
    "subset = pd.read_pickle('/mnt/DATA3/daniel/project/04_DA_and_reference_building/data/subset_by_celltype.pkl')"
   ]
  },
  {
   "cell_type": "code",
   "execution_count": null,
   "id": "f1af77f6",
   "metadata": {},
   "outputs": [],
   "source": [
    "# Get first 5 entries to check\n",
    "subset.head()"
   ]
  },
  {
   "cell_type": "markdown",
   "id": "69fb68a4-7ef7-4d7b-b9c5-33404e8d1433",
   "metadata": {},
   "source": [
    "## Load original cell type marker bed file"
   ]
  },
  {
   "cell_type": "code",
   "execution_count": null,
   "id": "9491e1e9-920e-4ac5-9c14-7e4c0ed555fd",
   "metadata": {},
   "outputs": [],
   "source": [
    "# Load BED file into a DataFrame\n",
    "df_bed = pd.read_csv(\"/mnt/DATA3/daniel/project/04_DA_and_reference_building/data/cell_type_markers.bed\", sep=\"\\t\", header=None, names=[\"chrom\", \"start\", \"end\"])\n"
   ]
  },
  {
   "cell_type": "code",
   "execution_count": null,
   "id": "7edafcfa-fffe-4c9b-a29d-767a00a70de4",
   "metadata": {},
   "outputs": [],
   "source": [
    "print(df_bed.head())\n"
   ]
  },
  {
   "cell_type": "markdown",
   "id": "03d4a37f",
   "metadata": {},
   "source": [
    "# Define and aggregate cell type groups\n",
    "- Biologically similar or closely related cell types (e.g. alveolar type 1 and 2) are grouped.\n",
    "- Single cell types that are already specific or not part of any group are handled individually."
   ]
  },
  {
   "cell_type": "code",
   "execution_count": null,
   "id": "95eb1740",
   "metadata": {},
   "outputs": [],
   "source": [
    "# Define the cell type groups as lists of column names\n",
    "cell_type_groups = {\n",
    "    \"Endothelial_General\": [\"Endothelial General 1\", \"Endothelial General 2\", \"Endothelial General 3\"],\n",
    "    \"Colon_Epithelial\": [\"Colon Epithelial 1\", \"Colon Epithelial 2\", \"Colon Epithelial 3\"],\n",
    "    \"Mammary_Luminal_Epi\": [\"Mammary Luminal Epi 1\", \"Mammary Luminal Epi 2\"],\n",
    "    \"Fibro\": [\"Fibro General\", \"Fibro Epithelial\", \"Fibro GI\", \"Fibro Nerve\", \"Fibro Muscle\", \"Fibro Liver Adrenal\"],\n",
    "    \"Alveolar\": [\"Alveolar Type 1\", \"Alveolar Type 2\"],\n",
    "    \"Macrophage\": [\"Macrophage General\", \"Macrophage Gen or Alv\"],\n",
    "    \"Plasma_Memory_B\": [\"Plasma B\", \"Memory B\"]\n",
    "}\n",
    "\n",
    "# List of cell types not included in any group\n",
    "cell_type_single = [\"T Lymphocyte 1 (CD8+)\", \"T lymphocyte 2 (CD4+)\", \"Naive T\", \"Natural Killer T\", \"Acinar\", \"Ductal\", \"Airway Goblet\", \"Colon Goblet\", \"Mast\", \"Tuft\", \"Hepatocyte\"]"
   ]
  },
  {
   "cell_type": "markdown",
   "id": "3ef3e295",
   "metadata": {},
   "source": [
    "# Averaging similar cell types"
   ]
  },
  {
   "cell_type": "code",
   "execution_count": null,
   "id": "ad5486fa",
   "metadata": {},
   "outputs": [],
   "source": [
    "# Create a copy of the subset to modify\n",
    "df_grouped = subset.copy()\n",
    "\n",
    "# Aggregate grouped cell types by averaging\n",
    "for group_name, columns in cell_type_groups.items():\n",
    "    df_grouped[group_name] = df_grouped[columns].mean(axis=1)  \n",
    "    df_grouped = df_grouped.drop(columns=columns)  \n",
    "\n",
    "# Keep single cell types \n",
    "df_grouped = df_grouped[cell_type_single + list(cell_type_groups.keys())]\n",
    "\n",
    "# Display the new DataFrame with grouped cell types\n",
    "print(df_grouped.head())\n"
   ]
  },
  {
   "cell_type": "markdown",
   "id": "ce8b4f8e-b039-4aed-ae6d-e9efff3cff08",
   "metadata": {},
   "source": [
    "## Clean up and prepare for intersection"
   ]
  },
  {
   "cell_type": "code",
   "execution_count": null,
   "id": "81d583d6",
   "metadata": {},
   "outputs": [],
   "source": [
    "# Extract chromosome, start, and end from the index \n",
    "df_grouped = df_grouped.reset_index()  \n",
    "df_grouped[['chrom', 'start_end']] = df_grouped['Region'].str.split(':', expand=True)\n",
    "df_grouped[['start', 'end']] = df_grouped['start_end'].str.split('-', expand=True).astype(int)\n",
    "df_grouped.drop(columns=['start_end'], inplace=True)"
   ]
  },
  {
   "cell_type": "code",
   "execution_count": null,
   "id": "20b09149-4e68-45a8-8dd0-750498577de7",
   "metadata": {},
   "outputs": [],
   "source": [
    "print(df_grouped.head())"
   ]
  },
  {
   "cell_type": "markdown",
   "id": "359858bc-591e-4996-a419-7a71e361d932",
   "metadata": {},
   "source": [
    "## Perform region overlap with marker bed file"
   ]
  },
  {
   "cell_type": "code",
   "execution_count": null,
   "id": "6147882f-e867-4e7c-822b-afdc9e668cc4",
   "metadata": {},
   "outputs": [],
   "source": [
    "# Rename columns to match PyRanges\n",
    "df_bed_renamed = df_bed.rename(columns={\"chrom\": \"Chromosome\", \"start\": \"Start\", \"end\": \"End\"})\n",
    "df_grouped_renamed = df_grouped.rename(columns={\"chrom\": \"Chromosome\", \"start\": \"Start\", \"end\": \"End\"})\n",
    "\n",
    "# Create PyRanges objects\n",
    "pr_bed = pr.PyRanges(df_bed_renamed)\n",
    "pr_grouped = pr.PyRanges(df_grouped_renamed)\n",
    "\n",
    "# Perform intersection\n",
    "intersection = pr_bed.join(pr_grouped, suffix=\"_matrix\")\n",
    "\n",
    "# Calculate the exact overlap length\n",
    "intersection_df = intersection.df.copy()\n",
    "intersection_df[\"OverlapStart\"] = intersection_df[[\"Start\", \"Start_matrix\"]].apply(max, axis=1)\n",
    "intersection_df[\"OverlapEnd\"] = intersection_df[[\"End\", \"End_matrix\"]].apply(min, axis=1)\n",
    "intersection_df[\"OverlapLength\"] = intersection_df[\"OverlapEnd\"] - intersection_df[\"OverlapStart\"]\n",
    "\n",
    "# Define minimum overlap required\n",
    "min_overlap_length = 400\n",
    "\n",
    "# Filter intersections based on minimum overlap\n",
    "intersection_filtered = intersection_df[intersection_df[\"OverlapLength\"] >= min_overlap_length]\n",
    "\n",
    "# Check the number of resulting entries\n",
    "print(f\"Number of entries after limiting overlap: {intersection_filtered.shape[0]}\")\n",
    "\n",
    "# Show results\n",
    "print(intersection_filtered.head())\n"
   ]
  },
  {
   "cell_type": "markdown",
   "id": "65fd1527-195c-4d40-8cdf-70e86ed62422",
   "metadata": {},
   "source": [
    "## Remove redundant overlaps"
   ]
  },
  {
   "cell_type": "code",
   "execution_count": null,
   "id": "b1a3326f-93ce-443c-b3e7-ec1dbdd269cf",
   "metadata": {},
   "outputs": [],
   "source": [
    "# Sort by OverlapLength (descending) to keep largest overlap\n",
    "intersection_filtered_sorted = intersection_filtered.sort_values(by='OverlapLength', ascending=False)\n",
    "\n",
    "# Drop duplicates based on BED markers keeping the largest overlap\n",
    "intersection_unique = intersection_filtered_sorted.drop_duplicates(subset=['Chromosome', 'Start', 'End'])\n",
    "\n",
    "# Final check of number of unique entries\n",
    "print(f\"Number of unique entries after removing duplicates: {intersection_unique.shape[0]}\")\n",
    "\n",
    "# Display final results\n",
    "print(intersection_unique.head())\n"
   ]
  },
  {
   "cell_type": "markdown",
   "id": "084822a0-ee2e-475c-9693-b4309581ce13",
   "metadata": {},
   "source": [
    "# Clean and save final matrix"
   ]
  },
  {
   "cell_type": "code",
   "execution_count": null,
   "id": "3ceb1b87-48ae-41e7-88ba-c26a161fb416",
   "metadata": {},
   "outputs": [],
   "source": [
    "# Drop unwanted columns\n",
    "columns_to_drop = ['Start_matrix', 'End_matrix', 'OverlapStart', 'OverlapEnd', 'OverlapLength','Region']\n",
    "intersection_final = intersection_unique.drop(columns=columns_to_drop)\n",
    "\n",
    "# Check the cleaned DataFrame\n",
    "print(intersection_final.head())"
   ]
  },
  {
   "cell_type": "code",
   "execution_count": null,
   "id": "bd4ecec0-d783-438d-bd3c-d0ca133b0204",
   "metadata": {},
   "outputs": [],
   "source": [
    "# Save the final DataFrame as a CSV file\n",
    "intersection_final.to_csv(\"/mnt/DATA3/daniel/project/04_DA_and_reference_building/data/sc_marker_regions.csv\", index=False)"
   ]
  },
  {
   "cell_type": "code",
   "execution_count": null,
   "id": "65fd7324-8497-48c9-9d57-f5f332db72f1",
   "metadata": {},
   "outputs": [],
   "source": []
  },
  {
   "cell_type": "code",
   "execution_count": null,
   "id": "e4d08e50-3dcb-4250-9f47-ae2121f6e307",
   "metadata": {},
   "outputs": [],
   "source": []
  },
  {
   "cell_type": "code",
   "execution_count": null,
   "id": "523502e2-7c06-4ac9-9b2b-12ecdd20fb2d",
   "metadata": {},
   "outputs": [],
   "source": []
  },
  {
   "cell_type": "code",
   "execution_count": null,
   "id": "9998d4d5-d594-4397-b2dd-f131ecf411c7",
   "metadata": {},
   "outputs": [],
   "source": []
  }
 ],
 "metadata": {
  "kernelspec": {
   "display_name": "Python 3 (ipykernel)",
   "language": "python",
   "name": "python3"
  },
  "language_info": {
   "codemirror_mode": {
    "name": "ipython",
    "version": 3
   },
   "file_extension": ".py",
   "mimetype": "text/x-python",
   "name": "python",
   "nbconvert_exporter": "python",
   "pygments_lexer": "ipython3",
   "version": "3.9.18"
  }
 },
 "nbformat": 4,
 "nbformat_minor": 5
}
