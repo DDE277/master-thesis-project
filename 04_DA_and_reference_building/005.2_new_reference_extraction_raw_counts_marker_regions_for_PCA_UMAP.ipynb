{
 "cells": [
  {
   "cell_type": "markdown",
   "id": "dfbf754e-655f-4e21-80a2-603a8de5bc6f",
   "metadata": {},
   "source": [
    "# Extract reference counts for new cell type marker regions"
   ]
  },
  {
   "cell_type": "markdown",
   "id": "35c5abf5-983d-41df-92f6-154ad290dbd2",
   "metadata": {},
   "source": [
    "## Load required libraries"
   ]
  },
  {
   "cell_type": "code",
   "execution_count": null,
   "id": "3148cd64-3ff9-4713-aad1-2131b954f1b4",
   "metadata": {},
   "outputs": [],
   "source": [
    "import pandas as pd\n",
    "import re\n",
    "import glob\n",
    "import os\n",
    "import numpy as np\n",
    "from sklearn.decomposition import PCA\n",
    "import matplotlib.pyplot as plt\n",
    "import seaborn as sns"
   ]
  },
  {
   "cell_type": "markdown",
   "id": "06b0f2b7-666e-4844-adbc-1653f848b2dd",
   "metadata": {},
   "source": [
    "## Load the markers"
   ]
  },
  {
   "cell_type": "code",
   "execution_count": null,
   "id": "e997e344-8948-4498-b00b-df8f7096a6cb",
   "metadata": {},
   "outputs": [],
   "source": [
    "# Load raw counts from raw_counts_matrix.csv\n",
    "raw_df = pd.read_csv(\n",
    "    \"/mnt/DATA3/daniel/project/01_ATAC_preprocessing/data/raw_counts_matrix.csv\",\n",
    "    sep=\",\",  \n",
    "    header=0,\n",
    "    index_col=None\n",
    ")\n",
    "\n",
    "# Reset index and rename columns \n",
    "raw_df.reset_index(inplace=False)"
   ]
  },
  {
   "cell_type": "code",
   "execution_count": null,
   "id": "b281da3b-8df2-4197-8d26-4482a7321373",
   "metadata": {},
   "outputs": [],
   "source": [
    "# Load the cell type marker file\n",
    "bed_file = '/mnt/DATA3/daniel/project/04_DA_and_reference_building/data/new_pairwise_cell_types_markers.bed'\n",
    "regions = pd.read_csv(bed_file, sep='\\t', header=None, names=['chrom', 'start', 'end'])"
   ]
  },
  {
   "cell_type": "code",
   "execution_count": null,
   "id": "43b71c84",
   "metadata": {},
   "outputs": [],
   "source": [
    "print(raw_df.head())\n",
    "print(regions.head())"
   ]
  },
  {
   "cell_type": "markdown",
   "id": "72603139-6ae9-4b4e-92cd-44d809b64a88",
   "metadata": {},
   "source": [
    "## Extract the the cell type marker regions"
   ]
  },
  {
   "cell_type": "code",
   "execution_count": null,
   "id": "63a6947c-e20c-420d-906a-e8ff3d8a4306",
   "metadata": {},
   "outputs": [],
   "source": [
    "extracted_df = regions.merge(raw_df, on=['chrom', 'start', 'end'], how='inner')\n"
   ]
  },
  {
   "cell_type": "code",
   "execution_count": null,
   "id": "caba8dcb",
   "metadata": {},
   "outputs": [],
   "source": [
    "print(\"Dimensions:\", extracted_df.shape)\n",
    "print(extracted_df.head())"
   ]
  },
  {
   "cell_type": "code",
   "execution_count": null,
   "id": "d7a27095-2af2-4125-ae77-70d417ef1923",
   "metadata": {},
   "outputs": [],
   "source": [
    "# Create a new column combining 'chrom', 'start', and 'end'\n",
    "extracted_df['region'] = extracted_df['chrom'] + '-' + extracted_df['start'].astype(str) + '-' + extracted_df['end'].astype(str)\n",
    "\n",
    "# Set new column as the index and drop original columns\n",
    "extracted_df.set_index('region', inplace=True)\n",
    "extracted_df.drop(columns=['chrom', 'start', 'end'], inplace=True)\n",
    "\n",
    "# Check the reformatted DataFrame\n",
    "print(extracted_df.head())\n"
   ]
  },
  {
   "cell_type": "code",
   "execution_count": null,
   "id": "65a6a191-197c-4b65-ad74-ae4c86028db8",
   "metadata": {},
   "outputs": [],
   "source": [
    "extracted_df.to_csv('/mnt/DATA3/daniel/project/04_DA_and_reference_building/data/extracted_raw_counts_pairwise_marker_region.csv')\n"
   ]
  },
  {
   "cell_type": "code",
   "execution_count": null,
   "id": "cc95ab5b-be1f-4fb4-9cf2-f4b929b88ad7",
   "metadata": {},
   "outputs": [],
   "source": []
  },
  {
   "cell_type": "code",
   "execution_count": null,
   "id": "75d5e962-81d4-4c89-8413-9594ee54778f",
   "metadata": {},
   "outputs": [],
   "source": []
  },
  {
   "cell_type": "code",
   "execution_count": null,
   "id": "55cd2720-e018-4b5b-93b1-cfbccb288f1f",
   "metadata": {},
   "outputs": [],
   "source": []
  }
 ],
 "metadata": {
  "kernelspec": {
   "display_name": "Python 3 (ipykernel)",
   "language": "python",
   "name": "python3"
  },
  "language_info": {
   "codemirror_mode": {
    "name": "ipython",
    "version": 3
   },
   "file_extension": ".py",
   "mimetype": "text/x-python",
   "name": "python",
   "nbconvert_exporter": "python",
   "pygments_lexer": "ipython3",
   "version": "3.9.18"
  }
 },
 "nbformat": 4,
 "nbformat_minor": 5
}
