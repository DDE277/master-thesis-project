{
 "cells": [
  {
   "cell_type": "markdown",
   "id": "c1477726-d03c-4ffc-bce6-4698b30880c9",
   "metadata": {},
   "source": [
    "# Panel figure plotting"
   ]
  },
  {
   "cell_type": "markdown",
   "id": "dbb1b892-57bf-43a7-92cf-7088f358aa9d",
   "metadata": {},
   "source": [
    "## Load required libraries"
   ]
  },
  {
   "cell_type": "code",
   "execution_count": null,
   "id": "4954ce2e-7a5e-4a42-bae5-7a571892d214",
   "metadata": {},
   "outputs": [],
   "source": [
    "import matplotlib.pyplot as plt\n",
    "import matplotlib.image as mpimg\n",
    "import os"
   ]
  },
  {
   "cell_type": "markdown",
   "id": "cbac4e75-bb83-4cd6-a426-d92a78937338",
   "metadata": {},
   "source": [
    "## Plotting"
   ]
  },
  {
   "cell_type": "code",
   "execution_count": null,
   "id": "a4271be6-100d-4445-bf90-0d1a667b5b86",
   "metadata": {},
   "outputs": [],
   "source": [
    "# Define image file paths\n",
    "image_dir = \"/mnt/DATA3/daniel/project/04_DA_and_reference_building/scripts/\"\n",
    "image_files = [\n",
    "    \"heatmap_new_reference_samples.png\",\n",
    "    \"heatmap_validation_new_markers_single_cell_samples.png\",\n",
    "    \"heatmap_new_reference_tissue_samples.png\",\n",
    "    \"UMAP_new_markers.png\"\n",
    "]\n",
    "\n",
    "# Load images\n",
    "images = [mpimg.imread(os.path.join(image_dir, img)) for img in image_files]\n"
   ]
  },
  {
   "cell_type": "code",
   "execution_count": null,
   "id": "eac94cfa-8080-4bc3-9476-e478315bdd14",
   "metadata": {},
   "outputs": [],
   "source": [
    "# Define labels for subplots\n",
    "subplot_labels = [\"A\", \"B\", \"C\", \"D\"]\n",
    "\n",
    "# Create a figure with subplots \n",
    "fig, axes = plt.subplots(nrows=2, ncols=2, figsize=(12, 10))\n",
    "\n",
    "# Flatten axes for indexing\n",
    "axes = axes.flatten()\n",
    "\n",
    "# Plot each image in a subplot\n",
    "for i, img in enumerate(images):\n",
    "    axes[i].imshow(img)\n",
    "    axes[i].axis(\"off\")  \n",
    "\n",
    "    axes[i].text(0, 1, subplot_labels[i], transform=axes[i].transAxes,\n",
    "                 fontsize=16, fontweight=\"bold\", va=\"top\", ha=\"left\",\n",
    "                 bbox=dict(facecolor=\"white\", edgecolor=\"none\", alpha=0.7))\n",
    "\n",
    "for j in range(len(images), len(axes)):\n",
    "    axes[j].axis(\"off\")\n",
    "\n",
    "# Adjust layout\n",
    "plt.tight_layout()\n",
    "\n",
    "# Save the final panel figure\n",
    "plt.savefig(\"panel_figure2_new.png\", dpi=600, bbox_inches=\"tight\")\n",
    "\n",
    "# Show the final panel\n",
    "plt.show()\n"
   ]
  },
  {
   "cell_type": "code",
   "execution_count": null,
   "id": "d8c34433-fc55-4ffb-86c5-9e00bc9424c3",
   "metadata": {},
   "outputs": [],
   "source": []
  },
  {
   "cell_type": "code",
   "execution_count": null,
   "id": "201561da-04ce-4f56-889f-05bf87ebef1c",
   "metadata": {},
   "outputs": [],
   "source": []
  },
  {
   "cell_type": "code",
   "execution_count": null,
   "id": "06cc1659-cb85-4ba0-afa3-832da9853058",
   "metadata": {},
   "outputs": [],
   "source": []
  }
 ],
 "metadata": {
  "kernelspec": {
   "display_name": "Python 3 (ipykernel)",
   "language": "python",
   "name": "python3"
  },
  "language_info": {
   "codemirror_mode": {
    "name": "ipython",
    "version": 3
   },
   "file_extension": ".py",
   "mimetype": "text/x-python",
   "name": "python",
   "nbconvert_exporter": "python",
   "pygments_lexer": "ipython3",
   "version": "3.9.18"
  }
 },
 "nbformat": 4,
 "nbformat_minor": 5
}
