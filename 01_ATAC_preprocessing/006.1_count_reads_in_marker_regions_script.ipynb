{
 "cells": [
  {
   "cell_type": "markdown",
   "id": "7e7d1623-cdd9-4d44-9772-506c3fd99c91",
   "metadata": {},
   "source": [
    "# Count reads in new cell-type marker regions"
   ]
  },
  {
   "cell_type": "markdown",
   "id": "c097296c-7303-47b8-ba37-32686cc9a558",
   "metadata": {},
   "source": [
    "## Import required libraries"
   ]
  },
  {
   "cell_type": "code",
   "execution_count": null,
   "id": "68f01513-9afc-4c6b-97f3-9cbacf716440",
   "metadata": {},
   "outputs": [],
   "source": [
    "import pysam\n",
    "import pandas as pd\n",
    "import os\n",
    "import glob"
   ]
  },
  {
   "cell_type": "markdown",
   "id": "32db7441",
   "metadata": {},
   "source": [
    "## Define directories"
   ]
  },
  {
   "cell_type": "code",
   "execution_count": null,
   "id": "22b2a1ab",
   "metadata": {},
   "outputs": [],
   "source": [
    "# Define file paths\n",
    "bed_file = '/mnt/DATA3/daniel/project/01_ATAC_preprocessing/data/new_pairwise_cell_types_markers.bed'\n",
    "output_dir = '/mnt/DATA3/daniel/project/01_ATAC_preprocessing/data/subset_trimmed_data_pairwise_markers/'\n",
    "bam_dir = \"/mnt/DATA3/daniel/project/01_ATAC_preprocessing/data/preprocessed_QC__trimmed_data/'"
   ]
  },
  {
   "cell_type": "code",
   "execution_count": null,
   "id": "29c7ff18-0f0c-4d7c-b11a-8dd52d1ce2b6",
   "metadata": {},
   "outputs": [],
   "source": [
    "os.makedirs(output_dir, exist_ok=True)  "
   ]
  },
  {
   "cell_type": "markdown",
   "id": "b1fa9f84-92f6-4bd9-95ee-042b93b19108",
   "metadata": {},
   "source": [
    "## Load marker regions and pre-processed bam files"
   ]
  },
  {
   "cell_type": "code",
   "execution_count": null,
   "id": "96165510",
   "metadata": {},
   "outputs": [],
   "source": [
    "# Load regions from BED file once\n",
    "regions = pd.read_csv(bed_file, sep='\\t', header=None, names=['chrom', 'start', 'end'])"
   ]
  },
  {
   "cell_type": "code",
   "execution_count": null,
   "id": "d901183f",
   "metadata": {},
   "outputs": [],
   "source": [
    "# Get a list of all BAM files that match the pattern \"*_final_preprocessed.bam\"\n",
    "bam_files = [f for f in glob.glob(os.path.join(bam_dir, \"*.final_preprocessed.bam\"))]\n",
    "\n",
    "# Print filtered BAM files\n",
    "print(\"BAM files to be processed:\", bam_files)"
   ]
  },
  {
   "cell_type": "markdown",
   "id": "b1edd4eb-ef54-4086-9aff-c35be458037d",
   "metadata": {},
   "source": [
    "## Read counts in cell-type marker regions"
   ]
  },
  {
   "cell_type": "code",
   "execution_count": null,
   "id": "0145bf3c",
   "metadata": {},
   "outputs": [],
   "source": [
    "# Iterate over each BAM file and count reads per region\n",
    "for bam_file in bam_files:\n",
    "    sample_name = os.path.splitext(os.path.basename(bam_file))[0]  \n",
    "    print(f\"Processing {sample_name}...\")\n",
    "\n",
    "    # Initialize list to store read counts for the current sample\n",
    "    read_counts = []\n",
    "\n",
    "    # Open the BAM file and count reads for each region\n",
    "    with pysam.AlignmentFile(bam_file, \"rb\") as bam:\n",
    "        for _, row in regions.iterrows():\n",
    "            chrom, start, end = row['chrom'], int(row['start']), int(row['end'])\n",
    "            read_counts.append(bam.count(chrom, start, end))\n",
    "\n",
    "    # Add the sample's read counts to the DataFrame and save\n",
    "    regions[sample_name] = read_counts\n",
    "    output_file = os.path.join(output_dir, f\"{sample_name}_read_counts.csv\")\n",
    "    regions[['chrom', 'start', 'end', sample_name]].to_csv(output_file, index=False)\n",
    "    \n",
    "    print(f\"Read counts saved for {sample_name} to {output_file}\")\n",
    "\n",
    "print(\"All samples processed.\")"
   ]
  }
 ],
 "metadata": {
  "kernelspec": {
   "display_name": "Python 3 (ipykernel)",
   "language": "python",
   "name": "python3"
  },
  "language_info": {
   "codemirror_mode": {
    "name": "ipython",
    "version": 3
   },
   "file_extension": ".py",
   "mimetype": "text/x-python",
   "name": "python",
   "nbconvert_exporter": "python",
   "pygments_lexer": "ipython3",
   "version": "3.9.18"
  }
 },
 "nbformat": 4,
 "nbformat_minor": 5
}
