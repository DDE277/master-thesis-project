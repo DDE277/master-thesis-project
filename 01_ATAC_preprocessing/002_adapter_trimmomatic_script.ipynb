{
 "cells": [
  {
   "cell_type": "markdown",
   "id": "782a919f-eb95-443d-a46a-f125ae62163c",
   "metadata": {},
   "source": [
    "## Trimming paired-end FASTQ files using trimmomatic\n",
    "- Uses Trimmomatic to perform adapter removal and quality trimming."
   ]
  },
  {
   "cell_type": "markdown",
   "id": "862f997a-f951-4574-92ad-b1df7a8bab13",
   "metadata": {},
   "source": [
    "## Import required libraries"
   ]
  },
  {
   "cell_type": "code",
   "execution_count": null,
   "id": "f30fd18e-a253-4b97-810c-0bfc614f105f",
   "metadata": {},
   "outputs": [],
   "source": [
    "import os\n",
    "import subprocess"
   ]
  },
  {
   "cell_type": "markdown",
   "id": "8e9b9b32-8e1e-447a-9eee-93bcfdac16c4",
   "metadata": {},
   "source": [
    "## Define paths"
   ]
  },
  {
   "cell_type": "code",
   "execution_count": null,
   "id": "9d7c4eae-d607-4ebb-9da0-48865f35644e",
   "metadata": {},
   "outputs": [],
   "source": [
    "# Define paths\n",
    "raw_data_dir = \"/mnt/DATA3/daniel/project/01_ATAC_preprocessing/data/raw_data\"\n",
    "trimmed_data_dir = \"/mnt/DATA3/daniel/project/01_ATAC_preprocessing/data/trimmed_data/\"\n",
    "trimmomatic_jar = \"/home/ubuntu/miniconda3/envs/daniel_env_py/share/trimmomatic-0.39-2/trimmomatic.jar\"\n",
    "adapter_file = \"/home/ubuntu/miniconda3/envs/daniel_env_py/share/trimmomatic-0.39-2/adapters/NexteraPE-PE.fa\"\n",
    "\n",
    "# Ensure trimmed data directory exists\n",
    "os.makedirs(trimmed_data_dir, exist_ok=True)"
   ]
  },
  {
   "cell_type": "markdown",
   "id": "f200acb5-5772-4c6b-8fa5-43d0232e359e",
   "metadata": {},
   "source": [
    "## Process each sample"
   ]
  },
  {
   "cell_type": "code",
   "execution_count": null,
   "id": "1fec6405-3dc5-4a64-abd3-a71e6bfa4577",
   "metadata": {},
   "outputs": [],
   "source": [
    "# Get list of sample directories\n",
    "sample_dirs = [d for d in os.listdir(raw_data_dir) if os.path.isdir(os.path.join(raw_data_dir, d))]\n",
    "\n",
    "# Process each sample\n",
    "for sample_dir in sample_dirs:\n",
    "    sample_name = sample_dir  # Use folder name as sample name\n",
    "    fastq1 = os.path.join(raw_data_dir, sample_dir, f\"{sample_name.split('_')[-1]}_1.fastq\")\n",
    "    fastq2 = os.path.join(raw_data_dir, sample_dir, f\"{sample_name.split('_')[-1]}_2.fastq\")\n",
    "\n",
    "    # Define cell type folder\n",
    "    cell_type_folder = os.path.join(trimmed_data_dir, sample_name)\n",
    "    os.makedirs(cell_type_folder, exist_ok=True)  \n",
    "\n",
    "    # Define output trimmed FASTQ file paths inside cell type folder\n",
    "    trimmed_fastq1 = os.path.join(cell_type_folder, f\"{sample_name}_1.trimmed.fastq\")\n",
    "    trimmed_fastq2 = os.path.join(cell_type_folder, f\"{sample_name}_2.trimmed.fastq\")\n",
    "\n",
    "    # Trimmomatic command\n",
    "    trimmomatic_command = [\n",
    "        \"java\", \"-jar\", trimmomatic_jar, \"PE\", \"-threads\", \"8\",\n",
    "        fastq1, fastq2,  # Input paired-end FASTQ files\n",
    "        trimmed_fastq1, \"/dev/null\",  # Forward reads (trimmed) + discard unpaired\n",
    "        trimmed_fastq2, \"/dev/null\",  # Reverse reads (trimmed) + discard unpaired\n",
    "        \"ILLUMINACLIP:\" + adapter_file + \":2:30:10\",  # Adapter trimming\n",
    "        \"LEADING:3\",  # Remove leading low-quality bases\n",
    "        \"TRAILING:3\",  # Remove trailing low-quality bases\n",
    "        \"SLIDINGWINDOW:4:15\",  # Sliding window quality filter\n",
    "        \"MINLEN:36\"  # Minimum read length\n",
    "    ]\n",
    "\n",
    "    # Run trimming\n",
    "    try:\n",
    "        print(f\"Processing {sample_name} with Trimmomatic...\")\n",
    "        subprocess.run(trimmomatic_command, check=True)\n",
    "        print(f\"Trimming completed for {sample_name}. Trimmed files saved in: {cell_type_folder}\")\n",
    "    except subprocess.CalledProcessError as e:\n",
    "        print(f\"Error processing {sample_name}: {e}\")\n",
    "\n",
    "print(\"\\n### All samples have been trimmed and stored in their respective cell type folders! ###\")\n"
   ]
  },
  {
   "cell_type": "code",
   "execution_count": null,
   "id": "14de87a4-ec61-4200-a245-8e2026481225",
   "metadata": {},
   "outputs": [],
   "source": []
  }
 ],
 "metadata": {
  "kernelspec": {
   "display_name": "Python 3 (ipykernel)",
   "language": "python",
   "name": "python3"
  },
  "language_info": {
   "codemirror_mode": {
    "name": "ipython",
    "version": 3
   },
   "file_extension": ".py",
   "mimetype": "text/x-python",
   "name": "python",
   "nbconvert_exporter": "python",
   "pygments_lexer": "ipython3",
   "version": "3.9.18"
  }
 },
 "nbformat": 4,
 "nbformat_minor": 5
}
