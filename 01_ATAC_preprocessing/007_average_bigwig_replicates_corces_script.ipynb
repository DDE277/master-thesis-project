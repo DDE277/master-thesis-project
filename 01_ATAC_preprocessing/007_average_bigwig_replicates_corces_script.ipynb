{
 "cells": [
  {
   "cell_type": "markdown",
   "id": "3403b697-c1a8-4a4a-9f3d-731234b9f565",
   "metadata": {},
   "source": [
    "# Average replicates in bigwig files from Corces et al."
   ]
  },
  {
   "cell_type": "markdown",
   "id": "290bd11d-9eeb-4f1b-be9f-1b1d94835899",
   "metadata": {},
   "source": [
    "## Import required libraries"
   ]
  },
  {
   "cell_type": "code",
   "execution_count": null,
   "id": "d61bdd19-a2f5-4061-9f4e-075650faa862",
   "metadata": {},
   "outputs": [],
   "source": [
    "import os\n",
    "import subprocess\n",
    "import glob\n",
    "import re\n",
    "import tempfile"
   ]
  },
  {
   "cell_type": "markdown",
   "id": "13f67384",
   "metadata": {},
   "source": [
    "## Define directories and load files"
   ]
  },
  {
   "cell_type": "code",
   "execution_count": null,
   "id": "dda67af7",
   "metadata": {},
   "outputs": [],
   "source": [
    "# Paths\n",
    "merged_files_dir = \"/mnt/DATA3/daniel/project/01_ATAC_preprocessing/data/corces/LUSC_merged_samples/\"\n",
    "os.makedirs(merged_files_dir, exist_ok=True)\n",
    "\n",
    "bw_files = glob.glob(\"/mnt/DATA3/daniel/project/01_ATAC_preprocessing/data/corces/LUSC_bigWig_data/LUSC_*.bw\")"
   ]
  },
  {
   "cell_type": "code",
   "execution_count": null,
   "id": "bd5c766a",
   "metadata": {},
   "outputs": [],
   "source": [
    "# Filter files\n",
    "t1_files = [f for f in bw_files if \"_T1_\" in f]\n",
    "t2_files = [f for f in bw_files if \"_T2_\" in f]"
   ]
  },
  {
   "cell_type": "code",
   "execution_count": null,
   "id": "094ffa7a",
   "metadata": {},
   "outputs": [],
   "source": [
    "def get_sample_prefix(filename):\n",
    "    parts = re.split(r\"_L\\d+_\", os.path.basename(filename))\n",
    "    return parts[0]"
   ]
  },
  {
   "cell_type": "code",
   "execution_count": null,
   "id": "8aee8aaf",
   "metadata": {},
   "outputs": [],
   "source": [
    "# Create file dictionaries\n",
    "t1_dict = {get_sample_prefix(f): f for f in t1_files}\n",
    "t2_dict = {get_sample_prefix(f): f for f in t2_files}"
   ]
  },
  {
   "cell_type": "code",
   "execution_count": null,
   "id": "cbecdd4e",
   "metadata": {},
   "outputs": [],
   "source": [
    "# Match T1 and T2 files\n",
    "pairs = {prefix: (t1_file, t2_dict[prefix]) for prefix, t1_file in t1_dict.items() if prefix in t2_dict}"
   ]
  },
  {
   "cell_type": "markdown",
   "id": "fbe6f154-c72f-4a15-9a1b-6953bde042af",
   "metadata": {},
   "source": [
    "## Average replicates\n",
    "- Check if both replicates have a score, if yes take the average"
   ]
  },
  {
   "cell_type": "code",
   "execution_count": null,
   "id": "81580ad8",
   "metadata": {},
   "outputs": [],
   "source": [
    "# Process each pair\n",
    "for prefix, (t1_file, t2_file) in pairs.items():\n",
    "    output_bg = os.path.join(merged_files_dir, f\"{prefix}_merged.bedGraph\")\n",
    "    print(f\"Processing sample: {prefix}\")\n",
    "\n",
    "    # Temporary files for intermediate steps\n",
    "    with tempfile.NamedTemporaryFile(delete=False) as t1_temp, tempfile.NamedTemporaryFile(delete=False) as t2_temp:\n",
    "        t1_temp_name = t1_temp.name\n",
    "        t2_temp_name = t2_temp.name\n",
    "\n",
    "        # Convert BigWig to BedGraph\n",
    "        subprocess.run(\n",
    "            [\"bigWigToBedGraph\", t1_file, t1_temp_name],\n",
    "            check=True\n",
    "        )\n",
    "        subprocess.run(\n",
    "            [\"bigWigToBedGraph\", t2_file, t2_temp_name],\n",
    "            check=True\n",
    "        )\n",
    "\n",
    "        # Combine BedGraphs using unionbedg\n",
    "        combined_temp_name = tempfile.NamedTemporaryFile(delete=False).name\n",
    "        subprocess.run(\n",
    "            [\"bedtools\", \"unionbedg\", \"-i\", t1_temp_name, t2_temp_name],\n",
    "            stdout=open(combined_temp_name, \"w\"),\n",
    "            check=True\n",
    "        )\n",
    "\n",
    "        # Filter for regions present in both replicates and calculate the mean score\n",
    "        with open(output_bg, \"w\") as out:\n",
    "            subprocess.run(\n",
    "                [\"awk\", '{OFS=\"\\t\"; if ($4 != \".\" && $5 != \".\") {mean=($4+$5)/2; print $1,$2,$3,mean}}'],\n",
    "                input=open(combined_temp_name).read(),\n",
    "                stdout=out,\n",
    "                text=True,\n",
    "                check=True\n",
    "            )\n",
    "\n",
    "        # Remove temporary files\n",
    "        os.remove(t1_temp_name)\n",
    "        os.remove(t2_temp_name)\n",
    "        os.remove(combined_temp_name)\n",
    "\n",
    "print(\"Merging completed. Check the LUAD_merged_samples directory for output files.\")"
   ]
  }
 ],
 "metadata": {
  "kernelspec": {
   "display_name": "Python 3 (ipykernel)",
   "language": "python",
   "name": "python3"
  },
  "language_info": {
   "codemirror_mode": {
    "name": "ipython",
    "version": 3
   },
   "file_extension": ".py",
   "mimetype": "text/x-python",
   "name": "python",
   "nbconvert_exporter": "python",
   "pygments_lexer": "ipython3",
   "version": "3.9.18"
  }
 },
 "nbformat": 4,
 "nbformat_minor": 5
}
