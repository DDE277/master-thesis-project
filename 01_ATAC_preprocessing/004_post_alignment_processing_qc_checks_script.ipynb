{
 "cells": [
  {
   "cell_type": "markdown",
   "id": "47d064d8-2264-4081-a043-3697e6deb72a",
   "metadata": {},
   "source": [
    "## ATAC-seq preprocessing and quality control (post-alignment)\n",
    "- Removes reads to blacklist and chrM\n",
    "- Filter out low quality reads"
   ]
  },
  {
   "cell_type": "markdown",
   "id": "76889450-121f-4097-a5da-58bfd5b56bff",
   "metadata": {},
   "source": [
    "## Import required libraries"
   ]
  },
  {
   "cell_type": "code",
   "execution_count": null,
   "id": "4fe22d2c-26fc-4793-ba15-ce7227e001e6",
   "metadata": {},
   "outputs": [],
   "source": [
    "import os\n",
    "import subprocess"
   ]
  },
  {
   "cell_type": "markdown",
   "id": "6978bbb5-9107-44c3-94ce-46aedeec52c6",
   "metadata": {},
   "source": [
    "## Define paths"
   ]
  },
  {
   "cell_type": "code",
   "execution_count": null,
   "id": "f87ba383-ba0e-4d74-9b62-413aaa745301",
   "metadata": {},
   "outputs": [],
   "source": [
    "# Define directories\n",
    "aligned_bam_dir = \"/mnt/DATA3/daniel/project/01_ATAC_preprocessing/data/aligned_trimmed_data/\"\n",
    "output_dir = \"/mnt/DATA3/daniel/project/01_ATAC_preprocessing/data/preprocessed_QC__trimmed_data/\"\n",
    "blacklist_bed = \"/mnt/DATA1/resources/reference_genomes/blacklist/ENCFF356LFX-hg38.bed\"\n",
    "\n",
    "# Ensure output directory exists\n",
    "os.makedirs(output_dir, exist_ok=True)\n",
    "\n",
    "# Get list of BAM files\n",
    "bam_files = [\n",
    "    f for f in os.listdir(aligned_bam_dir) \n",
    "    if f.endswith(\"_aligned_sorted.bam\") and not f.startswith(\"hepatocytes\")\n",
    "]"
   ]
  },
  {
   "cell_type": "markdown",
   "id": "2dde323f-688f-40a7-81ea-f6dcfa48d24c",
   "metadata": {},
   "source": [
    "## Process each sample"
   ]
  },
  {
   "cell_type": "code",
   "execution_count": null,
   "id": "5031b448-a9af-41b3-beb8-cebb8fd3f694",
   "metadata": {},
   "outputs": [],
   "source": [
    "# Process each BAM file\n",
    "for bam_file in bam_files:\n",
    "    sample_name = bam_file.replace(\"_aligned_sorted.bam\", \"\")\n",
    "    input_bam = os.path.join(aligned_bam_dir, bam_file)\n",
    "\n",
    "    print(f\"\\n### Processing {sample_name} ###\")\n",
    "\n",
    "    # Define output file paths\n",
    "    idxstats_file = os.path.join(output_dir, f\"{sample_name}.idxstats\")\n",
    "    stats_file = os.path.join(output_dir, f\"{sample_name}.stats\")\n",
    "    blacklisted_bam = os.path.join(output_dir, f\"{sample_name}.blacklist_filt.bam\")\n",
    "    no_chrM_bam = os.path.join(output_dir, f\"{sample_name}.blacklist_nochrM_filt.bam\")\n",
    "    final_bam = os.path.join(output_dir, f\"{sample_name}.final_preprocessed.bam\")\n",
    "\n",
    "    # Run samtools idxstats\n",
    "    cmd_idxstats = f\"samtools idxstats {input_bam} > {idxstats_file}\"\n",
    "    subprocess.run(cmd_idxstats, shell=True, check=True)\n",
    "    print(f\"Generated idxstats: {idxstats_file}\")\n",
    "\n",
    "    # Run samtools stats\n",
    "    cmd_stats = f\"samtools stats {input_bam} > {stats_file}\"\n",
    "    subprocess.run(cmd_stats, shell=True, check=True)\n",
    "    print(f\"Generated mapping stats: {stats_file}\")\n",
    "\n",
    "    # Remove reads in blacklisted regions\n",
    "    cmd_blacklist_filter = f\"bedtools intersect -v -a {input_bam} -b {blacklist_bed} > {blacklisted_bam}\"\n",
    "    subprocess.run(cmd_blacklist_filter, shell=True, check=True)\n",
    "    print(f\"Filtered blacklisted regions: {blacklisted_bam}\")\n",
    "\n",
    "    # Remove chrM reads\n",
    "    cmd_remove_chrM = (\n",
    "        f\"samtools view -h {blacklisted_bam} | \"  \n",
    "        f\"grep -v '^@SQ.*SN:chrM' | \"  \n",
    "        f\"awk '$3 != \\\"chrM\\\" && $7 != \\\"chrM\\\" || $1 ~ /^@/' | \"  \n",
    "        f\"samtools view -b -o {no_chrM_bam} -\"\n",
    "    )\n",
    "    subprocess.run(cmd_remove_chrM, shell=True, check=True)\n",
    "    print(f\"Removed chrM reads: {no_chrM_bam}\")\n",
    "\n",
    "    # Remove low-quality reads (-q 5)\n",
    "    cmd_remove_low_quality = f\"samtools view -b -f 0x2 -q 5 -o {final_bam} {no_chrM_bam}\"\n",
    "    subprocess.run(cmd_remove_low_quality, shell=True, check=True)\n",
    "    print(f\"Removed low-quality reads: {final_bam}\")\n",
    "\n",
    "    # Index the final BAM file\n",
    "    cmd_index = f\"samtools index {final_bam}\"\n",
    "    subprocess.run(cmd_index, shell=True, check=True)\n",
    "    print(f\"Indexed: {final_bam}.bai\")\n",
    "\n",
    "    # Generate final QC report\n",
    "    cmd_flagstat = f\"samtools flagstat {final_bam} > {final_bam}.flagstat\"\n",
    "    subprocess.run(cmd_flagstat, shell=True, check=True)\n",
    "    print(f\"Generated flagstat report: {final_bam}.flagstat\")\n",
    "\n",
    "print(\"\\n### QC Processing Completed for All Samples! ###\")\n"
   ]
  }
 ],
 "metadata": {
  "kernelspec": {
   "display_name": "Python 3 (ipykernel)",
   "language": "python",
   "name": "python3"
  },
  "language_info": {
   "codemirror_mode": {
    "name": "ipython",
    "version": 3
   },
   "file_extension": ".py",
   "mimetype": "text/x-python",
   "name": "python",
   "nbconvert_exporter": "python",
   "pygments_lexer": "ipython3",
   "version": "3.9.18"
  }
 },
 "nbformat": 4,
 "nbformat_minor": 5
}
