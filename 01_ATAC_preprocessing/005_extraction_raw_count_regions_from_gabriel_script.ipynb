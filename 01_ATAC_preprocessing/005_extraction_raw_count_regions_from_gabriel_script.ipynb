{
 "cells": [
  {
   "cell_type": "markdown",
   "id": "c8e2035b",
   "metadata": {},
   "source": [
    "# Extract the raw count regions from Gabriel et al."
   ]
  },
  {
   "cell_type": "markdown",
   "id": "49b92da4-16a8-4a56-902e-afce1531ed93",
   "metadata": {},
   "source": [
    "## Import required libraries"
   ]
  },
  {
   "cell_type": "code",
   "execution_count": null,
   "id": "3a89d349",
   "metadata": {},
   "outputs": [],
   "source": [
    "import pandas as pd"
   ]
  },
  {
   "cell_type": "markdown",
   "id": "3469c08f-1d30-4496-a688-1807ee13abec",
   "metadata": {},
   "source": [
    "## Define directories and load files"
   ]
  },
  {
   "cell_type": "code",
   "execution_count": null,
   "id": "bd5c766a",
   "metadata": {},
   "outputs": [],
   "source": [
    "# File path to the raw_counts.txt\n",
    "file_path_gfeller = \"/mnt/DATA3/daniel/project/01_ATAC_preprocessing/data/gabriel/markers_identification_input_files/raw_counts.txt\"\n",
    "\n",
    "# Load the file\n",
    "raw_counts_gfeller_df = pd.read_csv(file_path_gfeller, sep=\"\\t\") "
   ]
  },
  {
   "cell_type": "code",
   "execution_count": null,
   "id": "bc31663c",
   "metadata": {},
   "outputs": [],
   "source": [
    "# Check the first few rows\n",
    "# print(raw_counts_gfeller_df)"
   ]
  },
  {
   "cell_type": "code",
   "execution_count": null,
   "id": "8e3232cf",
   "metadata": {},
   "outputs": [],
   "source": [
    "# Check dimensions of the dataframes\n",
    "print(raw_counts_gfeller_df.shape)"
   ]
  },
  {
   "cell_type": "code",
   "execution_count": null,
   "id": "b484ec8e",
   "metadata": {},
   "outputs": [],
   "source": [
    "# Reset the index to access the regions\n",
    "regions_df = raw_counts_gfeller_df.reset_index()"
   ]
  },
  {
   "cell_type": "code",
   "execution_count": null,
   "id": "aecb540a",
   "metadata": {},
   "outputs": [],
   "source": [
    "# Split the index column (which contains regions) into chromosome, start, and end\n",
    "regions_df[['chr', 'start', 'end']] = regions_df['index'].str.split('[:-]', expand=True)"
   ]
  },
  {
   "cell_type": "markdown",
   "id": "bd74a3d6-ab67-4d02-85d8-7bd25eb09064",
   "metadata": {},
   "source": [
    "## Extract the chromosome, start, and end"
   ]
  },
  {
   "cell_type": "code",
   "execution_count": null,
   "id": "c143168d",
   "metadata": {},
   "outputs": [],
   "source": [
    "# Keep only the columns required for BED format (chromosome, start, end)\n",
    "bed_df = regions_df[['chr', 'start', 'end']]"
   ]
  },
  {
   "cell_type": "code",
   "execution_count": null,
   "id": "ca6f9db1",
   "metadata": {},
   "outputs": [],
   "source": [
    "print(bed_df.head())\n",
    "print(bed_df.shape)"
   ]
  },
  {
   "cell_type": "code",
   "execution_count": null,
   "id": "dea9f86c",
   "metadata": {},
   "outputs": [],
   "source": [
    "# Save to a BED file\n",
    "bed_df.to_csv('/mnt/DATA3/daniel/project/01_ATAC_preprocessing/data/original_reference_regions.bed', sep='\\t', header=False, index=False)"
   ]
  },
  {
   "cell_type": "code",
   "execution_count": null,
   "id": "35d92ed4-7b3e-4bc0-8670-0bbdc6d68e44",
   "metadata": {},
   "outputs": [],
   "source": []
  },
  {
   "cell_type": "code",
   "execution_count": null,
   "id": "2be7f91d-e3ef-45cc-bfa3-648db9f20e06",
   "metadata": {},
   "outputs": [],
   "source": []
  }
 ],
 "metadata": {
  "kernelspec": {
   "display_name": "Python 3 (ipykernel)",
   "language": "python",
   "name": "python3"
  },
  "language_info": {
   "codemirror_mode": {
    "name": "ipython",
    "version": 3
   },
   "file_extension": ".py",
   "mimetype": "text/x-python",
   "name": "python",
   "nbconvert_exporter": "python",
   "pygments_lexer": "ipython3",
   "version": "3.9.18"
  }
 },
 "nbformat": 4,
 "nbformat_minor": 5
}
