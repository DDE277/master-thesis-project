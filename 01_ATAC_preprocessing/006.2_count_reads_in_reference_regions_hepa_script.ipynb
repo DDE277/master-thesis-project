{
 "cells": [
  {
   "cell_type": "markdown",
   "id": "d5115346-d42d-4c68-8540-050e69235ac9",
   "metadata": {},
   "source": [
    "# Read counts in reference matrix regions from Gabriel et al. for hepatocytes"
   ]
  },
  {
   "cell_type": "markdown",
   "id": "d4037d8a-38c9-43d3-9697-37b3e2d4f154",
   "metadata": {},
   "source": [
    "## Import required libraries"
   ]
  },
  {
   "cell_type": "code",
   "execution_count": null,
   "id": "504f4e23-777e-46b1-864e-33b387280877",
   "metadata": {},
   "outputs": [],
   "source": [
    "import pysam\n",
    "import pandas as pd\n",
    "import os\n",
    "import glob"
   ]
  },
  {
   "cell_type": "markdown",
   "id": "32db7441",
   "metadata": {},
   "source": [
    "## Define directories"
   ]
  },
  {
   "cell_type": "code",
   "execution_count": null,
   "id": "22b2a1ab",
   "metadata": {},
   "outputs": [],
   "source": [
    "# Define file paths\n",
    "bed_file = '/mnt/DATA3/daniel/project/01_ATAC_preprocessing/data/original_reference_regions.bed'\n",
    "output_dir = '/mnt/DATA3/daniel/project/01_ATAC_preprocessing/data/subset_trimmed_data_reference_hepa/'\n",
    "bam_dir = \"/mnt/DATA3/daniel/project/01_ATAC_preprocessing/data/preprocessed_QC__trimmed_data/\""
   ]
  },
  {
   "cell_type": "code",
   "execution_count": null,
   "id": "29c7ff18-0f0c-4d7c-b11a-8dd52d1ce2b6",
   "metadata": {},
   "outputs": [],
   "source": [
    "os.makedirs(output_dir, exist_ok=True)  "
   ]
  },
  {
   "cell_type": "markdown",
   "id": "a2f2d5de-93a4-46cd-a7c6-27906d592a9e",
   "metadata": {},
   "source": [
    "## Load reference matrix regions and pre-processed bam files"
   ]
  },
  {
   "cell_type": "code",
   "execution_count": null,
   "id": "96165510",
   "metadata": {},
   "outputs": [],
   "source": [
    "# Load regions from BED file\n",
    "regions = pd.read_csv(bed_file, sep='\\t', header=None, names=['chrom', 'start', 'end'])"
   ]
  },
  {
   "cell_type": "code",
   "execution_count": null,
   "id": "a0260377-b7d1-4b89-b557-7c1389165833",
   "metadata": {},
   "outputs": [],
   "source": [
    "print(regions.head())"
   ]
  },
  {
   "cell_type": "code",
   "execution_count": null,
   "id": "d901183f",
   "metadata": {},
   "outputs": [],
   "source": [
    "# Get a list of all BAM files\n",
    "bam_files = [f for f in glob.glob(os.path.join(bam_dir, \"*.final_preprocessed.bam\"))]\n",
    "\n",
    "# Filter only the hepatocytes BAM files\n",
    "hepatocytes_bam_files = [f for f in bam_files if \"hepatocytes\" in os.path.basename(f)]\n",
    "\n",
    "# Print filtered hepatocytes BAM files\n",
    "print(\"Hepatocytes BAM files:\", hepatocytes_bam_files)"
   ]
  },
  {
   "cell_type": "markdown",
   "id": "57e9c804-17c3-410c-9693-4e08de1c81c2",
   "metadata": {},
   "source": [
    "## Read counts in reference matrix regions"
   ]
  },
  {
   "cell_type": "code",
   "execution_count": null,
   "id": "0145bf3c",
   "metadata": {},
   "outputs": [],
   "source": [
    "# Iterate over each hepatocytes BAM file and count reads per region\n",
    "for bam_file in hepatocytes_bam_files:  \n",
    "    sample_name = os.path.splitext(os.path.basename(bam_file))[0]\n",
    "    print(f\"Processing {sample_name}...\")\n",
    "\n",
    "    # Initialize list to store read counts for the current sample\n",
    "    read_counts = []\n",
    "\n",
    "    # Open the BAM file and count reads for each region\n",
    "    with pysam.AlignmentFile(bam_file, \"rb\") as bam:\n",
    "        for _, row in regions.iterrows():\n",
    "            chrom, start, end = row['chrom'], int(row['start']), int(row['end'])\n",
    "            read_counts.append(bam.count(chrom, start, end))\n",
    "\n",
    "    # Add the sample's read counts to the DataFrame\n",
    "    regions[sample_name] = read_counts\n",
    "\n",
    "    # Define output file path\n",
    "    output_file = os.path.join(output_dir, f\"{sample_name}_read_counts.csv\")\n",
    "\n",
    "    # Save the updated DataFrame with the new column\n",
    "    regions[['chrom', 'start', 'end', sample_name]].to_csv(output_file, index=False)\n",
    "\n",
    "    print(f\"Read counts saved for {sample_name} to {output_file}\")\n",
    "\n",
    "print(\"All hepatocytes samples processed.\")\n"
   ]
  }
 ],
 "metadata": {
  "kernelspec": {
   "display_name": "Python 3 (ipykernel)",
   "language": "python",
   "name": "python3"
  },
  "language_info": {
   "codemirror_mode": {
    "name": "ipython",
    "version": 3
   },
   "file_extension": ".py",
   "mimetype": "text/x-python",
   "name": "python",
   "nbconvert_exporter": "python",
   "pygments_lexer": "ipython3",
   "version": "3.9.18"
  }
 },
 "nbformat": 4,
 "nbformat_minor": 5
}
