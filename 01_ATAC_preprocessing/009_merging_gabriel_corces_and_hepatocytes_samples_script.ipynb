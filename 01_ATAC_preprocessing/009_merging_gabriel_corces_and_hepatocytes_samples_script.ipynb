{
 "cells": [
  {
   "cell_type": "markdown",
   "id": "5ca7a38a-bd25-4463-a294-c6b2b0f0b142",
   "metadata": {},
   "source": [
    "# Merging ATAC-Seq raw counts from Gabriel, Corces cancer and hepatocyte samples"
   ]
  },
  {
   "cell_type": "markdown",
   "id": "2affb6d5-cdb7-43c2-8f97-296dbd4a4e40",
   "metadata": {},
   "source": [
    "## Import required libraries"
   ]
  },
  {
   "cell_type": "code",
   "execution_count": null,
   "id": "329eb682-6cd2-4e9c-8567-9af2ed1d2bc7",
   "metadata": {},
   "outputs": [],
   "source": [
    "import pandas as pd\n",
    "import re\n",
    "import glob\n",
    "import os"
   ]
  },
  {
   "cell_type": "markdown",
   "id": "76adf56d-f028-43c8-bdf8-24ee4c00759b",
   "metadata": {},
   "source": [
    "# Load the raw count matrix"
   ]
  },
  {
   "cell_type": "code",
   "execution_count": null,
   "id": "140d213d",
   "metadata": {},
   "outputs": [],
   "source": [
    "# Load raw counts\n",
    "raw_df = pd.read_csv(\n",
    "    \"/mnt/DATA3/daniel/project/01_ATAC_preprocessing/data/gabriel/markers_identification_input_files/raw_counts.txt\",\n",
    "    sep='\\t', header=0, index_col=None\n",
    ")\n",
    "raw_df.reset_index(inplace=True)\n",
    "raw_df.rename(columns={\"index\": \"region\"}, inplace=True)"
   ]
  },
  {
   "cell_type": "code",
   "execution_count": null,
   "id": "43b71c84",
   "metadata": {},
   "outputs": [],
   "source": [
    "print(raw_df)"
   ]
  },
  {
   "cell_type": "markdown",
   "id": "0c1fd2d7-1888-4aad-af79-e8b463058f1a",
   "metadata": {},
   "source": [
    "# Prepare chrom, start, end for merging"
   ]
  },
  {
   "cell_type": "code",
   "execution_count": null,
   "id": "f5f1d2db",
   "metadata": {},
   "outputs": [],
   "source": [
    "# Extract chrom, start, end\n",
    "region_pattern = r'^(chr[^:]+):(\\d+)-(\\d+)$'\n",
    "raw_df[['chrom', 'start', 'end']] = raw_df['region'].str.extract(region_pattern)"
   ]
  },
  {
   "cell_type": "code",
   "execution_count": null,
   "id": "cc65e500",
   "metadata": {},
   "outputs": [],
   "source": [
    "raw_df['start'] = raw_df['start'].astype(int)\n",
    "raw_df['end'] = raw_df['end'].astype(int)"
   ]
  },
  {
   "cell_type": "code",
   "execution_count": null,
   "id": "9898b02c",
   "metadata": {},
   "outputs": [],
   "source": [
    "# Put chrom, start, end at the front\n",
    "desired_order = ['chrom', 'start', 'end'] + [col for col in raw_df.columns if col not in ['chrom', 'start', 'end', 'region']]\n",
    "raw_df = raw_df[desired_order]"
   ]
  },
  {
   "cell_type": "code",
   "execution_count": null,
   "id": "fa53c0a6",
   "metadata": {},
   "outputs": [],
   "source": [
    "# Load metadata\n",
    "meta_df = pd.read_csv('/mnt/DATA3/daniel/project/01_ATAC_preprocessing/data/gabriel/markers_identification_input_files/metadata.txt', sep='\\t')"
   ]
  },
  {
   "cell_type": "code",
   "execution_count": null,
   "id": "ce409a95",
   "metadata": {},
   "outputs": [],
   "source": [
    "# Combine subgroups into main groups\n",
    "meta_df['groups'] = meta_df['groups'].replace({\n",
    "    'Naive_CD8_Tcells': 'CD8_Tcells',\n",
    "    'Non_Naive_CD8_Tcells': 'CD8_Tcells',\n",
    "    'Naive_CD4_Tcells': 'CD4_Tcells',\n",
    "    'Non_Naive_CD4_Tcells': 'CD4_Tcells',\n",
    "    'Tregs': 'CD4_Tcells'\n",
    "})"
   ]
  },
  {
   "cell_type": "code",
   "execution_count": null,
   "id": "da23feb4",
   "metadata": {},
   "outputs": [],
   "source": [
    "# Create a mapping from sample to group and append the sample name\n",
    "meta_df['group_with_sample'] = meta_df['groups'] + '_' + meta_df['sample']\n",
    "sample_to_group_with_sample = meta_df.set_index('sample')['group_with_sample'].to_dict()"
   ]
  },
  {
   "cell_type": "code",
   "execution_count": null,
   "id": "c44ae2e3",
   "metadata": {},
   "outputs": [],
   "source": [
    "# Rename columns in raw_df\n",
    "mapped_columns = {}\n",
    "for col in raw_df.columns:\n",
    "    if col in sample_to_group_with_sample:\n",
    "        mapped_columns[col] = sample_to_group_with_sample[col]\n",
    "\n",
    "raw_df.rename(columns=mapped_columns, inplace=True)"
   ]
  },
  {
   "cell_type": "code",
   "execution_count": null,
   "id": "8ae62a07",
   "metadata": {},
   "outputs": [],
   "source": [
    "print(raw_df.head())"
   ]
  },
  {
   "cell_type": "code",
   "execution_count": null,
   "id": "7b5def3b-0232-4dff-87e9-fcc1f4c26569",
   "metadata": {},
   "outputs": [],
   "source": [
    "print(raw_df.describe())"
   ]
  },
  {
   "cell_type": "markdown",
   "id": "39284b21",
   "metadata": {},
   "source": [
    "# Load the raw hepatocyte counts"
   ]
  },
  {
   "cell_type": "code",
   "execution_count": null,
   "id": "57120a42",
   "metadata": {},
   "outputs": [],
   "source": [
    "# Define directory containing hepatocyte read count files\n",
    "hepatocyte_dir = \"/mnt/DATA3/daniel/project/01_ATAC_preprocessing/data/subset_trimmed_data_reference_hepa/\""
   ]
  },
  {
   "cell_type": "code",
   "execution_count": null,
   "id": "3087cc36",
   "metadata": {},
   "outputs": [],
   "source": [
    "# Get all hepatocyte read count CSV files\n",
    "hepatocyte_files = glob.glob(os.path.join(hepatocyte_dir, \"hepatocytes_*.csv\"))"
   ]
  },
  {
   "cell_type": "code",
   "execution_count": null,
   "id": "946b87be",
   "metadata": {},
   "outputs": [],
   "source": [
    "# Initialize list to store individual dataframes\n",
    "hepatocyte_data = []\n",
    "\n",
    "# Loop through each file and load\n",
    "for file in hepatocyte_files:\n",
    "    # Extract SRR ID from filename\n",
    "    match = re.search(r'(SRR\\d+)', file)\n",
    "    if match:\n",
    "        srr_id = match.group(1)\n",
    "        sample_name = f\"hepatocytes_{srr_id}\" \n",
    "\n",
    "        # Load the file\n",
    "        df = pd.read_csv(file)\n",
    "\n",
    "        # Rename the last column \n",
    "        df = df.rename(columns={df.columns[-1]: sample_name})\n",
    "\n",
    "        # Append dataframe to list\n",
    "        hepatocyte_data.append(df)"
   ]
  },
  {
   "cell_type": "markdown",
   "id": "6db01fd3-688f-4d37-9daa-9e5523141a57",
   "metadata": {},
   "source": [
    "## Merge files based on chrom, start and end"
   ]
  },
  {
   "cell_type": "code",
   "execution_count": null,
   "id": "8c3ce5db",
   "metadata": {},
   "outputs": [],
   "source": [
    "# Merge all DataFrames based on 'chrom', 'start', and 'end' columns\n",
    "merged_hepatocyte_df = pd.concat(hepatocyte_data, axis=1).loc[:, ~pd.concat(hepatocyte_data, axis=1).columns.duplicated()]\n",
    "\n",
    "# Print summary statistics\n",
    "print(merged_hepatocyte_df.describe())"
   ]
  },
  {
   "cell_type": "code",
   "execution_count": null,
   "id": "7065bec1-aded-4691-b6c7-79d1a2ec3cc0",
   "metadata": {},
   "outputs": [],
   "source": [
    "# Save the dataframe to a CSV file\n",
    "# hepatocyte_df.to_csv(\"hepatocyte_data.csv\", index=False)"
   ]
  },
  {
   "cell_type": "markdown",
   "id": "9d3ebcbe-5927-4c5e-9b73-7c091116f743",
   "metadata": {},
   "source": [
    "## Merge hepatocytes with the raw count matrix"
   ]
  },
  {
   "cell_type": "code",
   "execution_count": null,
   "id": "2c61a8a4",
   "metadata": {},
   "outputs": [],
   "source": [
    "# Merge raw count matrix with hepatocyte data\n",
    "combined_df = pd.merge(\n",
    "    raw_df,  \n",
    "    merged_hepatocyte_df,  \n",
    "    on=['chrom', 'start', 'end'],  \n",
    "    how='outer'  \n",
    ")\n",
    "\n",
    "# Ensure chrom, start, end are at the front of the DataFrame\n",
    "final_columns = ['chrom', 'start', 'end'] + [col for col in combined_df.columns if col not in ['chrom', 'start', 'end']]\n",
    "combined_df = combined_df[final_columns]"
   ]
  },
  {
   "cell_type": "code",
   "execution_count": null,
   "id": "e6c75868",
   "metadata": {},
   "outputs": [],
   "source": [
    "# Display the final DataFrame\n",
    "print(combined_df)"
   ]
  },
  {
   "cell_type": "markdown",
   "id": "15b4378f",
   "metadata": {},
   "source": [
    "## Load corces cancer samples"
   ]
  },
  {
   "cell_type": "code",
   "execution_count": null,
   "id": "732f02b2",
   "metadata": {},
   "outputs": [],
   "source": [
    "# Path to the parent directory containing cancer folders\n",
    "parent_dir = \"/mnt/DATA3/daniel/project/01_ATAC_preprocessing/data/corces/\""
   ]
  },
  {
   "cell_type": "code",
   "execution_count": null,
   "id": "f6ca5b0c",
   "metadata": {},
   "outputs": [],
   "source": [
    "# List of cancer type folders to process\n",
    "cancer_folders = [\"COAD_per_sample_scores\", \"BRCA_per_sample_scores\", \n",
    "                  \"LUAD_per_sample_scores\", \"LUSC_per_sample_scores\"]"
   ]
  },
  {
   "cell_type": "code",
   "execution_count": null,
   "id": "02bf3ea0",
   "metadata": {},
   "outputs": [],
   "source": [
    "cancer_sample = pd.read_csv(\"/mnt/DATA3/daniel/project/01_ATAC_preprocessing/data/corces/COAD_per_sample_scores/COAD_0B139EBC_D372_4EC3_90DB_4CC9BC6F38DC_X006_S05_merged_weighted_scores.csv\")"
   ]
  },
  {
   "cell_type": "code",
   "execution_count": null,
   "id": "da728862",
   "metadata": {},
   "outputs": [],
   "source": [
    "# print(cancer_sample)"
   ]
  },
  {
   "cell_type": "code",
   "execution_count": null,
   "id": "24cf63ac",
   "metadata": {},
   "outputs": [],
   "source": [
    "# List to store data for all samples\n",
    "all_cancer_data = []"
   ]
  },
  {
   "cell_type": "code",
   "execution_count": null,
   "id": "34a15668",
   "metadata": {},
   "outputs": [],
   "source": [
    "# Loop through each folder and load files\n",
    "for folder in cancer_folders:\n",
    "    folder_path = os.path.join(parent_dir, folder)\n",
    "    files = glob.glob(f\"{folder_path}/*.csv\")\n",
    "\n",
    "    for file in files:\n",
    "        # Extract sample name\n",
    "        sample_name = os.path.basename(file).replace(\"_merged_weighted_scores.csv\", \"\")\n",
    "        \n",
    "        # Load data\n",
    "        df = pd.read_csv(file)\n",
    "\n",
    "        # Rename columns to match hepatocyte samples\n",
    "        df = df.rename(columns={\"Chromosome\": \"chrom\", \"Start\": \"start\", \"End\": \"end\"})\n",
    "\n",
    "        # Retain only the necessary columns\n",
    "        df = df[['chrom', 'start', 'end', df.columns[-1]]]\n",
    "        df = df.rename(columns={df.columns[-1]: sample_name})  \n",
    "        \n",
    "        # Append to list\n",
    "        all_cancer_data.append(df)"
   ]
  },
  {
   "cell_type": "markdown",
   "id": "1597a61d-7653-4221-a1ce-eadd2e511568",
   "metadata": {},
   "source": [
    "## Merge corces cancer samples with raw count matrix and hepatocytes"
   ]
  },
  {
   "cell_type": "code",
   "execution_count": null,
   "id": "c73a2c44",
   "metadata": {},
   "outputs": [],
   "source": [
    "# Merge all DataFrames on 'chrom', 'start', 'end'\n",
    "combined_cancer_df = all_cancer_data[0]\n",
    "for df in all_cancer_data[1:]:\n",
    "    combined_cancer_df = pd.merge(combined_cancer_df, df, on=['chrom', 'start', 'end'], how='outer')"
   ]
  },
  {
   "cell_type": "code",
   "execution_count": null,
   "id": "98664759",
   "metadata": {},
   "outputs": [],
   "source": [
    "# print(combined_cancer_df)"
   ]
  },
  {
   "cell_type": "code",
   "execution_count": null,
   "id": "02ff762c",
   "metadata": {},
   "outputs": [],
   "source": [
    "print(combined_cancer_df.describe())"
   ]
  },
  {
   "cell_type": "code",
   "execution_count": null,
   "id": "10d0a3ed-a96d-427f-b07a-623609ad555c",
   "metadata": {},
   "outputs": [],
   "source": [
    "# Save the dataframe to a CSV file\n",
    "# combined_cancer_df.to_csv(\"combined_cancer_df.csv\", index=False)"
   ]
  },
  {
   "cell_type": "code",
   "execution_count": null,
   "id": "b184c54a",
   "metadata": {},
   "outputs": [],
   "source": [
    "# Merge raw count matrix with other data\n",
    "all_combined_df = pd.merge(\n",
    "    combined_df,  \n",
    "    combined_cancer_df,  \n",
    "    on=['chrom', 'start', 'end'],  \n",
    "    how='outer' \n",
    ")\n",
    "\n",
    "# Ensure chrom, start, end are at the front of the DataFrame\n",
    "final_columns = ['chrom', 'start', 'end'] + [col for col in all_combined_df.columns if col not in ['chrom', 'start', 'end']]\n",
    "all_combined_df = all_combined_df[final_columns]"
   ]
  },
  {
   "cell_type": "code",
   "execution_count": null,
   "id": "5d2b07c4",
   "metadata": {},
   "outputs": [],
   "source": [
    "print(all_combined_df)"
   ]
  },
  {
   "cell_type": "markdown",
   "id": "689ca782-dacf-4654-9ba9-00481fdd4175",
   "metadata": {},
   "source": [
    "# Remove the monocytes from the combined dataset"
   ]
  },
  {
   "cell_type": "code",
   "execution_count": null,
   "id": "3cdc3eeb-f754-4d24-ab8c-891dee807afc",
   "metadata": {},
   "outputs": [],
   "source": [
    "# Remove all columns containing Monocytes\n",
    "filtered_df = all_combined_df.loc[:, ~all_combined_df.columns.str.contains(\"Monocytes\")]\n",
    "\n",
    "# Print the updated DataFrame structure\n",
    "print(filtered_df.shape)  \n",
    "print(filtered_df.head())  "
   ]
  },
  {
   "cell_type": "markdown",
   "id": "ed802127-9f46-41bc-99dd-09d250fcdbf8",
   "metadata": {},
   "source": [
    "# Save merged raw count matrix"
   ]
  },
  {
   "cell_type": "code",
   "execution_count": null,
   "id": "a2470cd1",
   "metadata": {},
   "outputs": [],
   "source": [
    "# Save DataFrame to CSV\n",
    "filtered_df.to_csv(\"/mnt/DATA3/daniel/project/01_ATAC_preprocessing/data/raw_counts_matrix.csv\", index=False)"
   ]
  },
  {
   "cell_type": "code",
   "execution_count": null,
   "id": "da6e810f-5d2a-4bd3-888e-2264dd883a24",
   "metadata": {},
   "outputs": [],
   "source": []
  },
  {
   "cell_type": "code",
   "execution_count": null,
   "id": "e7ab3a46-f9f5-4354-a3d3-9ec547a050bb",
   "metadata": {},
   "outputs": [],
   "source": []
  }
 ],
 "metadata": {
  "kernelspec": {
   "display_name": "Python 3 (ipykernel)",
   "language": "python",
   "name": "python3"
  },
  "language_info": {
   "codemirror_mode": {
    "name": "ipython",
    "version": 3
   },
   "file_extension": ".py",
   "mimetype": "text/x-python",
   "name": "python",
   "nbconvert_exporter": "python",
   "pygments_lexer": "ipython3",
   "version": "3.9.18"
  }
 },
 "nbformat": 4,
 "nbformat_minor": 5
}
