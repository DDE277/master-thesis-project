{
 "cells": [
  {
   "cell_type": "markdown",
   "id": "bd918e7f-5896-4ddb-a527-30e43759d359",
   "metadata": {},
   "source": [
    "## Alignment to hg38 with bowtie2 on the adapter trimmed data"
   ]
  },
  {
   "cell_type": "markdown",
   "id": "24c06750-9dca-483b-a0ff-c447b454292e",
   "metadata": {},
   "source": [
    "## Import required libraries"
   ]
  },
  {
   "cell_type": "code",
   "execution_count": null,
   "id": "3d2be95b-2c77-447c-917a-c776eba681d1",
   "metadata": {},
   "outputs": [],
   "source": [
    "import subprocess\n",
    "import os"
   ]
  },
  {
   "cell_type": "markdown",
   "id": "6f152569-d11f-4924-942d-2ac51a109497",
   "metadata": {},
   "source": [
    "## Define paths"
   ]
  },
  {
   "cell_type": "code",
   "execution_count": null,
   "id": "2ea5e400",
   "metadata": {},
   "outputs": [],
   "source": [
    "# Define directories\n",
    "raw_data_dir = \"/mnt/DATA3/daniel/project/01_ATAC_preprocessing/data/trimmed_data/\"\n",
    "output_dir = \"/mnt/DATA3/daniel/project/01_ATAC_preprocessing/data/aligned_trimmed_data/\"\n",
    "bowtie2_index_base = \"/mnt/DATA1/resources/reference_genomes/hg38\"\n",
    "\n",
    "# Ensure output directory exists\n",
    "os.makedirs(output_dir, exist_ok=True)\n",
    "\n",
    "# Get list of all sample directories\n",
    "sample_dirs = [d for d in os.listdir(raw_data_dir) if os.path.isdir(os.path.join(raw_data_dir, d))]\n",
    "\n",
    "# List to store sample details\n",
    "samples = []\n"
   ]
  },
  {
   "cell_type": "markdown",
   "id": "7f3e5fa9-bbdf-40e1-9160-3a81e5494fca",
   "metadata": {},
   "source": [
    "## Process each sample"
   ]
  },
  {
   "cell_type": "code",
   "execution_count": null,
   "id": "ecaae94f",
   "metadata": {},
   "outputs": [],
   "source": [
    "# Populate the list of samples\n",
    "for sample_dir in sample_dirs:\n",
    "    sample_name = sample_dir  # Use folder name as sample name\n",
    "    fastq1 = os.path.join(raw_data_dir, sample_dir, f\"{sample_name}_1.trimmed.fastq\")\n",
    "    fastq2 = os.path.join(raw_data_dir, sample_dir, f\"{sample_name}_2.trimmed.fastq\")\n",
    "    sorted_bam = os.path.join(output_dir, f\"{sample_name}_aligned_sorted.bam\")\n",
    "    dedup_bam = os.path.join(output_dir, f\"{sample_name}_aligned_sorted_dedup.bam\")\n",
    "\n",
    "    # Check if the expected files exist before adding\n",
    "    if os.path.exists(fastq1) and os.path.exists(fastq2):\n",
    "        samples.append({'sample_name': sample_name, 'fastq1': fastq1, 'fastq2': fastq2, \n",
    "                        'sorted_bam': sorted_bam, 'dedup_bam': dedup_bam})\n",
    "    else:\n",
    "        print(f\"Skipping {sample_name} (missing FASTQ files)\")\n",
    "\n",
    "# Process each sample\n",
    "for sample in samples:\n",
    "    sample_name = sample['sample_name']\n",
    "    fastq1 = sample['fastq1']\n",
    "    fastq2 = sample['fastq2']\n",
    "    sorted_bam = sample['sorted_bam']\n",
    "    dedup_bam = sample['dedup_bam']\n",
    "\n",
    "    print(f\"\\n### Processing {sample_name} with Bowtie2 ###\")\n",
    "\n",
    "    # Bowtie2 command\n",
    "    bowtie2_command = [\n",
    "        \"bowtie2\",\n",
    "        \"-p\", \"16\",\n",
    "        \"--very-sensitive\",\n",
    "        \"-x\", bowtie2_index_base,\n",
    "        \"-1\", fastq1,\n",
    "        \"-2\", fastq2\n",
    "    ]\n",
    "\n",
    "    # Samtools sort command\n",
    "    samtools_sort_command = [\n",
    "        \"samtools\", \"sort\",\n",
    "        \"-@\", \"16\",\n",
    "        \"-o\", sorted_bam\n",
    "    ]\n",
    "\n",
    "    try:\n",
    "        # Run Bowtie2 and pipe output to Samtools sort\n",
    "        with subprocess.Popen(bowtie2_command, stdout=subprocess.PIPE, stderr=subprocess.PIPE) as bowtie2_process, \\\n",
    "             subprocess.Popen(samtools_sort_command, stdin=bowtie2_process.stdout, stderr=subprocess.PIPE) as samtools_process:\n",
    "\n",
    "            bowtie2_process.stdout.close()  \n",
    "            _, samtools_err = samtools_process.communicate()\n",
    "\n",
    "            if samtools_process.returncode != 0:\n",
    "                print(f\"Error: Samtools sorting failed for {sample_name}\\n{samtools_err.decode('utf-8')}\")\n",
    "                continue\n",
    "\n",
    "        print(f\"Alignment and sorting completed for {sample_name}.\")\n",
    "\n",
    "        # Remove duplicates using Samtools markdup\n",
    "        print(f\"Removing duplicates for {sample_name}...\")\n",
    "        samtools_markdup_command = [\n",
    "            \"samtools\", \"markdup\",\n",
    "            \"-r\", \"-@\", \"16\", sorted_bam, dedup_bam\n",
    "        ]\n",
    "        subprocess.run(samtools_markdup_command, check=True)\n",
    "        print(f\"Duplicate removal completed for {sample_name}.\")\n",
    "\n",
    "        # Run Samtools index\n",
    "        samtools_index_command = [\"samtools\", \"index\", dedup_bam]\n",
    "        subprocess.run(samtools_index_command, check=True)\n",
    "\n",
    "        print(f\"Indexing completed for {sample_name}.\")\n",
    "\n",
    "    except Exception as e:\n",
    "        print(f\"An error occurred while processing {sample_name}: {e}\")\n",
    "\n",
    "print(\"\\n### All samples have been processed! ###\")"
   ]
  }
 ],
 "metadata": {
  "kernelspec": {
   "display_name": "Python 3 (ipykernel)",
   "language": "python",
   "name": "python3"
  },
  "language_info": {
   "codemirror_mode": {
    "name": "ipython",
    "version": 3
   },
   "file_extension": ".py",
   "mimetype": "text/x-python",
   "name": "python",
   "nbconvert_exporter": "python",
   "pygments_lexer": "ipython3",
   "version": "3.9.18"
  }
 },
 "nbformat": 4,
 "nbformat_minor": 5
}
