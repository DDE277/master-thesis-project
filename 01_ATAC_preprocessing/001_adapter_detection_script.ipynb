{
 "cells": [
  {
   "cell_type": "markdown",
   "id": "30c21e1d-c4a3-4739-ba9a-bbfbda9466c3",
   "metadata": {},
   "source": [
    "## Adapter detection in ATAC-Seq raw data"
   ]
  },
  {
   "cell_type": "markdown",
   "id": "255d69fe-c70b-4677-8ae3-e0563c791141",
   "metadata": {},
   "source": [
    "## Import required libraries"
   ]
  },
  {
   "cell_type": "code",
   "execution_count": null,
   "id": "087ef0c6-bdcb-4803-9f3f-889d2b949a21",
   "metadata": {},
   "outputs": [],
   "source": [
    "import os\n",
    "import subprocess\n",
    "import multiprocessing\n",
    "import json"
   ]
  },
  {
   "cell_type": "markdown",
   "id": "f5003c59-00d7-4fb3-a7fa-436ec15a19bb",
   "metadata": {},
   "source": [
    "## Run fastq on the ATAC-Seq raw data"
   ]
  },
  {
   "cell_type": "code",
   "execution_count": null,
   "id": "376ba107-06f1-42b3-8d0e-2ef062352226",
   "metadata": {},
   "outputs": [],
   "source": [
    "# Define input and output directories\n",
    "raw_data_dir = \"/mnt/DATA3/daniel/project/01_ATAC_preprocessing/data/raw_data\"\n",
    "fastp_output_dir = \"/mnt/DATA3/daniel/project/01_ATAC_preprocessing/data/fastp_reports\"\n",
    "\n",
    "# Ensure output directory exists\n",
    "os.makedirs(fastp_output_dir, exist_ok=True)\n",
    "\n",
    "# Get a list of all FASTQ files in the dataset\n",
    "fastq_files = []\n",
    "for root, _, files in os.walk(raw_data_dir):\n",
    "    for file in files:\n",
    "        if file.endswith(\".fastq\") or file.endswith(\".fq\"):\n",
    "            fastq_files.append(os.path.join(root, file))\n",
    "\n",
    "print(f\"Found {len(fastq_files)} FASTQ files.\")\n",
    "\n",
    "# Function to run fastp on a single file\n",
    "def run_fastp(fastq_file):\n",
    "    base_name = os.path.basename(fastq_file).replace(\".fastq\", \"\").replace(\".fq\", \"\")\n",
    "    json_output = os.path.join(fastp_output_dir, f\"{base_name}_fastp.json\")\n",
    "    html_output = os.path.join(fastp_output_dir, f\"{base_name}_fastp.html\")\n",
    "\n",
    "    print(f\"\\n### Processing {fastq_file} with fastp ###\")\n",
    "\n",
    "    try:\n",
    "        # Run fastp with adapter detection\n",
    "        subprocess.run([\n",
    "            \"fastp\",\n",
    "            \"-i\", fastq_file,\n",
    "            \"-o\", \"/dev/null\",  \n",
    "            \"--detect_adapter_for_pe\",\n",
    "            \"--json\", json_output,\n",
    "            \"--html\", html_output\n",
    "        ], check=True)\n",
    "        \n",
    "        print(f\"Completed: {fastq_file} → Results saved in {json_output} and {html_output}\")\n",
    "\n",
    "    except subprocess.CalledProcessError as e:\n",
    "        print(f\"Error processing {fastq_file}: {e}\")\n",
    "\n",
    "# Use multiprocessing to run fastp in parallel\n",
    "num_threads = min(4, len(fastq_files))  \n",
    "with multiprocessing.Pool(num_threads) as pool:\n",
    "    pool.map(run_fastp, fastq_files)\n",
    "\n",
    "print(\"\\n### FastP Adapter Detection Completed for All Files! ###\")\n"
   ]
  },
  {
   "cell_type": "code",
   "execution_count": null,
   "id": "e8450978-8ab0-4fb6-b759-0bc639e95c73",
   "metadata": {},
   "outputs": [],
   "source": [
    "# Define the fastp reports directory\n",
    "fastp_reports_dir = \"/mnt/DATA3/daniel/project/01_ATAC_preprocessing/data/fastp_reports\"\n",
    "\n",
    "# Get all JSON reports\n",
    "json_files = [f for f in os.listdir(fastp_reports_dir) if f.endswith(\".json\")]\n",
    "\n",
    "# Process each JSON file\n",
    "for json_file in json_files:\n",
    "    json_path = os.path.join(fastp_reports_dir, json_file)\n",
    "\n",
    "    with open(json_path, \"r\") as file:\n",
    "        data = json.load(file)\n",
    "\n",
    "    # Extract detected adapters\n",
    "    if \"adapter_cutting\" in data:\n",
    "        adapters = data[\"adapter_cutting\"]\n",
    "        print(f\"\\n### Adapters found in {json_file} ###\")\n",
    "        print(json.dumps(adapters, indent=4))\n",
    "    else:\n",
    "        print(f\"\\nNo adapters found in {json_file}\")\n"
   ]
  },
  {
   "cell_type": "markdown",
   "id": "db495f21-1566-42c7-a44b-7c48162c28df",
   "metadata": {},
   "source": [
    "# Overall based on the adapter sequences detected in the FASTQ files, they match the Nextera transposase adapters (CTGTCTCTTATACACATCT...)"
   ]
  }
 ],
 "metadata": {
  "kernelspec": {
   "display_name": "Python 3 (ipykernel)",
   "language": "python",
   "name": "python3"
  },
  "language_info": {
   "codemirror_mode": {
    "name": "ipython",
    "version": 3
   },
   "file_extension": ".py",
   "mimetype": "text/x-python",
   "name": "python",
   "nbconvert_exporter": "python",
   "pygments_lexer": "ipython3",
   "version": "3.9.18"
  }
 },
 "nbformat": 4,
 "nbformat_minor": 5
}
