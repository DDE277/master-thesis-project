{
 "cells": [
  {
   "cell_type": "markdown",
   "id": "4d9dce11-3d7c-493a-bfca-29c08a64e5b0",
   "metadata": {},
   "source": [
    "# Extraction and formatting of cell-type specific marker regions from EPIC-ATAC"
   ]
  },
  {
   "cell_type": "markdown",
   "id": "1786fd17-60e8-4e8c-a17b-fdad977cb165",
   "metadata": {},
   "source": [
    "## Import required libraries"
   ]
  },
  {
   "cell_type": "code",
   "execution_count": null,
   "id": "763cfb79-d9f9-431b-92df-b7297ba5c146",
   "metadata": {},
   "outputs": [],
   "source": [
    "library(EPICATAC)\n",
    "library(tidyr)"
   ]
  },
  {
   "cell_type": "markdown",
   "id": "86f5be26-0a72-411e-bf85-1b689b3805b6",
   "metadata": {},
   "source": [
    "## Define output file path"
   ]
  },
  {
   "cell_type": "code",
   "execution_count": null,
   "id": "ae2d41e7-e647-434e-83a9-9321793f18fd",
   "metadata": {},
   "outputs": [],
   "source": [
    "# Define the output CSV file\n",
    "output_csv <- \"/mnt/DATA3/daniel/project/02_cfDNA_preprocessing/data/cell_types_markers.csv\"\n"
   ]
  },
  {
   "cell_type": "markdown",
   "id": "cd0fe2bf-d3a5-4880-bfe7-5b869f807f84",
   "metadata": {},
   "source": [
    "## Initialize data structure"
   ]
  },
  {
   "cell_type": "code",
   "execution_count": null,
   "id": "b65ddfcc-cef4-4689-894e-e41253603e12",
   "metadata": {},
   "outputs": [],
   "source": [
    "# Extract all cell type markers from the atacRef_TME object\n",
    "all_cell_types <- names(atacRef_TME$markers)\n",
    "\n",
    "# Create an empty data frame to store all markers\n",
    "all_markers_df <- data.frame(cell_type = character(),\n",
    "                             chrom = character(),\n",
    "                             start = numeric(),\n",
    "                             end = numeric(),\n",
    "                             stringsAsFactors = FALSE)"
   ]
  },
  {
   "cell_type": "markdown",
   "id": "6504c038-c126-4609-82e7-a65b688a6caf",
   "metadata": {},
   "source": [
    "## Loop through cell types, combine and save"
   ]
  },
  {
   "cell_type": "code",
   "execution_count": null,
   "id": "52722bd6-dd81-45a8-9e65-f297f1b93e2e",
   "metadata": {},
   "outputs": [],
   "source": [
    "# Loop through each cell type and adjust marker format\n",
    "for (cell_type in all_cell_types) {\n",
    "  # Ensure markers follow the correct pattern \"chrX:12345-67890\"\n",
    "  adjusted_markers <- gsub(\"chr(\\\\w+)-\", \"chr\\\\1:\", atacRef_TME$markers[[cell_type]])\n",
    "  adjusted_markers <- adjusted_markers[grep(\"^chr[0-9XYM]+:\\\\d+-\\\\d+$\", adjusted_markers)]\n",
    "  \n",
    "  # Convert to data frame\n",
    "  cell_type_df <- data.frame(Markers = adjusted_markers, stringsAsFactors = FALSE)\n",
    "\n",
    "  # Split chromosome and positions safely\n",
    "  cell_type_df <- tidyr::separate(cell_type_df, Markers, into = c(\"chrom\", \"start_end\"), sep = \":\", extra = \"drop\", fill = \"right\")\n",
    "  cell_type_df <- tidyr::separate(cell_type_df, start_end, into = c(\"start\", \"end\"), sep = \"-\", extra = \"drop\", fill = \"right\")\n",
    "\n",
    "  # Convert start and end to numeric\n",
    "  cell_type_df$start <- suppressWarnings(as.numeric(cell_type_df$start))\n",
    "  cell_type_df$end <- suppressWarnings(as.numeric(cell_type_df$end))\n",
    "\n",
    "  # Remove rows with NA values\n",
    "  cell_type_df <- cell_type_df[!is.na(cell_type_df$start) & !is.na(cell_type_df$end), ]\n",
    "\n",
    "  # Add cell type column\n",
    "  cell_type_df$cell_type <- cell_type\n",
    "\n",
    "  # Append to the main data frame\n",
    "  all_markers_df <- rbind(all_markers_df, cell_type_df[, c(\"cell_type\", \"chrom\", \"start\", \"end\")])\n",
    "}\n",
    "\n",
    "# Save as CSV file\n",
    "write.csv(all_markers_df, output_csv, row.names = FALSE, quote = FALSE)\n",
    "\n",
    "print(paste(\"Saved:\", output_csv))"
   ]
  },
  {
   "cell_type": "code",
   "execution_count": null,
   "id": "255f6424-37e1-4f7a-9f35-24b1063ecbf5",
   "metadata": {},
   "outputs": [],
   "source": []
  },
  {
   "cell_type": "code",
   "execution_count": null,
   "id": "7a7aca92-190b-4c34-ac37-be669b5ccbb8",
   "metadata": {},
   "outputs": [],
   "source": []
  },
  {
   "cell_type": "code",
   "execution_count": null,
   "id": "b934a5dd-6598-438d-9a7b-e68aae1c3237",
   "metadata": {},
   "outputs": [],
   "source": []
  }
 ],
 "metadata": {
  "kernelspec": {
   "display_name": "R",
   "language": "R",
   "name": "ir"
  },
  "language_info": {
   "codemirror_mode": "r",
   "file_extension": ".r",
   "mimetype": "text/x-r-source",
   "name": "R",
   "pygments_lexer": "r",
   "version": "4.4.2"
  }
 },
 "nbformat": 4,
 "nbformat_minor": 5
}
