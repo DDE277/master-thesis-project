{
 "cells": [
  {
   "cell_type": "markdown",
   "id": "360c533b-585c-4ca9-a9e6-5470971f0771",
   "metadata": {},
   "source": [
    "## Identify and extract universally closed regions across all cell types in sc-zhang reference matrix\n",
    "- Identifies regions with low accessibility across all cell types. \n",
    "- Uses the zhang sc-atac-seq reference matrix.\n",
    "- Filters regions below a defined threshold of 0.4  "
   ]
  },
  {
   "cell_type": "markdown",
   "id": "c9cbdf73-561f-4251-a68a-e0316636df7f",
   "metadata": {},
   "source": [
    "## Import required libraries"
   ]
  },
  {
   "cell_type": "code",
   "execution_count": null,
   "id": "d541ecbf-146f-465f-b18b-f97240e101d1",
   "metadata": {},
   "outputs": [],
   "source": [
    "import pandas as pd\n",
    "import pickle\n",
    "import numpy as np\n",
    "import matplotlib.pyplot as plt\n",
    "import seaborn as sns\n",
    "from sklearn.preprocessing import MinMaxScaler"
   ]
  },
  {
   "cell_type": "markdown",
   "id": "a13c9d31-8465-4ef2-86a9-ca4e7c05212e",
   "metadata": {},
   "source": [
    "## Load sc-zhang reference matrix"
   ]
  },
  {
   "cell_type": "code",
   "execution_count": null,
   "id": "ed29ce01",
   "metadata": {},
   "outputs": [],
   "source": [
    "# Open the formatted Zhang file \n",
    "subset = pd.read_pickle('/mnt/DATA3/daniel/project/04_DA_and_reference_building/data/subset_by_celltype.pkl')"
   ]
  },
  {
   "cell_type": "code",
   "execution_count": null,
   "id": "f1af77f6",
   "metadata": {},
   "outputs": [],
   "source": [
    "# Get first 5 entries to check\n",
    "subset.head()"
   ]
  },
  {
   "cell_type": "markdown",
   "id": "f6bc8a7f-deb9-4c1f-9b54-c6ca17a5d42a",
   "metadata": {},
   "source": [
    "## Explore summary statistics"
   ]
  },
  {
   "cell_type": "code",
   "execution_count": null,
   "id": "0b3f147d-64b8-4d9a-8481-cfd3f1cc4afd",
   "metadata": {},
   "outputs": [],
   "source": [
    "# Get summary statistics for numerical columns\n",
    "subset_stats = subset.describe()"
   ]
  },
  {
   "cell_type": "code",
   "execution_count": null,
   "id": "4506703b-bf56-4d9b-8331-cfa289c8ea21",
   "metadata": {},
   "outputs": [],
   "source": [
    "print(subset_stats)"
   ]
  },
  {
   "cell_type": "markdown",
   "id": "25419878-8f21-485c-a367-1c20aa18cee0",
   "metadata": {},
   "source": [
    "##  Identify regions with universally low accessibility"
   ]
  },
  {
   "cell_type": "code",
   "execution_count": null,
   "id": "df028d5e",
   "metadata": {},
   "outputs": [],
   "source": [
    "# Define low accessibility threshold (adjust as needed)\n",
    "low_threshold = 0.4  \n",
    "\n",
    "# Identify rows where ALL cell types have accessibility ≤ low_threshold\n",
    "low_accessibility_regions = subset[(subset <= low_threshold).all(axis=1)]"
   ]
  },
  {
   "cell_type": "code",
   "execution_count": null,
   "id": "b81fe2b1-6f91-4d76-896e-222d111fe415",
   "metadata": {},
   "outputs": [],
   "source": [
    "print(low_accessibility_regions)"
   ]
  },
  {
   "cell_type": "markdown",
   "id": "e0ea6f68-57c1-47a5-b937-5bd9f41a4068",
   "metadata": {},
   "source": [
    "## Extract genomic coordinates"
   ]
  },
  {
   "cell_type": "code",
   "execution_count": null,
   "id": "ff207d84-87d9-4a15-a4c1-0bb56ff53d1a",
   "metadata": {},
   "outputs": [],
   "source": [
    "# Extract the region column and split it into 'chr', 'start', and 'end' columns\n",
    "regions = low_accessibility_regions.index.to_series().str.split(\"[:-]\", expand=True)\n",
    "regions.columns = [\"chr\", \"start\", \"end\"]\n",
    "\n",
    "# Convert start and end to integers\n",
    "regions[\"start\"] = regions[\"start\"].astype(int)\n",
    "regions[\"end\"] = regions[\"end\"].astype(int)"
   ]
  },
  {
   "cell_type": "code",
   "execution_count": null,
   "id": "fa1c7b47-b542-4a7c-b25a-4735601c3df7",
   "metadata": {},
   "outputs": [],
   "source": [
    "print(regions)"
   ]
  },
  {
   "cell_type": "markdown",
   "id": "36a973bc-5038-4542-8db1-b36606158320",
   "metadata": {},
   "source": [
    "# Save as bed file"
   ]
  },
  {
   "cell_type": "code",
   "execution_count": null,
   "id": "63000fe7-e2c2-48fa-9208-ba1ef36d1963",
   "metadata": {},
   "outputs": [],
   "source": [
    "# Define BED file path\n",
    "bed_file_path = \"/mnt/DATA3/daniel/project/02_cfDNA_preprocessing/data/02_split_chromosomes/universal_closed_regions/universal_closed_regions.bed\"\n",
    "\n",
    "# Save as a BED file \n",
    "regions.to_csv(bed_file_path, sep=\"\\t\", index=False, header=False)\n",
    "\n",
    "print(f\"Saved BED file at: {bed_file_path}\")"
   ]
  },
  {
   "cell_type": "code",
   "execution_count": null,
   "id": "f4df44ad-9300-438d-848b-ed9de6505d06",
   "metadata": {},
   "outputs": [],
   "source": []
  },
  {
   "cell_type": "code",
   "execution_count": null,
   "id": "4e195de3-048a-41a8-b638-02136fffa90e",
   "metadata": {},
   "outputs": [],
   "source": []
  }
 ],
 "metadata": {
  "kernelspec": {
   "display_name": "Python 3 (ipykernel)",
   "language": "python",
   "name": "python3"
  },
  "language_info": {
   "codemirror_mode": {
    "name": "ipython",
    "version": 3
   },
   "file_extension": ".py",
   "mimetype": "text/x-python",
   "name": "python",
   "nbconvert_exporter": "python",
   "pygments_lexer": "ipython3",
   "version": "3.9.18"
  }
 },
 "nbformat": 4,
 "nbformat_minor": 5
}
