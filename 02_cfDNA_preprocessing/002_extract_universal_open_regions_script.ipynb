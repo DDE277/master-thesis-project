{
 "cells": [
  {
   "cell_type": "markdown",
   "id": "ca78631e-56bc-4477-9dea-7430ff6bab15",
   "metadata": {},
   "source": [
    "# Identification and extraction of universal open chromatin regions from raw ATAC-Seq counts\n",
    "- Loads a raw ATAC-seq count matrix from Gabriel et al\n",
    "- Computes the median accessibility for each region\n",
    "- Filters for top 10% most open regions where all samples have accessibility\n",
    "- Extracts chromosome, start, and end positions from region names\n",
    "- Saves the resulting open chromatin regions as a BED file"
   ]
  },
  {
   "cell_type": "markdown",
   "id": "38d9d93c-b5ca-48c9-be69-e817aba59fa8",
   "metadata": {},
   "source": [
    "## Import required libraries"
   ]
  },
  {
   "cell_type": "code",
   "execution_count": null,
   "id": "4cc23231-2444-42fc-a572-12a2b05255bd",
   "metadata": {},
   "outputs": [],
   "source": [
    "import pandas as pd"
   ]
  },
  {
   "cell_type": "markdown",
   "id": "c9e38d6c-202f-4fd4-9b1e-3b4ad4276ccc",
   "metadata": {},
   "source": [
    "## Load raw ATAC-seq count matrix"
   ]
  },
  {
   "cell_type": "code",
   "execution_count": null,
   "id": "cd8afd0e-0ef6-4572-80d3-26831cd5348a",
   "metadata": {},
   "outputs": [],
   "source": [
    "raw_counts_file = \"/mnt/DATA3/daniel/project/01_ATAC_preprocessing/data/gabriel/markers_identification_input_files/raw_counts.txt\""
   ]
  },
  {
   "cell_type": "code",
   "execution_count": null,
   "id": "0b2de809-e237-456b-aeae-3a4ad31bc62e",
   "metadata": {},
   "outputs": [],
   "source": [
    "df_raw_counts = pd.read_csv(raw_counts_file, sep=\"\\t\", header=0, index_col=0)"
   ]
  },
  {
   "cell_type": "code",
   "execution_count": null,
   "id": "d97dfb8d-5694-4452-820d-6d7a40a5bad9",
   "metadata": {},
   "outputs": [],
   "source": [
    "print(df_raw_counts.head())"
   ]
  },
  {
   "cell_type": "markdown",
   "id": "f4ca36e2-45a3-4a8a-a939-f2eb1b3abead",
   "metadata": {},
   "source": [
    "## Compute median accessibility per region and define filter for universal open regions"
   ]
  },
  {
   "cell_type": "code",
   "execution_count": null,
   "id": "539ffea6-eee2-443f-959a-f75899c961bc",
   "metadata": {},
   "outputs": [],
   "source": [
    "# Compute the median accessibility across all samples (row-wise)\n",
    "df_raw_counts[\"median_accessibility\"] = df_raw_counts.median(axis=1)\n",
    "\n",
    "# Compute the 90th percentile threshold based on median accessibility\n",
    "median_threshold = df_raw_counts[\"median_accessibility\"].quantile(0.90)\n",
    "\n",
    "# Filter regions where the median accessibility is in the top 10% and all samples have high accessibility\n",
    "high_threshold = 30  \n",
    "\n",
    "high_accessibility_regions = df_raw_counts[\n",
    "    (df_raw_counts[\"median_accessibility\"] >= median_threshold) &\n",
    "    (df_raw_counts.min(axis=1) >= high_threshold)  \n",
    "\n",
    "]"
   ]
  },
  {
   "cell_type": "code",
   "execution_count": null,
   "id": "d86077cc-1d53-43af-a309-73c01fe5ec28",
   "metadata": {},
   "outputs": [],
   "source": [
    "print(high_accessibility_regions)"
   ]
  },
  {
   "cell_type": "markdown",
   "id": "e0bed6d5-405d-4a69-947b-768b2d7c20b3",
   "metadata": {},
   "source": [
    "## Extract genomic coordinates from region index"
   ]
  },
  {
   "cell_type": "code",
   "execution_count": null,
   "id": "2b2a9a5a-fc55-4700-91e9-572d1fb55cd9",
   "metadata": {},
   "outputs": [],
   "source": [
    "# Extract the region column and split it into 'chr', 'start', and 'end' columns\n",
    "regions = high_accessibility_regions.index.to_series().str.split(\"[:-]\", expand=True)\n",
    "regions.columns = [\"chr\", \"start\", \"end\"]\n",
    "\n",
    "# Convert start and end to integers\n",
    "regions[\"start\"] = regions[\"start\"].astype(int)\n",
    "regions[\"end\"] = regions[\"end\"].astype(int)"
   ]
  },
  {
   "cell_type": "code",
   "execution_count": null,
   "id": "938a2944-ed73-41c4-b29d-91ff76498f8d",
   "metadata": {},
   "outputs": [],
   "source": [
    "print(regions)"
   ]
  },
  {
   "cell_type": "markdown",
   "id": "97c1aa1e-6eec-4823-b4cc-5b7d5698712c",
   "metadata": {},
   "source": [
    "## Save filtered regions as BED file"
   ]
  },
  {
   "cell_type": "code",
   "execution_count": null,
   "id": "5f52d1f3-790e-4669-8f6e-9c2d87c299e2",
   "metadata": {},
   "outputs": [],
   "source": [
    "# Define BED file path\n",
    "bed_file_path = \"/mnt/DATA3/daniel/project/02_cfDNA_preprocessing/data/02_split_chromosomes/universal_open_regions/universal_accessible_regions.bed\"\n",
    "\n",
    "# Save as a BED file (tab-separated, without headers)\n",
    "regions.to_csv(bed_file_path, sep=\"\\t\", index=False, header=False)\n",
    "\n",
    "print(f\"Saved BED file at: {bed_file_path}\")"
   ]
  },
  {
   "cell_type": "code",
   "execution_count": null,
   "id": "61f210f6-cc45-4c28-b5de-9573e90c730a",
   "metadata": {},
   "outputs": [],
   "source": []
  },
  {
   "cell_type": "code",
   "execution_count": null,
   "id": "a3a62094-3c7e-416c-98ab-52d292f9b984",
   "metadata": {},
   "outputs": [],
   "source": []
  }
 ],
 "metadata": {
  "kernelspec": {
   "display_name": "Python 3 (ipykernel)",
   "language": "python",
   "name": "python3"
  },
  "language_info": {
   "codemirror_mode": {
    "name": "ipython",
    "version": 3
   },
   "file_extension": ".py",
   "mimetype": "text/x-python",
   "name": "python",
   "nbconvert_exporter": "python",
   "pygments_lexer": "ipython3",
   "version": "3.9.18"
  }
 },
 "nbformat": 4,
 "nbformat_minor": 5
}
