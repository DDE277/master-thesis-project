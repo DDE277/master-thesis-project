{
 "cells": [
  {
   "cell_type": "markdown",
   "id": "47c91403-b2bf-45bf-91a5-74df6a53d28c",
   "metadata": {},
   "source": [
    "# Creating full-coverage synthetic cfDNA mixtures from reference marker profiles\n",
    "- Loads reference marker profiles and synthetic cell type proportions\n",
    "- Multiplies marker signals with cell type fractions to simulate synthetic cfDNA mixtures\n",
    "- Sums across cell types to get total signal per synthetic sample"
   ]
  },
  {
   "cell_type": "markdown",
   "id": "f2a0cdcd-0b9a-4fd4-96c1-675e49007bd6",
   "metadata": {},
   "source": [
    "## Import required libraries"
   ]
  },
  {
   "cell_type": "code",
   "execution_count": null,
   "id": "6c54f61c-6414-442e-a4e5-6be82706a7e2",
   "metadata": {},
   "outputs": [],
   "source": [
    "import pandas as pd\n",
    "import numpy as np"
   ]
  },
  {
   "cell_type": "markdown",
   "id": "a4b8d807-3d61-44c9-af7a-134e8cae77ce",
   "metadata": {},
   "source": [
    "## Load the reference profile matrix and syn combos"
   ]
  },
  {
   "cell_type": "code",
   "execution_count": null,
   "id": "c2b37871-5fde-4934-a99d-88684eabe323",
   "metadata": {},
   "outputs": [],
   "source": [
    "# File paths\n",
    "file_path_reference_matrix = \"/mnt/DATA3/daniel/project/03_synthetic_samples/data/reference_marker_counts.csv\"\n",
    "file_path_syn_combo        = \"/mnt/DATA3/daniel/project/03_synthetic_samples/data/combinations_syn_samples.csv\"\n",
    "\n",
    "# Load the reference profiles\n",
    "reference_counts_df = pd.read_csv(file_path_reference_matrix)\n",
    "\n",
    "# Load the synthetic combos \n",
    "syn_combo_df = pd.read_csv(file_path_syn_combo, sep=';')\n",
    "syn_combo_df.columns = syn_combo_df.columns.str.strip()\n",
    "\n",
    "# Quick check\n",
    "print(\"reference_counts_df:\\n\", reference_counts_df.head(), \"\\n\")\n",
    "print(\"syn_combo_df:\\n\", syn_combo_df.head(), \"\\n\")"
   ]
  },
  {
   "cell_type": "markdown",
   "id": "1d094cd1-9669-4768-a644-cc5239ef2a6b",
   "metadata": {},
   "source": [
    "## Create synthetic datasets"
   ]
  },
  {
   "cell_type": "code",
   "execution_count": null,
   "id": "e31ef7cb-6417-4d36-8fb1-c318f5ee47c7",
   "metadata": {},
   "outputs": [],
   "source": [
    "def multiply_reference_with_combinations(reference_df, combo_df):\n",
    "    \"\"\"\n",
    "    Multiplies the fractions in the combo_df with the accessibility scores in reference_df\n",
    "    for each corresponding cell type.\n",
    "    \n",
    "    Args:\n",
    "        reference_df (pd.DataFrame): Reference matrix with peaks and cell types.\n",
    "        combo_df (pd.DataFrame): Synthetic combinations with proportions for each cell type.\n",
    "        \n",
    "    Returns:\n",
    "        pd.DataFrame: A new dataframe with the multiplied values.\n",
    "    \"\"\"\n",
    "    # Set peak_id as index for reference matrix\n",
    "    reference_matrix = reference_df.set_index(\"peak_id\")\n",
    "\n",
    "    # Set the first column (combo names) as index for synthetic combinations\n",
    "    combo_matrix = combo_df.set_index(combo_df.columns[0])\n",
    "\n",
    "    # Ensure both have matching cell type column names\n",
    "    common_cell_types = reference_matrix.columns.intersection(combo_matrix.columns)\n",
    "\n",
    "    # Subset to only the common cell types\n",
    "    reference_matrix = reference_matrix[common_cell_types]\n",
    "    combo_matrix = combo_matrix[common_cell_types]\n",
    "\n",
    "    # Perform element-wise multiplication for each combo separately\n",
    "    synthetic_results = {\n",
    "        f\"{combo}\": reference_matrix.multiply(combo_matrix.loc[combo], axis=1)\n",
    "        for combo in combo_matrix.index\n",
    "    }\n",
    "\n",
    "    # Concatenate results along the columns\n",
    "    synthetic_df = pd.concat(synthetic_results, axis=1)\n",
    "\n",
    "    return synthetic_df\n"
   ]
  },
  {
   "cell_type": "code",
   "execution_count": null,
   "id": "e55507de-ea1e-4360-9b48-9516a2010afc",
   "metadata": {},
   "outputs": [],
   "source": [
    "synthetic_multiplied_df = multiply_reference_with_combinations(reference_counts_df, syn_combo_df)"
   ]
  },
  {
   "cell_type": "code",
   "execution_count": null,
   "id": "ed7bb815-432b-4236-a91c-6d6c17e8c386",
   "metadata": {},
   "outputs": [],
   "source": [
    "print(synthetic_multiplied_df)"
   ]
  },
  {
   "cell_type": "code",
   "execution_count": null,
   "id": "316814e6-2b68-4e48-aa8a-a3e502e19aab",
   "metadata": {},
   "outputs": [],
   "source": [
    "# Sum across cell type columns for each combo\n",
    "synthetic_summed_df = synthetic_multiplied_df.groupby(level=0, axis=1).sum()\n",
    "\n",
    "# Display the result\n",
    "print(synthetic_summed_df)"
   ]
  },
  {
   "cell_type": "code",
   "execution_count": null,
   "id": "c3450a5b-3464-40a7-bbdb-5190b6c1a4d1",
   "metadata": {},
   "outputs": [],
   "source": [
    "# Compute basic statistics for the synthetic matrix\n",
    "stats_summary = synthetic_summed_df.describe()\n",
    "print(stats_summary)"
   ]
  },
  {
   "cell_type": "markdown",
   "id": "9e3a9080-76de-4910-8a5b-2e011492e576",
   "metadata": {},
   "source": [
    "## Save dataframe as csv file"
   ]
  },
  {
   "cell_type": "code",
   "execution_count": null,
   "id": "62323b36-2697-45a0-af5b-f413d438b8eb",
   "metadata": {},
   "outputs": [],
   "source": [
    "synthetic_summed_df.to_csv(\"/mnt/DATA3/daniel/project/03_synthetic_samples/data/synthetic_markers_summed.csv\",  index=True)"
   ]
  },
  {
   "cell_type": "code",
   "execution_count": null,
   "id": "ed2bda59-8bce-40fd-9cea-62bc4463a735",
   "metadata": {},
   "outputs": [],
   "source": []
  },
  {
   "cell_type": "code",
   "execution_count": null,
   "id": "dedd57ae-4901-45fb-8515-b0600f168982",
   "metadata": {},
   "outputs": [],
   "source": []
  },
  {
   "cell_type": "code",
   "execution_count": null,
   "id": "028befd1-0869-46f9-9ebe-6576c6a5d66d",
   "metadata": {},
   "outputs": [],
   "source": []
  }
 ],
 "metadata": {
  "kernelspec": {
   "display_name": "Python 3 (ipykernel)",
   "language": "python",
   "name": "python3"
  },
  "language_info": {
   "codemirror_mode": {
    "name": "ipython",
    "version": 3
   },
   "file_extension": ".py",
   "mimetype": "text/x-python",
   "name": "python",
   "nbconvert_exporter": "python",
   "pygments_lexer": "ipython3",
   "version": "3.9.18"
  }
 },
 "nbformat": 4,
 "nbformat_minor": 5
}
