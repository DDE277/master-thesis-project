{
 "cells": [
  {
   "cell_type": "markdown",
   "id": "c93231f4-1cf8-4fee-8a3a-0008e71ed773",
   "metadata": {},
   "source": [
    "# EPIC-ATAC deconvolution of cancer cfDNA samples using the new reference profile"
   ]
  },
  {
   "cell_type": "markdown",
   "id": "ac6fb145-c075-4af4-97d2-43a3e1cfb5af",
   "metadata": {},
   "source": [
    "## Import required libraries"
   ]
  },
  {
   "cell_type": "code",
   "execution_count": null,
   "id": "2ce6e1ae-d5f8-4558-af9b-c5b4fdd2f5c7",
   "metadata": {},
   "outputs": [],
   "source": [
    "library(EPICATAC)\n",
    "library(tidyr)\n",
    "library(ggplot2)\n",
    "library(data.table)\n",
    "library(dplyr)\n",
    "library(reshape2)  \n",
    "library(ggthemes)\n",
    "library(patchwork)\n",
    "library(scales)"
   ]
  },
  {
   "cell_type": "markdown",
   "id": "4e2bfa62-35d9-4f37-ac73-3041a93ecd89",
   "metadata": {},
   "source": [
    "# Load the new atacRef"
   ]
  },
  {
   "cell_type": "code",
   "execution_count": null,
   "id": "7b13e693-f3d9-46c9-9c27-6b1ec5815bf2",
   "metadata": {},
   "outputs": [],
   "source": [
    "# Load the RDS file into R\n",
    "new_atacRef_TME <- readRDS(\"/mnt/DATA3/daniel/project/04_DA_and_reference_building/data/new_atacRef_TME_pairwise.rds\")\n",
    "\n",
    "# Verify the structure of the loaded object\n",
    "str(new_atacRef_TME)\n"
   ]
  },
  {
   "cell_type": "markdown",
   "id": "630e384f-2dcf-47c3-80ec-bb313dc60ec1",
   "metadata": {},
   "source": [
    "## Load cancer cfDNA transformed marker regions"
   ]
  },
  {
   "cell_type": "code",
   "execution_count": null,
   "id": "78ba6495-f566-43b4-b94e-b7ef61ae66e9",
   "metadata": {},
   "outputs": [],
   "source": [
    "# If your file has column names in the first row:\n",
    "df_for_epic <- fread(\"/mnt/DATA3/daniel/project/02_cfDNA_preprocessing/data/03_intersect_mapped/cfDNA_cancer_samples_new/cfDNA_cancer_samples_new.bed\", sep = \"\\t\", header = TRUE) \n",
    "    \n",
    "# Check the result\n",
    "str(df_for_epic)\n",
    "head(df_for_epic)"
   ]
  },
  {
   "cell_type": "markdown",
   "id": "c29442d3-6f21-43c9-8207-42b42f9c3fc9",
   "metadata": {},
   "source": [
    "## Preprocess data for EPIC-ATAC (format regions, samples)"
   ]
  },
  {
   "cell_type": "code",
   "execution_count": null,
   "id": "1a5e832a-c308-470c-90ff-9c23d3247174",
   "metadata": {},
   "outputs": [],
   "source": [
    "# Create region column\n",
    "df_for_epic$region <- paste0(df_for_epic$chrom, \":\", df_for_epic$start, \"-\", df_for_epic$end)\n",
    "\n",
    "# Convert to data.frame \n",
    "df_for_epic <- as.data.frame(df_for_epic)\n",
    "\n",
    "# Make region the rownames\n",
    "rownames(df_for_epic) <- df_for_epic$region\n",
    "\n",
    "df_for_epic <- as.matrix(df_for_epic[, !(colnames(df_for_epic) %in% c(\"chrom\", \"start\", \"end\", \"region\", \"marker_start\", \"marker_end\"))])\n",
    "\n",
    "# Verify\n",
    "str(df_for_epic)\n",
    "head(df_for_epic)\n"
   ]
  },
  {
   "cell_type": "markdown",
   "id": "efee7f6f-f532-48c8-995f-fb6c88692ef1",
   "metadata": {},
   "source": [
    "## Convert counts to TPM-like "
   ]
  },
  {
   "cell_type": "code",
   "execution_count": null,
   "id": "cdb0062f-0b33-4a8e-8455-9920fcc79ee4",
   "metadata": {},
   "outputs": [],
   "source": [
    "tpm_counts <- EPICATAC:::get_TPMlike_counts(df_for_epic)\n",
    "head(tpm_counts)"
   ]
  },
  {
   "cell_type": "markdown",
   "id": "24335c1f-7aa9-4670-8105-fbd21ab7567c",
   "metadata": {},
   "source": [
    "## Run EPIC-ATAC deconvolution on cancer cfDNA samples"
   ]
  },
  {
   "cell_type": "code",
   "execution_count": null,
   "id": "fba8f6b6-53f2-467c-8b0f-4c56b76d8727",
   "metadata": {},
   "outputs": [],
   "source": [
    "results <- EPIC_ATAC(\n",
    "  bulk = tpm_counts,\n",
    "  reference = new_atacRef_TME,\n",
    "  ATAC = TRUE,\n",
    "  withOtherCells = FALSE,\n",
    "  constrainedSum = TRUE,\n",
    "  rangeBasedOptim = TRUE,\n",
    "  genome_version = \"hg38\",\n",
    "  mRNA_cell = NULL,\n",
    "  mRNA_cell_sub = NULL,\n",
    "  scaleExprs = TRUE,\n",
    "  nb_iter = 1000\n",
    ")\n"
   ]
  },
  {
   "cell_type": "markdown",
   "id": "81309ac2-3a2a-42a7-a201-453053d42370",
   "metadata": {},
   "source": [
    "## View the results"
   ]
  },
  {
   "cell_type": "code",
   "execution_count": null,
   "id": "3ef6eaf9-bdb3-4874-a0c9-85e581a04298",
   "metadata": {},
   "outputs": [],
   "source": [
    "# View your results\n",
    "results$cellFractions\n",
    "results$fit.gof"
   ]
  },
  {
   "cell_type": "markdown",
   "id": "5af1021f-85c3-4858-9487-fc56adf28396",
   "metadata": {},
   "source": [
    "## Prepare data for plotting"
   ]
  },
  {
   "cell_type": "code",
   "execution_count": null,
   "id": "eb8360a6-3e31-47b6-b70a-c35825d6328d",
   "metadata": {},
   "outputs": [],
   "source": [
    "# matrix => data.frame\n",
    "df_cellFrac <- as.data.frame(results$cellFractions)\n",
    "\n",
    "# Store sample IDs in a column\n",
    "df_cellFrac$sample <- rownames(df_cellFrac)\n",
    "head(df_cellFrac)\n",
    "\n",
    "# Convert to long format\n",
    "df_long <- pivot_longer(df_cellFrac, \n",
    "                        cols = -sample,  \n",
    "                        names_to = \"cellType\", \n",
    "                        values_to = \"fraction\")"
   ]
  },
  {
   "cell_type": "markdown",
   "id": "8d7dedc4-fb89-4241-855d-eb1a38db8db8",
   "metadata": {},
   "source": [
    "## Import metadata for cancer cfDNA samples"
   ]
  },
  {
   "cell_type": "code",
   "execution_count": null,
   "id": "6fe40f9e-8c8d-4906-8aac-2bb55b8cfa2b",
   "metadata": {},
   "outputs": [],
   "source": [
    "# Define the file path\n",
    "file_path <- \"/mnt/DATA2/cfDNA_finaledb/Cristiano_samplemap.tsv\"\n",
    "\n",
    "# Read the TSV file into a dataframe\n",
    "cristiano_samplemap <- read.delim(file_path, header = TRUE, sep = \"\\t\", stringsAsFactors = FALSE)\n",
    "\n",
    "# View the first few rows\n",
    "head(cristiano_samplemap)\n"
   ]
  },
  {
   "cell_type": "markdown",
   "id": "c9c83fea-f758-48b6-a6a6-b8ede03e7275",
   "metadata": {},
   "source": [
    "## Merge cell fraction data with the sample metadata"
   ]
  },
  {
   "cell_type": "code",
   "execution_count": null,
   "id": "1dd60f38-6b96-4560-98d8-14c111b5f76f",
   "metadata": {},
   "outputs": [],
   "source": [
    "# Ensure 'sample' column exists in both datasets\n",
    "if(!\"sample\" %in% colnames(cristiano_samplemap)){\n",
    "  stop(\"Column 'sample' not found in Cristiano sample map.\")\n",
    "}\n",
    "\n",
    "# Merge the cell fraction data with the sample metadata\n",
    "df_merged <- df_long %>%\n",
    "  left_join(cristiano_samplemap, by = \"sample\")\n",
    "\n",
    "# Check merged structure\n",
    "head(df_merged)\n"
   ]
  },
  {
   "cell_type": "markdown",
   "id": "a2c492e2-17c3-4b21-b681-a3d4ba82bf22",
   "metadata": {},
   "source": [
    "## Exclude Bile Duct Cancer"
   ]
  },
  {
   "cell_type": "code",
   "execution_count": null,
   "id": "3797160d-5b8e-449c-a3f5-2dfc6a38796d",
   "metadata": {},
   "outputs": [],
   "source": [
    "# Exclude Bile Duct Cancer\n",
    "df_filtered <- df_merged %>% filter(Patient.Type != \"Bile Duct Cancer\")\n",
    "\n",
    "# Ensure cell types remain in the original order\n",
    "df_filtered$cellType <- factor(df_filtered$cellType, levels = unique(df_filtered$cellType))\n"
   ]
  },
  {
   "cell_type": "markdown",
   "id": "0f77140c-38e2-4af2-8bae-cd509f7ba7f8",
   "metadata": {},
   "source": [
    "## Plot cell-type proportions in cancer cfDNA samples"
   ]
  },
  {
   "cell_type": "code",
   "execution_count": null,
   "id": "eeeeab98-5739-43b8-99d1-ceb8f634a865",
   "metadata": {},
   "outputs": [],
   "source": [
    "# Adjust display size\n",
    "options(repr.plot.width = 14, repr.plot.height = 14)\n",
    "\n",
    "# Set cell type order \n",
    "cell_order <- c(\n",
    "  \"Bcells\",\n",
    "  \"BRCA\",\n",
    "  \"CD4_Tcells\",\n",
    "  \"CD8_Tcells\",\n",
    "  \"COAD\",\n",
    "  \"DCs\",\n",
    "  \"Endothelial\",\n",
    "  \"Fibroblasts\",\n",
    "  \"Hepatocytes\",\n",
    "  \"LUAD\",\n",
    "  \"LUSC\",\n",
    "  \"Macrophages\",\n",
    "  \"Neutrophils\",\n",
    "  \"NK\"\n",
    ")\n",
    "\n",
    "\n",
    "# Apply order to new cancer dataset\n",
    "df_filtered$cellType <- factor(df_filtered$cellType, levels = cell_order)\n",
    "\n",
    "# Create the new cancer proportions plot\n",
    "p_new_cancer <- ggplot(df_filtered, aes(\n",
    "  x = cellType, \n",
    "  y = fraction,\n",
    "  fill = Patient.Type\n",
    ")) +\n",
    "  geom_boxplot(\n",
    "    width = 0.6,\n",
    "    color = \"black\",     \n",
    "    size = 0.2,\n",
    "    outlier.shape = 16,\n",
    "    outlier.size = 1.0,\n",
    "    outlier.color = \"black\"\n",
    "  ) +\n",
    "  labs(\n",
    "    x = \"\",\n",
    "    y = \"Proportion\"\n",
    "  ) +\n",
    "  scale_y_continuous(expand = c(0, 0), limits = c(0, NA)) +\n",
    "  facet_wrap(~Patient.Type, scales = \"fixed\") +\n",
    "  scale_fill_manual(values = c(\n",
    "    \"Breast Cancer\" = \"lavender\",\n",
    "    \"Colorectal Cancer\" = \"honeydew\",\n",
    "    \"Gastric cancer\" = \"mistyrose\",\n",
    "    \"Lung Cancer\" = \"azure\",\n",
    "    \"Ovarian Cancer\" = \"wheat\",\n",
    "    \"Pancreatic Cancer\" = \"lightgoldenrodyellow\"\n",
    "  )) +\n",
    "  theme_minimal(base_size = 14) +\n",
    "  theme(\n",
    "    axis.text.x = element_text(angle = 45, hjust = 1, size = 14),\n",
    "    axis.text.y = element_text(size = 14),\n",
    "    axis.title.x = element_blank(),\n",
    "    axis.title.y = element_text(size = 16, margin = margin(r = 15)),\n",
    "    strip.text = element_text(size = 16),\n",
    "    legend.position = \"none\"\n",
    "  )\n",
    "\n",
    "# Show the plot\n",
    "p_new_cancer\n",
    "\n",
    "# Save the plot\n",
    "ggsave(\"new_cancer_cfDNA_proportions.png\", p_new_cancer, width = 14, height = 14, dpi = 300)\n"
   ]
  },
  {
   "cell_type": "code",
   "execution_count": null,
   "id": "f95bca7b-c3ce-4b69-be2f-3177126d9861",
   "metadata": {},
   "outputs": [],
   "source": []
  },
  {
   "cell_type": "code",
   "execution_count": null,
   "id": "818d8212-308f-4610-9976-f66e8e403fc4",
   "metadata": {},
   "outputs": [],
   "source": []
  }
 ],
 "metadata": {
  "kernelspec": {
   "display_name": "R",
   "language": "R",
   "name": "ir"
  },
  "language_info": {
   "codemirror_mode": "r",
   "file_extension": ".r",
   "mimetype": "text/x-r-source",
   "name": "R",
   "pygments_lexer": "r",
   "version": "4.4.2"
  }
 },
 "nbformat": 4,
 "nbformat_minor": 5
}
