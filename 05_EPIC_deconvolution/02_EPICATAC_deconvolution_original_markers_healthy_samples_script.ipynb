{
 "cells": [
  {
   "cell_type": "markdown",
   "id": "7e1c36f3-2d0a-4ffb-b328-69f8ac94bcda",
   "metadata": {},
   "source": [
    "# EPIC-ATAC deconvolution of healthy cfDNA samples using the built-in reference profile"
   ]
  },
  {
   "cell_type": "markdown",
   "id": "d1c70de8-91e6-4692-b45a-3c537d28ac2c",
   "metadata": {},
   "source": [
    "## Import required libraries"
   ]
  },
  {
   "cell_type": "code",
   "execution_count": null,
   "id": "a0c7e082-5308-4c7b-9662-038b39b25568",
   "metadata": {},
   "outputs": [],
   "source": [
    "library(EPICATAC)\n",
    "library(tidyr)\n",
    "library(ggplot2)\n",
    "library(data.table)\n",
    "library(dplyr)\n",
    "library(reshape2)  \n",
    "library(ggthemes)\n",
    "library(patchwork)"
   ]
  },
  {
   "cell_type": "markdown",
   "id": "18d5f601-0e08-49c7-8224-bfdcfd109c5f",
   "metadata": {},
   "source": [
    "## Load healthy cfDNA transformed marker regions"
   ]
  },
  {
   "cell_type": "code",
   "execution_count": null,
   "id": "78ba6495-f566-43b4-b94e-b7ef61ae66e9",
   "metadata": {},
   "outputs": [],
   "source": [
    "# Load file\n",
    "df_for_epic <- fread(\"/mnt/DATA3/daniel/project/02_cfDNA_preprocessing/data/03_intersect_mapped/cfDNA_healthy_original/healthy_cfDNA_transformed_marker_regions.bed\", sep = \"\\t\", header = TRUE)\n",
    "\n",
    "# Check the result\n",
    "str(df_for_epic)\n",
    "head(df_for_epic)"
   ]
  },
  {
   "cell_type": "markdown",
   "id": "af899123-d0b8-40ef-9941-0741f8d612a9",
   "metadata": {},
   "source": [
    "## Preprocess data for EPIC-ATAC (format regions, samples)"
   ]
  },
  {
   "cell_type": "code",
   "execution_count": null,
   "id": "1a5e832a-c308-470c-90ff-9c23d3247174",
   "metadata": {},
   "outputs": [],
   "source": [
    "# Create region column\n",
    "df_for_epic$region <- paste0(df_for_epic$chrom, \":\", df_for_epic$start, \"-\", df_for_epic$end)\n",
    "\n",
    "# Convert to data.frame \n",
    "df_for_epic <- as.data.frame(df_for_epic)\n",
    "\n",
    "# Make region the rownames\n",
    "rownames(df_for_epic) <- df_for_epic$region\n",
    "\n",
    "# Drop any non-sample columns\n",
    "sample_cols <- c(\"EE87922\", \"EE87925\", \"EE87927\", \"EE87932\", \"EE87933\")\n",
    "\n",
    "df_for_epic <- df_for_epic[, sample_cols, drop = FALSE]\n",
    "\n",
    "# 6. Verify\n",
    "str(df_for_epic)\n",
    "head(df_for_epic)\n"
   ]
  },
  {
   "cell_type": "markdown",
   "id": "191b9f39-c673-4f53-91bf-d398a6066157",
   "metadata": {},
   "source": [
    "## Convert counts to TPM-like "
   ]
  },
  {
   "cell_type": "code",
   "execution_count": null,
   "id": "cdb0062f-0b33-4a8e-8455-9920fcc79ee4",
   "metadata": {},
   "outputs": [],
   "source": [
    "tpm_counts <- EPICATAC:::get_TPMlike_counts(df_for_epic)\n",
    "head(tpm_counts)"
   ]
  },
  {
   "cell_type": "markdown",
   "id": "8ae65f06-d44b-4d01-a2ca-8986f4dc11d7",
   "metadata": {},
   "source": [
    "## Run EPIC-ATAC deconvolution on healthy cfDNA samples"
   ]
  },
  {
   "cell_type": "code",
   "execution_count": null,
   "id": "fba8f6b6-53f2-467c-8b0f-4c56b76d8727",
   "metadata": {},
   "outputs": [],
   "source": [
    "results <- EPIC_ATAC(\n",
    "  bulk = tpm_counts,\n",
    "  reference = atacRef_TME,\n",
    "  ATAC = TRUE,\n",
    "  withOtherCells = FALSE,\n",
    "  constrainedSum = TRUE,\n",
    "  rangeBasedOptim = TRUE,\n",
    "  genome_version = \"hg38\",\n",
    "  mRNA_cell = NULL,\n",
    "  mRNA_cell_sub = NULL,\n",
    "  scaleExprs = TRUE,\n",
    "  nb_iter = 1000\n",
    ")\n"
   ]
  },
  {
   "cell_type": "markdown",
   "id": "1edcb707-9f11-4f1d-90d1-9718ab99462f",
   "metadata": {},
   "source": [
    "## View deconvolution results"
   ]
  },
  {
   "cell_type": "code",
   "execution_count": null,
   "id": "3ef6eaf9-bdb3-4874-a0c9-85e581a04298",
   "metadata": {},
   "outputs": [],
   "source": [
    "# View your results\n",
    "results$cellFractions\n",
    "results$fit.gof"
   ]
  },
  {
   "cell_type": "markdown",
   "id": "80c1bfe2-06bf-4d56-892a-033094edacb7",
   "metadata": {},
   "source": [
    "## Prepare data for plotting"
   ]
  },
  {
   "cell_type": "code",
   "execution_count": null,
   "id": "257eb232-bd05-49f1-8459-f35b76e87b69",
   "metadata": {},
   "outputs": [],
   "source": [
    "# matrix => data.frame\n",
    "df_cellFrac <- as.data.frame(results$cellFractions)\n",
    "\n",
    "# Store sample IDs in a column\n",
    "df_cellFrac$sample <- rownames(df_cellFrac)\n",
    "head(df_cellFrac)\n",
    "\n",
    "# Convert to long format\n",
    "df_long <- pivot_longer(df_cellFrac, \n",
    "                        cols = -sample,  \n",
    "                        names_to = \"cellType\", \n",
    "                        values_to = \"fraction\")"
   ]
  },
  {
   "cell_type": "markdown",
   "id": "18ae3926-42cf-47c7-a14e-f8639c913c1e",
   "metadata": {},
   "source": [
    "## Plot cell-type proportions in healthy cfDNA samples"
   ]
  },
  {
   "cell_type": "code",
   "execution_count": null,
   "id": "98ae2a90-6ffd-4ff6-9b11-3eaa2d944fbb",
   "metadata": {},
   "outputs": [],
   "source": [
    "# Adjust display size if in Jupyter\n",
    "options(repr.plot.width = 10, repr.plot.height = 10)\n",
    "\n",
    "# Add dummy label for facet title\n",
    "df_long$Patient.Type <- \"Healthy\"\n",
    "\n",
    "# Create the plot\n",
    "p_healthy <- ggplot(df_long, aes(\n",
    "  x = cellType,\n",
    "  y = fraction\n",
    ")) +\n",
    "  geom_boxplot(\n",
    "    width = 0.6,\n",
    "    fill = \"aliceblue\",     \n",
    "    color = \"black\",\n",
    "    size = 0.3,\n",
    "    outlier.shape = 16,\n",
    "    outlier.size = 1.0,\n",
    "    outlier.color = \"black\"\n",
    "  ) +\n",
    "  labs(\n",
    "    x = \"\",\n",
    "    y = \"Proportion\"\n",
    "  ) +\n",
    "  scale_y_continuous(expand = c(0, 0), limits = c(0, NA)) +\n",
    "  facet_wrap(~Patient.Type, strip.position = \"top\") +\n",
    "  theme_minimal(base_size = 20) +\n",
    "  theme(\n",
    "    strip.placement = \"outside\",\n",
    "    strip.text = element_text(size = 24, face = \"plain\", margin = margin(b = 8)),\n",
    "    strip.background = element_blank(),\n",
    "    plot.margin = margin(t = 10, r = 10, b = 10, l = 10),\n",
    "    axis.text.x = element_text(angle = 45, hjust = 1, size = 20),\n",
    "    axis.text.y = element_text(size = 20),\n",
    "    axis.title.x = element_blank(),\n",
    "    axis.title.y = element_text(size = 24, margin = margin(r = 15)),\n",
    "    legend.position = \"none\"\n",
    "  )\n",
    "\n",
    "# Show the plot\n",
    "p_healthy\n",
    "\n",
    "# Save the plot\n",
    "ggsave(\"new_healthy_cfDNA_proportions.png\", p_healthy, width = 10, height = 10, dpi = 300)\n"
   ]
  },
  {
   "cell_type": "code",
   "execution_count": null,
   "id": "bb3d51e5-4ccc-48b0-a570-27ed50baae27",
   "metadata": {},
   "outputs": [],
   "source": []
  }
 ],
 "metadata": {
  "kernelspec": {
   "display_name": "R",
   "language": "R",
   "name": "ir"
  },
  "language_info": {
   "codemirror_mode": "r",
   "file_extension": ".r",
   "mimetype": "text/x-r-source",
   "name": "R",
   "pygments_lexer": "r",
   "version": "4.4.2"
  }
 },
 "nbformat": 4,
 "nbformat_minor": 5
}
