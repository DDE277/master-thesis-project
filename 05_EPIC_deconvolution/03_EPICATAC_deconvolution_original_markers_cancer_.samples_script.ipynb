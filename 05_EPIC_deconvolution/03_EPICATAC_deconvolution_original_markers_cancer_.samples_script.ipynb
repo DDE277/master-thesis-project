{
 "cells": [
  {
   "cell_type": "markdown",
   "id": "b6bf53ae-933f-4c1f-b090-2c51f40e3942",
   "metadata": {},
   "source": [
    "# EPIC-ATAC deconvolution of cancer cfDNA samples using the built-in reference profile"
   ]
  },
  {
   "cell_type": "markdown",
   "id": "d091a665-76d5-47ea-ab52-774b2abd184e",
   "metadata": {},
   "source": [
    "## Import required libraries"
   ]
  },
  {
   "cell_type": "code",
   "execution_count": null,
   "id": "41789e26-c0ff-4504-a436-2e3f0697c521",
   "metadata": {},
   "outputs": [],
   "source": [
    "library(EPICATAC)\n",
    "library(tidyr)\n",
    "library(ggplot2)\n",
    "library(data.table)\n",
    "library(dplyr)\n",
    "library(reshape2)  \n",
    "library(ggthemes)\n",
    "library(patchwork)"
   ]
  },
  {
   "cell_type": "markdown",
   "id": "a2a4842e-0819-4c5a-b5c3-91d4f09f817d",
   "metadata": {},
   "source": [
    "## Load cancer cfDNA transformed marker regions"
   ]
  },
  {
   "cell_type": "code",
   "execution_count": null,
   "id": "78ba6495-f566-43b4-b94e-b7ef61ae66e9",
   "metadata": {},
   "outputs": [],
   "source": [
    "# load file\n",
    "df_for_epic <- fread(\"/mnt/DATA3/daniel/project/02_cfDNA_preprocessing/data/03_intersect_mapped/cfDNA_cancer_samples_original/cfDNA_cancer_samples_original.bed\", sep = \"\\t\", header = TRUE)\n",
    "    \n",
    "# Check the result\n",
    "str(df_for_epic)\n",
    "head(df_for_epic)"
   ]
  },
  {
   "cell_type": "markdown",
   "id": "b8194069-4402-44bb-adb2-5460c028b493",
   "metadata": {},
   "source": [
    "## Preprocess data for EPIC-ATAC (format regions, samples)"
   ]
  },
  {
   "cell_type": "code",
   "execution_count": null,
   "id": "1a5e832a-c308-470c-90ff-9c23d3247174",
   "metadata": {},
   "outputs": [],
   "source": [
    "# Create region column\n",
    "df_for_epic$region <- paste0(df_for_epic$chrom, \":\", df_for_epic$start, \"-\", df_for_epic$end)\n",
    "\n",
    "# Convert to data.frame \n",
    "df_for_epic <- as.data.frame(df_for_epic)\n",
    "\n",
    "# Make region the rownames\n",
    "rownames(df_for_epic) <- df_for_epic$region\n",
    "\n",
    "df_for_epic <- as.matrix(df_for_epic[, !(colnames(df_for_epic) %in% c(\"chrom\", \"start\", \"end\", \"region\", \"marker_start\", \"marker_end\"))])\n",
    "\n",
    "# Verify\n",
    "str(df_for_epic)\n",
    "head(df_for_epic)\n"
   ]
  },
  {
   "cell_type": "markdown",
   "id": "6c746cea-fcdd-477b-a018-f0119130ae05",
   "metadata": {},
   "source": [
    "## Convert counts to TPM-like "
   ]
  },
  {
   "cell_type": "code",
   "execution_count": null,
   "id": "cdb0062f-0b33-4a8e-8455-9920fcc79ee4",
   "metadata": {},
   "outputs": [],
   "source": [
    "tpm_counts <- EPICATAC:::get_TPMlike_counts(df_for_epic)\n",
    "head(tpm_counts)"
   ]
  },
  {
   "cell_type": "markdown",
   "id": "7e02cb77-6bcd-42a4-a9f4-d7bb6841e8b8",
   "metadata": {},
   "source": [
    "## Run EPIC-ATAC deconvolution on cancer cfDNA samples"
   ]
  },
  {
   "cell_type": "code",
   "execution_count": null,
   "id": "fba8f6b6-53f2-467c-8b0f-4c56b76d8727",
   "metadata": {},
   "outputs": [],
   "source": [
    "results <- EPIC_ATAC(\n",
    "  bulk = tpm_counts,\n",
    "  reference = atacRef_TME,\n",
    "  ATAC = TRUE,\n",
    "  withOtherCells = FALSE,\n",
    "  constrainedSum = TRUE,\n",
    "  rangeBasedOptim = TRUE,\n",
    "  genome_version = \"hg38\",\n",
    "  mRNA_cell = NULL,\n",
    "  mRNA_cell_sub = NULL,\n",
    "  scaleExprs = TRUE,\n",
    "  nb_iter = 1000\n",
    ")\n"
   ]
  },
  {
   "cell_type": "markdown",
   "id": "f6c9c142-5af7-4cb4-92e6-6a12ada397e8",
   "metadata": {},
   "source": [
    "# View the results"
   ]
  },
  {
   "cell_type": "code",
   "execution_count": null,
   "id": "3ef6eaf9-bdb3-4874-a0c9-85e581a04298",
   "metadata": {},
   "outputs": [],
   "source": [
    "# View your results\n",
    "results$cellFractions\n",
    "results$fit.gof"
   ]
  },
  {
   "cell_type": "markdown",
   "id": "1c442a04-0b4e-4bb8-84f5-30c8aba8d796",
   "metadata": {},
   "source": [
    "## Prepare data for plotting"
   ]
  },
  {
   "cell_type": "code",
   "execution_count": null,
   "id": "38b95769-d749-4d1a-a171-2bf84dba8de0",
   "metadata": {},
   "outputs": [],
   "source": [
    "# matrix => data.frame\n",
    "df_cellFrac <- as.data.frame(results$cellFractions)\n",
    "\n",
    "# Store sample IDs in a column\n",
    "df_cellFrac$sample <- rownames(df_cellFrac)\n",
    "head(df_cellFrac)\n",
    "\n",
    "# Convert to long format\n",
    "df_long <- pivot_longer(df_cellFrac, \n",
    "                        cols = -sample,  \n",
    "                        names_to = \"cellType\", \n",
    "                        values_to = \"fraction\")"
   ]
  },
  {
   "cell_type": "markdown",
   "id": "fc4189fd-b5e6-43a7-8b25-0095772a6acb",
   "metadata": {},
   "source": [
    "## Import metadata for cancer cfDNA samples"
   ]
  },
  {
   "cell_type": "code",
   "execution_count": null,
   "id": "3466457b-aa36-4d99-8e56-876b5f1ddac3",
   "metadata": {},
   "outputs": [],
   "source": [
    "# Define the file path\n",
    "file_path <- \"/mnt/DATA2/cfDNA_finaledb/Cristiano_samplemap.tsv\"\n",
    "\n",
    "# Read the TSV file into a dataframe\n",
    "cristiano_samplemap <- read.delim(file_path, header = TRUE, sep = \"\\t\", stringsAsFactors = FALSE)\n",
    "\n",
    "# View the first few rows\n",
    "head(cristiano_samplemap)\n"
   ]
  },
  {
   "cell_type": "markdown",
   "id": "ad754352-404a-4c88-89b9-bb360194c535",
   "metadata": {},
   "source": [
    "## Merge cell fraction data with the sample metadata"
   ]
  },
  {
   "cell_type": "code",
   "execution_count": null,
   "id": "2ea29d17-1dc9-4af5-be0e-a85752cd33b0",
   "metadata": {},
   "outputs": [],
   "source": [
    "# Ensure 'sample' column exists in both datasets\n",
    "if(!\"sample\" %in% colnames(cristiano_samplemap)){\n",
    "  stop(\"Column 'sample' not found in Cristiano sample map.\")\n",
    "}\n",
    "\n",
    "# Merge the cell fraction data with the sample metadata\n",
    "df_merged <- df_long %>%\n",
    "  left_join(cristiano_samplemap, by = \"sample\")\n",
    "\n",
    "# Check merged structure\n",
    "head(df_merged)\n"
   ]
  },
  {
   "cell_type": "markdown",
   "id": "3de6ec95-79e1-4bd1-ab30-5223f67df69e",
   "metadata": {},
   "source": [
    "## Exclude Bile Duct Cancer"
   ]
  },
  {
   "cell_type": "code",
   "execution_count": null,
   "id": "5db5ddd7-0b35-4b02-98b6-43f4a519a244",
   "metadata": {},
   "outputs": [],
   "source": [
    "# Exclude Bile Duct Cancer\n",
    "df_filtered <- df_merged %>% filter(Patient.Type != \"Bile Duct Cancer\")\n",
    "\n",
    "# Ensure cell types remain in the original order\n",
    "df_filtered$cellType <- factor(df_filtered$cellType, levels = unique(df_filtered$cellType))\n"
   ]
  },
  {
   "cell_type": "markdown",
   "id": "62ad7ef7-4b33-4488-9289-7f0d4ed56d64",
   "metadata": {},
   "source": [
    "## Plot cell-type proportions in cancer cfDNA samples"
   ]
  },
  {
   "cell_type": "code",
   "execution_count": null,
   "id": "754311b8-e9ee-46d3-88d1-f78683222223",
   "metadata": {},
   "outputs": [],
   "source": [
    "# Adjust display size\n",
    "options(repr.plot.width = 14, repr.plot.height = 14)\n",
    "\n",
    "# Set cell type order \n",
    "cell_order <- c(\n",
    "  \"Bcells\",\n",
    "  \"CD4_Tcells\",\n",
    "  \"CD8_Tcells\",\n",
    "  \"DCs\",\n",
    "  \"Endothelial\",\n",
    "  \"Fibroblasts\",\n",
    "  \"Macrophages\",\n",
    "  \"Neutrophils\",\n",
    "  \"NK\"\n",
    ")\n",
    "\n",
    "# Apply to factor levels in cancer dataset\n",
    "df_filtered$cellType <- factor(df_filtered$cellType, levels = cell_order)\n",
    "\n",
    "# Create the plot\n",
    "p_cancer <- ggplot(df_filtered, aes(\n",
    "  x = cellType, \n",
    "  y = fraction,\n",
    "  fill = Patient.Type  \n",
    ")) +\n",
    "  geom_boxplot(\n",
    "    width = 0.6,\n",
    "    color = \"black\",     \n",
    "    size = 0.2,\n",
    "    outlier.shape = 16,\n",
    "    outlier.size = 1.0,\n",
    "    outlier.color = \"black\"\n",
    "  ) +\n",
    "  labs(\n",
    "    x = \"\",\n",
    "    y = \"Proportion\"\n",
    "  ) +\n",
    "  scale_y_continuous(expand = c(0, 0), limits = c(0, NA)) +\n",
    "  facet_wrap(~Patient.Type, scales = \"fixed\") +\n",
    "  scale_fill_manual(values = c(\n",
    "    \"Breast Cancer\" = \"lavender\",\n",
    "    \"Colorectal Cancer\" = \"honeydew\",\n",
    "    \"Gastric cancer\" = \"mistyrose\",\n",
    "    \"Lung Cancer\" = \"azure\",\n",
    "    \"Ovarian Cancer\" = \"wheat\",\n",
    "    \"Pancreatic Cancer\" = \"lightgoldenrodyellow\"\n",
    "  )) +\n",
    "  theme_minimal(base_size = 14) +\n",
    "  theme(\n",
    "    axis.text.x = element_text(angle = 45, hjust = 1, size = 14),\n",
    "    axis.text.y = element_text(size = 14),\n",
    "    axis.title.x = element_blank(),\n",
    "    axis.title.y = element_text(size = 16, margin = margin(r = 15)),\n",
    "    strip.text = element_text(size = 16),\n",
    "    legend.position = \"none\"\n",
    "  )\n",
    "\n",
    "# Show the plot\n",
    "p_cancer\n",
    "\n",
    "# Save the plot\n",
    "ggsave(\"original_cancer_cfDNA_proportions.png\", p_cancer, width = 14, height = 14, dpi = 300)\n"
   ]
  },
  {
   "cell_type": "code",
   "execution_count": null,
   "id": "87d51962-29ac-4503-9ab6-ab7e3f78bcd5",
   "metadata": {},
   "outputs": [],
   "source": []
  },
  {
   "cell_type": "code",
   "execution_count": null,
   "id": "0eed81ce-5130-4415-968c-bdf0d0d077c8",
   "metadata": {},
   "outputs": [],
   "source": []
  }
 ],
 "metadata": {
  "kernelspec": {
   "display_name": "R",
   "language": "R",
   "name": "ir"
  },
  "language_info": {
   "codemirror_mode": "r",
   "file_extension": ".r",
   "mimetype": "text/x-r-source",
   "name": "R",
   "pygments_lexer": "r",
   "version": "4.4.2"
  }
 },
 "nbformat": 4,
 "nbformat_minor": 5
}
