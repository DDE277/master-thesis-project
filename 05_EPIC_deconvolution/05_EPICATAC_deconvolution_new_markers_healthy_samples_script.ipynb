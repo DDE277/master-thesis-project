{
 "cells": [
  {
   "cell_type": "markdown",
   "id": "1d06010b-2bde-4693-a79c-55189da66fc2",
   "metadata": {},
   "source": [
    "# EPIC-ATAC deconvolution of healthy cfDNA samples using the new reference profile"
   ]
  },
  {
   "cell_type": "markdown",
   "id": "edbe88bf-5a00-4092-a0a3-9ab6824413ad",
   "metadata": {},
   "source": [
    "## Import required libraries"
   ]
  },
  {
   "cell_type": "code",
   "execution_count": null,
   "id": "f9d3651a-5490-437a-96be-b7bcb3262f54",
   "metadata": {},
   "outputs": [],
   "source": [
    "library(EPICATAC)\n",
    "library(tidyr)\n",
    "library(ggplot2)\n",
    "library(data.table)\n",
    "library(dplyr)\n",
    "library(reshape2)  \n",
    "library(ggthemes)\n",
    "library(patchwork)"
   ]
  },
  {
   "cell_type": "markdown",
   "id": "02d3e003-79be-4cf3-be49-2c72f2e2005b",
   "metadata": {},
   "source": [
    "## Load the new atacRef"
   ]
  },
  {
   "cell_type": "code",
   "execution_count": null,
   "id": "22119203-55cd-45c2-8797-1a22743a2386",
   "metadata": {},
   "outputs": [],
   "source": [
    "# Load the RDS file into R\n",
    "new_atacRef_TME <- readRDS(\"/mnt/DATA3/daniel/project/04_DA_and_reference_building/data/new_atacRef_TME_pairwise.rds\")\n",
    "\n",
    "# Verify the structure of the loaded object\n",
    "str(new_atacRef_TME)\n"
   ]
  },
  {
   "cell_type": "markdown",
   "id": "a99078f7-8445-4b81-ac6f-3f104bf5b0bf",
   "metadata": {},
   "source": [
    "## Load healthy cfDNA transformed marker regions"
   ]
  },
  {
   "cell_type": "code",
   "execution_count": null,
   "id": "78ba6495-f566-43b4-b94e-b7ef61ae66e9",
   "metadata": {},
   "outputs": [],
   "source": [
    "# Load files\n",
    "df_for_epic <- fread(\"/mnt/DATA3/daniel/project/02_cfDNA_preprocessing/data/03_intersect_mapped/cfDNA_healthy_new/cfDNA_healthy_samples_new.bed\", sep = \"\\t\", header = TRUE) \n",
    "\n",
    "# Check the result\n",
    "str(df_for_epic)\n",
    "head(df_for_epic)"
   ]
  },
  {
   "cell_type": "markdown",
   "id": "5cca8043-373b-43e3-8924-f6aeb12a1bfa",
   "metadata": {},
   "source": [
    "## Preprocess data for EPIC-ATAC (format regions, samples)"
   ]
  },
  {
   "cell_type": "code",
   "execution_count": null,
   "id": "1a5e832a-c308-470c-90ff-9c23d3247174",
   "metadata": {},
   "outputs": [],
   "source": [
    "# Create region column\n",
    "df_for_epic$region <- paste0(df_for_epic$chrom, \":\", df_for_epic$start, \"-\", df_for_epic$end)\n",
    "\n",
    "# Convert to data.frame \n",
    "df_for_epic <- as.data.frame(df_for_epic)\n",
    "\n",
    "# Make region the rownames\n",
    "rownames(df_for_epic) <- df_for_epic$region\n",
    "\n",
    "# Drop any non-sample columns\n",
    "sample_cols <- c(\"EE87922\", \"EE87925\", \"EE87927\", \"EE87932\", \"EE87933\")\n",
    "\n",
    "df_for_epic <- df_for_epic[, sample_cols, drop = FALSE]\n",
    "\n",
    "# Verify\n",
    "str(df_for_epic)\n",
    "head(df_for_epic)\n"
   ]
  },
  {
   "cell_type": "markdown",
   "id": "28d883da-79d0-4c11-99b0-5721e053b4cb",
   "metadata": {},
   "source": [
    "## Convert counts to TPM-like "
   ]
  },
  {
   "cell_type": "code",
   "execution_count": null,
   "id": "cdb0062f-0b33-4a8e-8455-9920fcc79ee4",
   "metadata": {},
   "outputs": [],
   "source": [
    "tpm_counts <- EPICATAC:::get_TPMlike_counts(df_for_epic)\n",
    "head(tpm_counts)"
   ]
  },
  {
   "cell_type": "markdown",
   "id": "25491eb6-efc0-40ab-bec0-9ef53f00e1f1",
   "metadata": {},
   "source": [
    "## Run EPIC-ATAC deconvolution on healthy cfDNA samples"
   ]
  },
  {
   "cell_type": "code",
   "execution_count": null,
   "id": "fba8f6b6-53f2-467c-8b0f-4c56b76d8727",
   "metadata": {},
   "outputs": [],
   "source": [
    "results <- EPIC_ATAC(\n",
    "  bulk = tpm_counts,\n",
    "  reference = new_atacRef_TME,\n",
    "  ATAC = TRUE,\n",
    "  withOtherCells = FALSE,\n",
    "  constrainedSum = TRUE,\n",
    "  rangeBasedOptim = TRUE,\n",
    "  genome_version = \"hg38\",\n",
    "  mRNA_cell = NULL,\n",
    "  mRNA_cell_sub = NULL,\n",
    "  scaleExprs = TRUE,\n",
    "  nb_iter = 1000\n",
    ")\n"
   ]
  },
  {
   "cell_type": "markdown",
   "id": "6c2fdeeb-3bb3-4f51-a555-7cb1f7c50823",
   "metadata": {},
   "source": [
    "## View deconvolution results"
   ]
  },
  {
   "cell_type": "code",
   "execution_count": null,
   "id": "3ef6eaf9-bdb3-4874-a0c9-85e581a04298",
   "metadata": {},
   "outputs": [],
   "source": [
    "# View your results\n",
    "results$cellFractions\n",
    "results$fit.gof"
   ]
  },
  {
   "cell_type": "markdown",
   "id": "361140a6-6ea8-4759-b691-8cc98184e858",
   "metadata": {},
   "source": [
    "## Prepare data for plotting"
   ]
  },
  {
   "cell_type": "code",
   "execution_count": null,
   "id": "38b95769-d749-4d1a-a171-2bf84dba8de0",
   "metadata": {},
   "outputs": [],
   "source": [
    "# matrix => data.frame\n",
    "df_cellFrac <- as.data.frame(results$cellFractions)\n",
    "\n",
    "# Store sample IDs in a column\n",
    "df_cellFrac$sample <- rownames(df_cellFrac)\n",
    "head(df_cellFrac)\n",
    "\n",
    "# Convert to long format\n",
    "df_long <- pivot_longer(df_cellFrac, \n",
    "                        cols = -sample,  \n",
    "                        names_to = \"cellType\", \n",
    "                        values_to = \"fraction\")"
   ]
  },
  {
   "cell_type": "markdown",
   "id": "166f35d2-010d-4c57-a176-bd06decdfa8f",
   "metadata": {},
   "source": [
    "## Plot cell-type proportions in healthy cfDNA samples"
   ]
  },
  {
   "cell_type": "code",
   "execution_count": null,
   "id": "0f2e7b53-654f-4452-8f2c-5b59577511ee",
   "metadata": {},
   "outputs": [],
   "source": [
    "# Adjust display size if in Jupyter\n",
    "options(repr.plot.width = 10, repr.plot.height = 10)\n",
    "\n",
    "# Add dummy label for facet title\n",
    "df_long$Patient.Type <- \"Healthy\"\n",
    "\n",
    "# Create the plot\n",
    "p_healthy <- ggplot(df_long, aes(\n",
    "  x = cellType,\n",
    "  y = fraction\n",
    ")) +\n",
    "  geom_boxplot(\n",
    "    width = 0.6,\n",
    "    fill = \"aliceblue\",\n",
    "    color = \"black\",\n",
    "    size = 0.3,\n",
    "    outlier.shape = 16,\n",
    "    outlier.size = 1.0,\n",
    "    outlier.color = \"black\"\n",
    "  ) +\n",
    "  labs(\n",
    "    x = \"\",\n",
    "    y = \"Proportion\"\n",
    "  ) +\n",
    "  scale_y_continuous(expand = c(0, 0), limits = c(0, NA)) +\n",
    "  facet_wrap(~Patient.Type, strip.position = \"top\") +\n",
    "  theme_minimal(base_size = 20) +\n",
    "  theme(\n",
    "    strip.placement = \"outside\",\n",
    "    strip.text = element_text(size = 24, face = \"plain\", margin = margin(b = 8)),\n",
    "    strip.background = element_blank(),\n",
    "    plot.margin = margin(t = 10, r = 10, b = 10, l = 10),\n",
    "    axis.text.x = element_text(angle = 45, hjust = 1, size = 20),\n",
    "    axis.text.y = element_text(size = 20),\n",
    "    axis.title.x = element_blank(),\n",
    "    axis.title.y = element_text(size = 24, margin = margin(r = 15)),\n",
    "    legend.position = \"none\"\n",
    "  )\n",
    "\n",
    "# Show the plot\n",
    "p_healthy\n",
    "\n",
    "# Save the plot\n",
    "ggsave(\"new_healthy_cfDNA_proportions.png\", p_healthy, width = 10, height = 10, dpi = 300)\n"
   ]
  },
  {
   "cell_type": "code",
   "execution_count": null,
   "id": "42d70459-4826-47ab-a3a9-4f88f31176cc",
   "metadata": {},
   "outputs": [],
   "source": []
  }
 ],
 "metadata": {
  "kernelspec": {
   "display_name": "R",
   "language": "R",
   "name": "ir"
  },
  "language_info": {
   "codemirror_mode": "r",
   "file_extension": ".r",
   "mimetype": "text/x-r-source",
   "name": "R",
   "pygments_lexer": "r",
   "version": "4.4.2"
  }
 },
 "nbformat": 4,
 "nbformat_minor": 5
}
