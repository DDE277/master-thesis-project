{
 "cells": [
  {
   "cell_type": "markdown",
   "id": "a6a43ce2-2b2b-4585-b38c-6dc727605490",
   "metadata": {},
   "source": [
    "# EPIC-ATAC deconvolution using synthetic cfDNA mixtures across varying coverage levels (down-sampling)"
   ]
  },
  {
   "cell_type": "markdown",
   "id": "ea94a50b-ffb3-42c8-b862-f75c5afe74c2",
   "metadata": {},
   "source": [
    "## Import required libraries"
   ]
  },
  {
   "cell_type": "code",
   "execution_count": null,
   "id": "01cb8f68-82c6-446f-aae1-c05329dea701",
   "metadata": {},
   "outputs": [],
   "source": [
    "library(EPICATAC)\n",
    "library(tidyr)\n",
    "library(ggplot2)\n",
    "library(data.table)\n",
    "library(dplyr)\n",
    "library(reshape2)\n",
    "library(pheatmap)\n",
    "library(IRdisplay)\n",
    "library(scales)\n",
    "library(Metrics)\n",
    "library(viridis)  \n",
    "library(gridExtra) "
   ]
  },
  {
   "cell_type": "markdown",
   "id": "2c8c5fd2-0b52-4a48-a3c9-3e51795db85e",
   "metadata": {},
   "source": [
    "# Load the samples"
   ]
  },
  {
   "cell_type": "code",
   "execution_count": null,
   "id": "78ba6495-f566-43b4-b94e-b7ef61ae66e9",
   "metadata": {},
   "outputs": [],
   "source": [
    "df_true <- read.csv(\"/mnt/DATA3/daniel/project/03_synthetic_samples/data/combinations_syn_samples.csv\", header = TRUE, sep = \";\")\n",
    "rownames(df_true) <- df_true$X\n",
    "df_true$X <- NULL   \n",
    "\n",
    "df_unbiased <- read.csv(\"/mnt/DATA3/daniel/project/03_synthetic_samples/data/synthetic_markers_summed.csv\", , header = TRUE, row.names = 1)\n",
    "            \n",
    "df_0.1x <- read.csv(\"/mnt/DATA3/daniel/project/03_synthetic_samples/data/synthetic_coverage_reduced_0bp/synthetic_dataset_0.1x.csv\", header = TRUE, row.names = 1, sep = \";\")\n",
    "df_0.3x <- read.csv(\"/mnt/DATA3/daniel/project/03_synthetic_samples/data/synthetic_coverage_reduced_0bp/synthetic_dataset_0.3x.csv\", header = TRUE, row.names = 1, sep = \";\")\n",
    "df_1x <- read.csv(\"/mnt/DATA3/daniel/project/03_synthetic_samples/data/synthetic_coverage_reduced_0bp/synthetic_dataset_1x.csv\", header = TRUE, row.names = 1, sep = \";\")\n",
    "df_3x <- read.csv(\"/mnt/DATA3/daniel/project/03_synthetic_samples/data/synthetic_coverage_reduced_0bp/synthetic_dataset_3x.csv\", header = TRUE, row.names = 1, sep = \";\")\n",
    "df_9x <- read.csv(\"/mnt/DATA3/daniel/project/03_synthetic_samples/data/synthetic_coverage_reduced_0bp/synthetic_dataset_9x.csv\", header = TRUE, row.names = 1, sep = \";\")\n",
    "df_30x <- read.csv(\"/mnt/DATA3/daniel/project/03_synthetic_samples/data/synthetic_coverage_reduced_0bp/synthetic_dataset_30x.csv\", header = TRUE, row.names = 1, sep = \";\")\n",
    "df_80x <- read.csv(\"/mnt/DATA3/daniel/project/03_synthetic_samples/data/synthetic_coverage_reduced_0bp/synthetic_dataset_80x.csv\", header = TRUE, row.names = 1, sep = \";\")\n",
    "df_245x <- read.csv(\"/mnt/DATA3/daniel/project/03_synthetic_samples/data/synthetic_coverage_reduced_0bp/synthetic_dataset_245x.csv\", header = TRUE, row.names = 1, sep = \";\")\n"
   ]
  },
  {
   "cell_type": "code",
   "execution_count": null,
   "id": "77b20d4a-e841-4a90-b981-4e074d07cb8f",
   "metadata": {},
   "outputs": [],
   "source": [
    "head(df_true)\n",
    "head(df_unbiased)\n",
    "head(df_9x)  "
   ]
  },
  {
   "cell_type": "markdown",
   "id": "7591dd06-237f-4abe-bf0c-97e0697fc9d8",
   "metadata": {},
   "source": [
    "# Run the deconvolution"
   ]
  },
  {
   "cell_type": "code",
   "execution_count": null,
   "id": "fba8f6b6-53f2-467c-8b0f-4c56b76d8727",
   "metadata": {},
   "outputs": [],
   "source": [
    "results_unbiased <- EPIC_ATAC(\n",
    "  bulk = df_unbiased,\n",
    "  reference = atacRef_TME,\n",
    "  ATAC = TRUE,\n",
    "  withOtherCells = FALSE\n",
    ")\n",
    "\n",
    "df_unbiased_pred <- as.data.frame(results_unbiased$cellFractions)\n"
   ]
  },
  {
   "cell_type": "code",
   "execution_count": null,
   "id": "cbb31936-6b0b-4c0e-8b2c-b46ddf4600fa",
   "metadata": {},
   "outputs": [],
   "source": [
    "head(df_unbiased_pred)"
   ]
  },
  {
   "cell_type": "code",
   "execution_count": null,
   "id": "9086e6ca-3070-4f6f-a753-2517a068afde",
   "metadata": {
    "scrolled": true
   },
   "outputs": [],
   "source": [
    "# Define the biased datasets and output filenames\n",
    "coverage_reduced_datasets <- list(\n",
    "  \"0.1x\" = df_0.1x,\n",
    "  \"0.3x\" = df_0.3x,\n",
    "  \"1x\" = df_1x,\n",
    "  \"3x\" = df_3x,\n",
    "  \"9x\" = df_9x,\n",
    "  \"30x\" = df_30x,\n",
    "  \"80x\" = df_80x,\n",
    "  \"245x\" = df_245x\n",
    ")\n",
    "\n",
    "# Filter out datasets with all zeros\n",
    "coverage_reduced_datasets_filtered <- coverage_reduced_datasets[\n",
    "  sapply(coverage_reduced_datasets, function(df) {\n",
    "    \n",
    "    !(all(df == 0) || all(apply(df, 2, var) == 0))\n",
    "  })\n",
    "]\n",
    "\n",
    "# Run your loop only on those that pass the filter\n",
    "results_list_coverage_reduced <- list()\n",
    "\n",
    "for (name in names(coverage_reduced_datasets_filtered)) {\n",
    "  cat(\"Running deconvolution for:\", name, \"\\n\")\n",
    "  current_df <- coverage_reduced_datasets_filtered[[name]]\n",
    "  \n",
    "  results <- EPIC_ATAC(\n",
    "    bulk = current_df, \n",
    "    reference = atacRef_TME,\n",
    "    ATAC = TRUE,\n",
    "    withOtherCells = FALSE\n",
    "  )\n",
    "  \n",
    "  df_coverage_reduced_pred <- as.data.frame(results$cellFractions)\n",
    "  results_list_coverage_reduced[[name]] <- df_coverage_reduced_pred\n",
    "}\n"
   ]
  },
  {
   "cell_type": "code",
   "execution_count": null,
   "id": "37c5ca90-8002-46f6-be9c-353540918e9f",
   "metadata": {},
   "outputs": [],
   "source": [
    "# print(results_list_coverage_reduced)"
   ]
  },
  {
   "cell_type": "markdown",
   "id": "35a01071-9d5b-4b25-be7f-671f2bf280a7",
   "metadata": {},
   "source": [
    "# Performance analyis - unbiased"
   ]
  },
  {
   "cell_type": "code",
   "execution_count": null,
   "id": "5165cc29-c6d0-421e-8079-73cbf023bf74",
   "metadata": {},
   "outputs": [],
   "source": [
    "# Ensure df_pred_sub and df_true_sub exist\n",
    "df_pred_sub <- df_unbiased_pred \n",
    "df_true_sub <- df_true           \n",
    "\n",
    "# Ensure row names match\n",
    "rownames(df_pred_sub) <- rownames(df_true_sub)\n",
    "\n",
    "# Function to compute RMSE per cell type\n",
    "compute_rmse <- function(pred, obs) {\n",
    "  rmse_val  <- rmse(obs, pred)\n",
    "  return(data.frame(RMSE = round(rmse_val, 3)))\n",
    "}\n",
    "\n",
    "# Compute RMSE for each cell type\n",
    "results_list <- lapply(colnames(df_true_sub), function(ct) {\n",
    "  pred <- df_pred_sub[[ct]]\n",
    "  obs  <- df_true_sub[[ct]]\n",
    "  \n",
    "  rmse_df <- compute_rmse(pred, obs)\n",
    "  rmse_df$celltype <- ct  \n",
    "  return(rmse_df)\n",
    "})\n",
    "\n",
    "# Combine RMSE results into a single dataframe\n",
    "results_df <- do.call(rbind, results_list)"
   ]
  },
  {
   "cell_type": "code",
   "execution_count": null,
   "id": "674534e5-fb3d-4da0-b630-58cbd34f6ebe",
   "metadata": {},
   "outputs": [],
   "source": [
    "# Convert true values to long format\n",
    "df_long_true <- df_true_sub %>%\n",
    "  mutate(combo = rownames(.)) %>%\n",
    "  melt(id.vars = \"combo\", variable.name = \"cell_type\", value.name = \"true_value\")\n",
    "\n",
    "# Convert unbiased predictions to long format\n",
    "df_long_unbiased <- df_pred_sub %>%\n",
    "  mutate(combo = rownames(.)) %>%\n",
    "  melt(id.vars = \"combo\", variable.name = \"cell_type\", value.name = \"pred_unbiased\")\n",
    "\n",
    "# Merge true and predicted values\n",
    "df_compare_unbiased <- df_long_true %>%\n",
    "  left_join(df_long_unbiased, by = c(\"combo\", \"cell_type\"))\n",
    "\n",
    "# Merge RMSE values\n",
    "df_metrics <- results_df %>%\n",
    "  mutate(RMSE = round(RMSE, 3)) %>%\n",
    "  select(celltype, RMSE) %>%\n",
    "  rename(cell_type = celltype)  \n",
    "\n",
    "df_compare_unbiased <- df_compare_unbiased %>%\n",
    "  left_join(df_metrics, by = \"cell_type\")\n",
    "\n",
    "# Check structure\n",
    "str(df_compare_unbiased)\n",
    "head(df_compare_unbiased)\n"
   ]
  },
  {
   "cell_type": "code",
   "execution_count": null,
   "id": "8ab748da-447d-4264-a102-d9483afebf48",
   "metadata": {},
   "outputs": [],
   "source": [
    "compute_ccc_manual <- function(pred, obs) {\n",
    "  mu_x <- mean(pred)\n",
    "  mu_y <- mean(obs)\n",
    "  var_x <- var(pred)\n",
    "  var_y <- var(obs)\n",
    "  cov_xy <- cov(pred, obs)\n",
    "  \n",
    "  numerator <- 2 * cov_xy\n",
    "  denominator <- var_x + var_y + (mu_x - mu_y)^2\n",
    "  \n",
    "  return(numerator / denominator)  \n",
    "}"
   ]
  },
  {
   "cell_type": "code",
   "execution_count": null,
   "id": "8e9bf3e9-7079-4b33-aeb7-c5831f090df4",
   "metadata": {},
   "outputs": [],
   "source": [
    "# Compute CCC manually for each cell type\n",
    "df_ccc_results <- data.frame(\n",
    "  cell_type = colnames(df_true),\n",
    "  CCC = sapply(colnames(df_true), function(ct) {\n",
    "    compute_ccc_manual(df_pred_sub[[ct]], df_true[[ct]])\n",
    "  })\n",
    ")\n",
    "\n",
    "print(df_ccc_results)"
   ]
  },
  {
   "cell_type": "code",
   "execution_count": null,
   "id": "c8435e07-5b9a-4849-809b-442e2b0ec02f",
   "metadata": {},
   "outputs": [],
   "source": [
    "# Merge CCC values into df_compare_unbiased\n",
    "df_compare_unbiased <- df_compare_unbiased %>%\n",
    "  left_join(df_ccc_results, by = \"cell_type\")"
   ]
  },
  {
   "cell_type": "code",
   "execution_count": null,
   "id": "e04e1244-c6f0-475f-a10e-d2b70b4600cd",
   "metadata": {},
   "outputs": [],
   "source": [
    "options(repr.plot.width=10, repr.plot.height=8)\n"
   ]
  },
  {
   "cell_type": "code",
   "execution_count": null,
   "id": "d61ecf01-3dd6-4338-99df-bc7b98e6b049",
   "metadata": {},
   "outputs": [],
   "source": [
    "ggplot(df_compare_unbiased, aes(x = true_value, y = pred_unbiased)) +\n",
    "  geom_point(alpha = 0.6, color = \"blue\") +  \n",
    "  facet_wrap(~cell_type, scales = \"fixed\") + \n",
    "  geom_abline(slope = 1, intercept = 0, linetype = \"dashed\", color = \"grey\") +  \n",
    "  geom_text(aes(x = 0.60, y = 0.98, \n",
    "                label = paste0(\"CCC=\", format(round(CCC, 3), nsmall = 3))),  \n",
    "            hjust = 0, size = 4, color = \"grey30\") +  \n",
    "  geom_text(aes(x = 0.60, y = 0.89, \n",
    "                label = paste0(\"RMSE=\", format(round(RMSE, 3), nsmall = 3))),  \n",
    "            hjust = 0, size = 4, color = \"grey30\") +  \n",
    "  scale_x_continuous(limits = c(0, 1.0)) + \n",
    "  scale_y_continuous(limits = c(0, 1.0)) +  \n",
    "  theme_bw(base_size = 16) +\n",
    "  labs(\n",
    "    x = \"True proportions\", \n",
    "    y = \"Predicted proportions\",\n",
    "    title = \"True vs. predicted cell-type proportions\"\n",
    "  ) +\n",
    "  theme(\n",
    "    legend.position = \"none\",\n",
    "    plot.title = element_text(face = \"bold\", size = 16, hjust = 0.5)\n",
    "  )\n",
    "\n",
    "# Save the plot in high resolution (300 dpi)\n",
    "ggsave(\"full_coverage.png\", dpi = 600, width = 10, height = 8)\n"
   ]
  },
  {
   "cell_type": "markdown",
   "id": "19ac592b-0bb5-4366-b491-bb6735e71d22",
   "metadata": {},
   "source": [
    "# Performance analyis - Coverage reduction"
   ]
  },
  {
   "cell_type": "markdown",
   "id": "1d5c78ce-8219-4e66-a2ac-62e922258cf3",
   "metadata": {},
   "source": [
    "### RSME calculation"
   ]
  },
  {
   "cell_type": "code",
   "execution_count": null,
   "id": "28fc8135-78a5-428c-bd64-424372c5a306",
   "metadata": {},
   "outputs": [],
   "source": [
    "# Initialize a list to store RMSE results\n",
    "rmse_results_list <- list()\n",
    "\n",
    "# Loop through all coverage-reduced datasets\n",
    "for (name in names(results_list_coverage_reduced)) {\n",
    "  \n",
    "  print(paste(\"Computing RMSE for:\", name))\n",
    "  \n",
    "  # Extract predicted values for the current coverage-reduced dataset\n",
    "  df_coverage_reduced_pred <- results_list_coverage_reduced[[name]]\n",
    "  \n",
    "  # Ensure row names match\n",
    "  rownames(df_coverage_reduced_pred) <- rownames(df_true)\n",
    "\n",
    "  # Compute RMSE for each cell type\n",
    "  results_list_rmse <- lapply(colnames(df_true), function(ct) {\n",
    "    pred <- df_coverage_reduced_pred[[ct]]\n",
    "    obs  <- df_true[[ct]]\n",
    "    \n",
    "    rmse_df <- data.frame(RMSE = round(rmse(obs, pred), 3), cell_type = ct)\n",
    "    return(rmse_df)\n",
    "  })\n",
    "\n",
    "  # Combine RMSE results into a single dataframe\n",
    "  results_df <- do.call(rbind, results_list_rmse)\n",
    "\n",
    "  # Store in the RMSE results list\n",
    "  rmse_results_list[[name]] <- results_df\n",
    "}\n",
    "\n",
    "print(\"All RMSE calculations completed.\")"
   ]
  },
  {
   "cell_type": "code",
   "execution_count": null,
   "id": "dcaeb4d9-f5be-43e3-bebb-7314734f5f91",
   "metadata": {},
   "outputs": [],
   "source": [
    "# Combine all RMSE results into a single dataframe for easy comparison\n",
    "rmse_results_df <- do.call(rbind, lapply(names(rmse_results_list), function(name) {\n",
    "  df <- rmse_results_list[[name]]\n",
    "  df$dataset <- name  \n",
    "  return(df)\n",
    "}))\n"
   ]
  },
  {
   "cell_type": "markdown",
   "id": "63b6c082-a64f-45f1-b899-a0d69cdfbb0d",
   "metadata": {},
   "source": [
    "#  Comparison Dataframe"
   ]
  },
  {
   "cell_type": "code",
   "execution_count": null,
   "id": "6c325446-9fd7-4ee7-ae5e-1ad9a935737d",
   "metadata": {},
   "outputs": [],
   "source": [
    "# Initialize a list to store comparison data for each coverage-reduced dataset\n",
    "df_compare_coverage_reduced_list <- list()\n",
    "\n",
    "# Loop through all coverage-reduced datasets\n",
    "for (name in names(results_list_coverage_reduced)) {\n",
    "  \n",
    "  print(paste(\"Processing:\", name))\n",
    "  \n",
    "  # Extract predicted values for the current dataset\n",
    "  df_coverage_reduced_pred <- results_list_coverage_reduced[[name]]\n",
    "  \n",
    "  # Ensure row names match\n",
    "  rownames(df_coverage_reduced_pred) <- rownames(df_true)\n",
    "\n",
    "  # Convert true values to long format\n",
    "  df_long_true <- df_true %>%\n",
    "    mutate(combo = rownames(.)) %>%\n",
    "    melt(id.vars = \"combo\", variable.name = \"cell_type\", value.name = \"true_value\")\n",
    "\n",
    "  # Convert coverage-reduced predictions to long format\n",
    "  df_long_coverage_reduced <- df_coverage_reduced_pred %>%\n",
    "    mutate(combo = rownames(.)) %>%\n",
    "    melt(id.vars = \"combo\", variable.name = \"cell_type\", value.name = \"pred_coverage_reduced\")\n",
    "\n",
    "  # Merge true and predicted values\n",
    "  df_compare_coverage_reduced <- df_long_true %>%\n",
    "    left_join(df_long_coverage_reduced, by = c(\"combo\", \"cell_type\"))\n",
    "\n",
    "  # Get RMSE values for this dataset\n",
    "  df_metrics <- rmse_results_list[[name]] %>%\n",
    "    mutate(RMSE = round(RMSE, 3)) %>%\n",
    "    select(cell_type, RMSE)\n",
    "\n",
    "  # Merge RMSE values\n",
    "  df_compare_coverage_reduced <- df_compare_coverage_reduced %>%\n",
    "    left_join(df_metrics, by = \"cell_type\")\n",
    "\n",
    "  # Store results in the list\n",
    "  df_compare_coverage_reduced_list[[name]] <- df_compare_coverage_reduced\n",
    "}\n",
    "\n",
    "print(\"All datasets processed successfully.\")\n"
   ]
  },
  {
   "cell_type": "markdown",
   "id": "d4463ea4-c7ea-46f4-ad3d-733c1a1c07ea",
   "metadata": {},
   "source": [
    "#  CCC Calculation"
   ]
  },
  {
   "cell_type": "code",
   "execution_count": null,
   "id": "e31ad480-11ed-4763-8baa-cf0e35334071",
   "metadata": {},
   "outputs": [],
   "source": [
    "# Initialize a list to store CCC results\n",
    "ccc_results_list <- list()\n",
    "\n",
    "# Compute CCC for all coverage-reduced datasets\n",
    "for (name in names(results_list_coverage_reduced)) {\n",
    "  \n",
    "  print(paste(\"Computing CCC for:\", name))\n",
    "  \n",
    "  # Extract predicted values for the current dataset\n",
    "  df_coverage_reduced_pred <- results_list_coverage_reduced[[name]]\n",
    "  \n",
    "  # Ensure row names match\n",
    "  rownames(df_coverage_reduced_pred) <- rownames(df_true)\n",
    "\n",
    "  # Compute CCC for each cell type\n",
    "  results_list_ccc <- lapply(colnames(df_true), function(ct) {\n",
    "    pred <- df_coverage_reduced_pred[[ct]]\n",
    "    obs  <- df_true[[ct]]\n",
    "    \n",
    "    ccc_df <- data.frame(CCC = round(compute_ccc_manual(obs, pred), 3), cell_type = ct)\n",
    "    return(ccc_df)\n",
    "  })\n",
    "\n",
    "  # Combine CCC results into a single dataframe\n",
    "  results_df_ccc <- do.call(rbind, results_list_ccc)\n",
    "\n",
    "  # Store in the CCC results list\n",
    "  ccc_results_list[[name]] <- results_df_ccc\n",
    "}\n",
    "\n",
    "print(\"All CCC calculations completed.\")\n"
   ]
  },
  {
   "cell_type": "markdown",
   "id": "551bc903-6870-4fb2-b8ea-eb70d844329c",
   "metadata": {},
   "source": [
    "# Final data merging for RMSE % CCC"
   ]
  },
  {
   "cell_type": "code",
   "execution_count": null,
   "id": "029db433-cc68-49ca-be05-6afb6ab2fe87",
   "metadata": {},
   "outputs": [],
   "source": [
    "# Loop through all coverage-reduced datasets\n",
    "for (name in names(results_list_coverage_reduced)) {\n",
    "  \n",
    "  print(paste(\"Processing:\", name))\n",
    "  \n",
    "  # Extract predicted values for the current dataset\n",
    "  df_coverage_reduced_pred <- results_list_coverage_reduced[[name]]\n",
    "  \n",
    "  # Ensure row names match\n",
    "  rownames(df_coverage_reduced_pred) <- rownames(df_true)\n",
    "\n",
    "  # Convert true values to long format\n",
    "  df_long_true <- df_true %>%\n",
    "    mutate(combo = rownames(.)) %>%\n",
    "    melt(id.vars = \"combo\", variable.name = \"cell_type\", value.name = \"true_value\")\n",
    "\n",
    "  # Convert coverage-reduced predictions to long format\n",
    "  df_long_coverage_reduced <- df_coverage_reduced_pred %>%\n",
    "    mutate(combo = rownames(.)) %>%\n",
    "    melt(id.vars = \"combo\", variable.name = \"cell_type\", value.name = \"pred_coverage_reduced\")\n",
    "\n",
    "  # Merge true and predicted values\n",
    "  df_compare_coverage_reduced <- df_long_true %>%\n",
    "    left_join(df_long_coverage_reduced, by = c(\"combo\", \"cell_type\"))\n",
    "\n",
    "  # Get RMSE values for this dataset\n",
    "  df_metrics <- rmse_results_list[[name]] %>%\n",
    "    mutate(RMSE = round(RMSE, 3)) %>%\n",
    "    select(cell_type, RMSE)\n",
    "\n",
    "  # Get CCC values for this dataset\n",
    "  df_ccc_metrics <- ccc_results_list[[name]] %>%\n",
    "    mutate(CCC = round(CCC, 3)) %>%\n",
    "    select(cell_type, CCC)\n",
    "\n",
    "  # Merge RMSE & CCC values\n",
    "  df_compare_coverage_reduced <- df_compare_coverage_reduced %>%\n",
    "    left_join(df_metrics, by = \"cell_type\") %>%\n",
    "    left_join(df_ccc_metrics, by = \"cell_type\")\n",
    "\n",
    "  # Store results in the list\n",
    "  df_compare_coverage_reduced_list[[name]] <- df_compare_coverage_reduced\n",
    "}\n"
   ]
  },
  {
   "cell_type": "markdown",
   "id": "f72602e4-3ec8-4152-a86f-448ff9a56675",
   "metadata": {},
   "source": [
    "# Plot generation"
   ]
  },
  {
   "cell_type": "code",
   "execution_count": null,
   "id": "c908de04-994d-4851-8f15-866d0fa2046d",
   "metadata": {},
   "outputs": [],
   "source": [
    "options(repr.plot.width=28, repr.plot.height=36)"
   ]
  },
  {
   "cell_type": "code",
   "execution_count": null,
   "id": "7e01c858-1ff8-4bb4-83a9-a5d95464620b",
   "metadata": {},
   "outputs": [],
   "source": [
    "# List to store plots\n",
    "plot_list <- list()\n",
    "\n",
    "# Count number of datasets for layout handling\n",
    "num_plots <- length(df_compare_coverage_reduced_list)\n",
    "num_cols <- 2  \n",
    "num_rows <- ceiling(num_plots / num_cols)  \n",
    "\n",
    "for (i in seq_along(names(df_compare_coverage_reduced_list))) {\n",
    "  name <- names(df_compare_coverage_reduced_list)[i]\n",
    "  print(paste(\"Generating plot for:\", name))\n",
    "\n",
    "  df_compare_coverage_reduced <- df_compare_coverage_reduced_list[[name]]\n",
    "\n",
    "  # Determine position in the grid\n",
    "  is_bottom_row <- i > (num_plots - num_cols)\n",
    "  is_top_row <- i <= num_cols\n",
    "  is_left_col <- (i %% num_cols == 1)\n",
    "  is_right_col <- (i %% num_cols == 0)\n",
    "\n",
    "  p <- ggplot(df_compare_coverage_reduced, aes(x = true_value, y = pred_coverage_reduced)) +\n",
    "    geom_point(alpha = 0.6, color = \"blue\") +  \n",
    "    facet_wrap(~cell_type, scales = \"fixed\") + \n",
    "    geom_abline(slope = 1, intercept = 0, linetype = \"dashed\", color = \"grey\") + \n",
    "    \n",
    "    # CCC and RMSE positioned better\n",
    "    geom_text(aes(x = 0.60, y = 0.95, label = paste0(\"CCC=\", round(CCC, 3))), \n",
    "              hjust = 0, size = 5, color = \"grey30\") +\n",
    "    geom_text(aes(x = 0.60, y = 0.80, label = paste0(\"RMSE=\", round(RMSE, 3))),  \n",
    "              hjust = 0, size = 5, color = \"grey30\") + \n",
    "\n",
    "    scale_x_continuous(limits = c(0, 1.0)) + \n",
    "    scale_y_continuous(limits = c(0, 1.0)) +  \n",
    "    theme_bw(base_size = 18) + \n",
    "    theme(\n",
    "      plot.title = element_text(face = \"bold\", size = 20, hjust = 0.5),\n",
    "      strip.text = element_text(size = 16),  \n",
    "      axis.text = element_text(size = 16),\n",
    "      axis.title = element_text(size = 16),\n",
    "\n",
    "      # Force panel borders to prevent missing edges\n",
    "      panel.border = element_rect(color = \"black\", fill = NA, size = 0.5),\n",
    "\n",
    "      # Remove y-axis line for second column (inner plots)\n",
    "      axis.line.y = if (is_right_col || is_left_col) element_line(color = \"black\", size = 0.75) else element_blank(),\n",
    "\n",
    "      # Only apply x-axis line on the bottom row\n",
    "      axis.line.x = if (is_bottom_row) element_line(color = \"black\", size = 0.75) else element_blank(),\n",
    "\n",
    "      # Remove excess tick labels inside the grid\n",
    "      axis.text.x = if (is_bottom_row) element_text(size = 14) else element_blank(),\n",
    "      axis.text.y = if (is_left_col) element_text(size = 14) else element_blank(),\n",
    "\n",
    "      # Ensure axis titles are only on the outermost edges\n",
    "      axis.title.x = if (is_bottom_row) element_text(size = 16, margin = margin(t = 10)) else element_blank(),\n",
    "      axis.title.y = if (is_left_col) element_text(size = 16, margin = margin(r = 10)) else element_blank()\n",
    "    ) +\n",
    "    labs(\n",
    "      x = \"True proportions\", \n",
    "      y = \"Predicted proportions\",\n",
    "      title = paste(name, \"coverage\")\n",
    "    )\n",
    "\n",
    "  plot_list[[name]] <- p\n",
    "}\n",
    "\n",
    "# Arrange the plots\n",
    "grid_plot <- grid.arrange(grobs = plot_list, ncol = num_cols)\n",
    "\n",
    "# Save with larger size and better resolution\n",
    "ggsave(\"coverage_reduction.png\", plot = grid_plot, dpi = 500, width = 28, height = 36)\n"
   ]
  },
  {
   "cell_type": "code",
   "execution_count": null,
   "id": "41497522-5e70-4d05-b880-79c58c09710d",
   "metadata": {},
   "outputs": [],
   "source": []
  },
  {
   "cell_type": "code",
   "execution_count": null,
   "id": "6ef54a9e-85e4-4058-8933-bd060d379c08",
   "metadata": {},
   "outputs": [],
   "source": []
  },
  {
   "cell_type": "code",
   "execution_count": null,
   "id": "8fba593c-9e95-4cb5-b191-93f0d3a5650a",
   "metadata": {},
   "outputs": [],
   "source": []
  },
  {
   "cell_type": "code",
   "execution_count": null,
   "id": "dd52dc36-bb50-440d-b587-c6b9d5bedfbb",
   "metadata": {},
   "outputs": [],
   "source": []
  }
 ],
 "metadata": {
  "kernelspec": {
   "display_name": "R",
   "language": "R",
   "name": "ir"
  },
  "language_info": {
   "codemirror_mode": "r",
   "file_extension": ".r",
   "mimetype": "text/x-r-source",
   "name": "R",
   "pygments_lexer": "r",
   "version": "4.4.2"
  }
 },
 "nbformat": 4,
 "nbformat_minor": 5
}
